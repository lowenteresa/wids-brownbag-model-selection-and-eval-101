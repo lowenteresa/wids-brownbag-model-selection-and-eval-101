{
 "cells": [
  {
   "cell_type": "markdown",
   "metadata": {},
   "source": [
    "![alt text](source\\wids-logo.png) <br>\n",
    "### Women in Data Science Brown Bag Series: Model Selection, Evaluation, and Parameter Tuning\n",
    "Sian Lewis (lewis_sian@bah.com)<br>\n",
    "Marissa Wiener (wiener_marissa@bah.com)<br>\n",
    "<br>\n",
    "February 7, 2019"
   ]
  },
  {
   "cell_type": "markdown",
   "metadata": {},
   "source": [
    "In this brown bag, we explore model selection, hyperparameter tuning, and model evaluation for classic regression and classification models. Learn to choose the best model/algorithm for prediction through different techniques."
   ]
  },
  {
   "cell_type": "markdown",
   "metadata": {},
   "source": [
    "### **Part 1:** Model Selection <br>\n",
    "When choosing a model, consider the objective and use of the model. Some main considerations are listed below: <br><br>\n",
    "**Data**<br>\n",
    "How many features and instances are in your dataset? <br>\n",
    "Is your data sparse? <br>\n",
    "Are there a lot of null values? Are nulls biased? <br>\n",
    "Are the attributes in your data correlated?<br>\n",
    "Are you predicting a continuous or categorical variable?<br><br>\n",
    "**Interpretability** <br>\n",
    "Is your purpose accuracy only? Does interpretability not matter at all? <br>\n",
    "Are there regulations or other business/legal considerations which require an explanation of the model <br>\n",
    "Could the interpretability of your model be used for other business applications?<br><br>\n",
    "**Speed**<br>\n",
    "Is speed of fit important? <br>\n",
    "Are there any limitations to computing power? <br>"
   ]
  },
  {
   "cell_type": "markdown",
   "metadata": {},
   "source": [
    "![alt text](source\\machinelearning_cheatsheet.png)<br>\n",
    "**MW NOTE:** Even though this is a SAS graphic, I like this. Maybe recreate something similar but incorporate something about dimensions of data? Lmk what you think."
   ]
  },
  {
   "cell_type": "markdown",
   "metadata": {},
   "source": [
    "Let's consider an of model selection for Classification Models:\n",
    "- *Logistic Regression:* no correlated features, not great to use with a ton of features, highly interpretable output\n",
    "- *Tree Based Methods:* many features which could be correlated, seeking accuracy but willing to sacrifice a bit of interpretation\n",
    "    - *Random Forest:* uses bagging to train data (average of model output trained on randomly selected data with replacement), harder to overfit and easier to tune, good with very large data\n",
    "    - *Gradient Boosted Trees:* train base model, then fit subsequent additive models to residuals, good for imbalanced classes, seeking accuracy, be careful about overfitting; flexible to all differentiable loss functions\n",
    "- *Neural Nets:* many features, seeking accuracy and no need for interpretation"
   ]
  },
  {
   "cell_type": "markdown",
   "metadata": {},
   "source": [
    "### **Part 2:** Model Evaluation"
   ]
  },
  {
   "cell_type": "code",
   "execution_count": 22,
   "metadata": {},
   "outputs": [],
   "source": [
    "import zipfile as z\n",
    "import pandas as pd\n",
    "import seaborn as sns\n",
    "import re\n",
    "import math\n",
    "import numpy as np\n",
    "from sklearn.model_selection import train_test_split\n",
    "from sklearn.linear_model import LogisticRegression\n",
    "from sklearn.ensemble import RandomForestClassifier\n",
    "from sklearn.metrics import classification_report, roc_curve, auc, accuracy_score\n",
    "import matplotlib.pyplot as plt\n",
    "%matplotlib inline"
   ]
  },
  {
   "cell_type": "code",
   "execution_count": 20,
   "metadata": {},
   "outputs": [],
   "source": [
    "# if you don't have the following packages installed, you can do so here\n",
    "!pip install shap\n",
    "!pip install -U imbalanced-learn\n",
    "!pip install xgboost\n",
    "import xgboost as xgb"
   ]
  },
  {
   "cell_type": "markdown",
   "metadata": {},
   "source": [
    "**Get to know the Data**\n",
    "- Food inspection data from Illinois, indicates pass/fail criteria\n",
    "- Available on Kaggle: https://www.kaggle.com/chicago/chi-restaurant-inspections"
   ]
  },
  {
   "cell_type": "code",
   "execution_count": 23,
   "metadata": {
    "scrolled": true
   },
   "outputs": [
    {
     "data": {
      "text/html": [
       "<div>\n",
       "<style scoped>\n",
       "    .dataframe tbody tr th:only-of-type {\n",
       "        vertical-align: middle;\n",
       "    }\n",
       "\n",
       "    .dataframe tbody tr th {\n",
       "        vertical-align: top;\n",
       "    }\n",
       "\n",
       "    .dataframe thead th {\n",
       "        text-align: right;\n",
       "    }\n",
       "</style>\n",
       "<table border=\"1\" class=\"dataframe\">\n",
       "  <thead>\n",
       "    <tr style=\"text-align: right;\">\n",
       "      <th></th>\n",
       "      <th>Inspection ID</th>\n",
       "      <th>DBA Name</th>\n",
       "      <th>AKA Name</th>\n",
       "      <th>License #</th>\n",
       "      <th>Facility Type</th>\n",
       "      <th>Risk</th>\n",
       "      <th>Address</th>\n",
       "      <th>City</th>\n",
       "      <th>State</th>\n",
       "      <th>Zip</th>\n",
       "      <th>Inspection Date</th>\n",
       "      <th>Inspection Type</th>\n",
       "      <th>Results</th>\n",
       "      <th>Violations</th>\n",
       "      <th>Latitude</th>\n",
       "      <th>Longitude</th>\n",
       "      <th>Location</th>\n",
       "    </tr>\n",
       "  </thead>\n",
       "  <tbody>\n",
       "    <tr>\n",
       "      <th>0</th>\n",
       "      <td>2240307</td>\n",
       "      <td>2 POTZ &amp; A PAN EATERY</td>\n",
       "      <td>2 POTZ &amp; A PAN EATERY</td>\n",
       "      <td>2626283.0</td>\n",
       "      <td>Restaurant</td>\n",
       "      <td>Risk 1 (High)</td>\n",
       "      <td>6052 S EBERHART AVE</td>\n",
       "      <td>CHICAGO</td>\n",
       "      <td>IL</td>\n",
       "      <td>60637.0</td>\n",
       "      <td>2018-11-16T00:00:00</td>\n",
       "      <td>License</td>\n",
       "      <td>Pass w/ Conditions</td>\n",
       "      <td>3. MANAGEMENT, FOOD EMPLOYEE AND CONDITIONAL E...</td>\n",
       "      <td>41.784183</td>\n",
       "      <td>-87.613385</td>\n",
       "      <td>{'longitude': '-87.61338492635632', 'needs_rec...</td>\n",
       "    </tr>\n",
       "    <tr>\n",
       "      <th>1</th>\n",
       "      <td>2240303</td>\n",
       "      <td>CREMERIA SANTA MARIA, INC</td>\n",
       "      <td>CREMERIA SANTA MARIA</td>\n",
       "      <td>1868311.0</td>\n",
       "      <td>Grocery Store</td>\n",
       "      <td>Risk 1 (High)</td>\n",
       "      <td>3424 W 26TH ST</td>\n",
       "      <td>CHICAGO</td>\n",
       "      <td>IL</td>\n",
       "      <td>60623.0</td>\n",
       "      <td>2018-11-16T00:00:00</td>\n",
       "      <td>Canvass Re-Inspection</td>\n",
       "      <td>Pass w/ Conditions</td>\n",
       "      <td>3. MANAGEMENT, FOOD EMPLOYEE AND CONDITIONAL E...</td>\n",
       "      <td>41.844544</td>\n",
       "      <td>-87.711073</td>\n",
       "      <td>{'longitude': '-87.71107279676545', 'needs_rec...</td>\n",
       "    </tr>\n",
       "    <tr>\n",
       "      <th>2</th>\n",
       "      <td>2240297</td>\n",
       "      <td>ORALE</td>\n",
       "      <td>ORALE</td>\n",
       "      <td>2631871.0</td>\n",
       "      <td>Restaurant</td>\n",
       "      <td>Risk 1 (High)</td>\n",
       "      <td>1623 W 43rd ST</td>\n",
       "      <td>CHICAGO</td>\n",
       "      <td>IL</td>\n",
       "      <td>60609.0</td>\n",
       "      <td>2018-11-16T00:00:00</td>\n",
       "      <td>License</td>\n",
       "      <td>Pass w/ Conditions</td>\n",
       "      <td>3. MANAGEMENT, FOOD EMPLOYEE AND CONDITIONAL E...</td>\n",
       "      <td>41.815747</td>\n",
       "      <td>-87.666218</td>\n",
       "      <td>{'longitude': '-87.66621797293804', 'needs_rec...</td>\n",
       "    </tr>\n",
       "    <tr>\n",
       "      <th>3</th>\n",
       "      <td>2240300</td>\n",
       "      <td>AMAZING GRACE DAYCARE CENTER</td>\n",
       "      <td>AMAZING GRACE DAYCARE CENTER</td>\n",
       "      <td>2215901.0</td>\n",
       "      <td>Daycare Above and Under 2 Years</td>\n",
       "      <td>Risk 1 (High)</td>\n",
       "      <td>11123-11125 S HALSTED ST</td>\n",
       "      <td>CHICAGO</td>\n",
       "      <td>IL</td>\n",
       "      <td>60628.0</td>\n",
       "      <td>2018-11-16T00:00:00</td>\n",
       "      <td>Canvass</td>\n",
       "      <td>Pass w/ Conditions</td>\n",
       "      <td>3. MANAGEMENT, FOOD EMPLOYEE AND CONDITIONAL E...</td>\n",
       "      <td>41.691646</td>\n",
       "      <td>-87.642214</td>\n",
       "      <td>{'longitude': '-87.6422140544927', 'needs_reco...</td>\n",
       "    </tr>\n",
       "    <tr>\n",
       "      <th>4</th>\n",
       "      <td>2240286</td>\n",
       "      <td>JOYS</td>\n",
       "      <td>JOYS</td>\n",
       "      <td>1677471.0</td>\n",
       "      <td>Restaurant</td>\n",
       "      <td>Risk 1 (High)</td>\n",
       "      <td>3257-3259 N BROADWAY</td>\n",
       "      <td>CHICAGO</td>\n",
       "      <td>IL</td>\n",
       "      <td>60657.0</td>\n",
       "      <td>2018-11-16T00:00:00</td>\n",
       "      <td>Suspected Food Poisoning</td>\n",
       "      <td>Pass w/ Conditions</td>\n",
       "      <td>3. MANAGEMENT, FOOD EMPLOYEE AND CONDITIONAL E...</td>\n",
       "      <td>41.941713</td>\n",
       "      <td>-87.644306</td>\n",
       "      <td>{'longitude': '-87.64430633617879', 'needs_rec...</td>\n",
       "    </tr>\n",
       "  </tbody>\n",
       "</table>\n",
       "</div>"
      ],
      "text/plain": [
       "   Inspection ID                      DBA Name                      AKA Name  \\\n",
       "0        2240307         2 POTZ & A PAN EATERY         2 POTZ & A PAN EATERY   \n",
       "1        2240303     CREMERIA SANTA MARIA, INC          CREMERIA SANTA MARIA   \n",
       "2        2240297                         ORALE                         ORALE   \n",
       "3        2240300  AMAZING GRACE DAYCARE CENTER  AMAZING GRACE DAYCARE CENTER   \n",
       "4        2240286                          JOYS                          JOYS   \n",
       "\n",
       "   License #                    Facility Type           Risk  \\\n",
       "0  2626283.0                       Restaurant  Risk 1 (High)   \n",
       "1  1868311.0                    Grocery Store  Risk 1 (High)   \n",
       "2  2631871.0                       Restaurant  Risk 1 (High)   \n",
       "3  2215901.0  Daycare Above and Under 2 Years  Risk 1 (High)   \n",
       "4  1677471.0                       Restaurant  Risk 1 (High)   \n",
       "\n",
       "                     Address     City State      Zip      Inspection Date  \\\n",
       "0       6052 S EBERHART AVE   CHICAGO    IL  60637.0  2018-11-16T00:00:00   \n",
       "1            3424 W 26TH ST   CHICAGO    IL  60623.0  2018-11-16T00:00:00   \n",
       "2            1623 W 43rd ST   CHICAGO    IL  60609.0  2018-11-16T00:00:00   \n",
       "3  11123-11125 S HALSTED ST   CHICAGO    IL  60628.0  2018-11-16T00:00:00   \n",
       "4      3257-3259 N BROADWAY   CHICAGO    IL  60657.0  2018-11-16T00:00:00   \n",
       "\n",
       "            Inspection Type             Results  \\\n",
       "0                   License  Pass w/ Conditions   \n",
       "1     Canvass Re-Inspection  Pass w/ Conditions   \n",
       "2                   License  Pass w/ Conditions   \n",
       "3                   Canvass  Pass w/ Conditions   \n",
       "4  Suspected Food Poisoning  Pass w/ Conditions   \n",
       "\n",
       "                                          Violations   Latitude  Longitude  \\\n",
       "0  3. MANAGEMENT, FOOD EMPLOYEE AND CONDITIONAL E...  41.784183 -87.613385   \n",
       "1  3. MANAGEMENT, FOOD EMPLOYEE AND CONDITIONAL E...  41.844544 -87.711073   \n",
       "2  3. MANAGEMENT, FOOD EMPLOYEE AND CONDITIONAL E...  41.815747 -87.666218   \n",
       "3  3. MANAGEMENT, FOOD EMPLOYEE AND CONDITIONAL E...  41.691646 -87.642214   \n",
       "4  3. MANAGEMENT, FOOD EMPLOYEE AND CONDITIONAL E...  41.941713 -87.644306   \n",
       "\n",
       "                                            Location  \n",
       "0  {'longitude': '-87.61338492635632', 'needs_rec...  \n",
       "1  {'longitude': '-87.71107279676545', 'needs_rec...  \n",
       "2  {'longitude': '-87.66621797293804', 'needs_rec...  \n",
       "3  {'longitude': '-87.6422140544927', 'needs_reco...  \n",
       "4  {'longitude': '-87.64430633617879', 'needs_rec...  "
      ]
     },
     "execution_count": 23,
     "metadata": {},
     "output_type": "execute_result"
    }
   ],
   "source": [
    "archive = z.ZipFile('data.zip','r')\n",
    "food_inspections = archive.open('data/food-inspections.csv')\n",
    "df = pd.read_csv(food_inspections)\n",
    "df.head()"
   ]
  },
  {
   "cell_type": "code",
   "execution_count": 24,
   "metadata": {},
   "outputs": [
    {
     "data": {
      "text/plain": [
       "Index(['inspection_id', 'dba_name', 'aka_name', 'license_nb', 'facility_type',\n",
       "       'risk', 'address', 'city', 'state', 'zip', 'inspection_date',\n",
       "       'inspection_type', 'results', 'violations', 'latitude', 'longitude',\n",
       "       'location'],\n",
       "      dtype='object')"
      ]
     },
     "execution_count": 24,
     "metadata": {},
     "output_type": "execute_result"
    }
   ],
   "source": [
    "# format column names to remove whitespace and special characters\n",
    "df.columns = df.columns.str.lower().str.replace(' ','_').str.replace('#','nb')\n",
    "df.columns "
   ]
  },
  {
   "cell_type": "code",
   "execution_count": 25,
   "metadata": {},
   "outputs": [
    {
     "name": "stdout",
     "output_type": "stream",
     "text": [
      "(178089, 17)\n",
      "dba_name           object\n",
      "aka_name           object\n",
      "facility_type      object\n",
      "risk               object\n",
      "address            object\n",
      "city               object\n",
      "state              object\n",
      "inspection_date    object\n",
      "inspection_type    object\n",
      "results            object\n",
      "violations         object\n",
      "location           object\n",
      "dtype: object\n",
      "inspection_id      int64\n",
      "license_nb       float64\n",
      "zip              float64\n",
      "latitude         float64\n",
      "longitude        float64\n",
      "dtype: object\n"
     ]
    }
   ],
   "source": [
    "print(df.shape)\n",
    "print(df.dtypes[df.dtypes=='object'])\n",
    "print(df.dtypes[df.dtypes!='object'])"
   ]
  },
  {
   "cell_type": "code",
   "execution_count": 26,
   "metadata": {},
   "outputs": [
    {
     "data": {
      "text/plain": [
       "<matplotlib.axes._subplots.AxesSubplot at 0x1eea6e8d1d0>"
      ]
     },
     "execution_count": 26,
     "metadata": {},
     "output_type": "execute_result"
    },
    {
     "data": {
      "image/png": "[encoded data removed]",
      "text/plain": [
       "<Figure size 432x288 with 1 Axes>"
      ]
     },
     "metadata": {},
     "output_type": "display_data"
    }
   ],
   "source": [
    "sns.heatmap(df.isnull(), yticklabels = False, cbar = False, cmap = 'viridis')"
   ]
  },
  {
   "cell_type": "code",
   "execution_count": 27,
   "metadata": {
    "scrolled": false
   },
   "outputs": [
    {
     "name": "stdout",
     "output_type": "stream",
     "text": [
      "count     178089\n",
      "unique         7\n",
      "top         Pass\n",
      "freq      101807\n",
      "Name: results, dtype: object\n"
     ]
    },
    {
     "data": {
      "text/plain": [
       "Pass                    101807\n",
       "Fail                     34505\n",
       "Pass w/ Conditions       19317\n",
       "Out of Business          15606\n",
       "No Entry                  5382\n",
       "Not Ready                 1408\n",
       "Business Not Located        64\n",
       "Name: results, dtype: int64"
      ]
     },
     "execution_count": 27,
     "metadata": {},
     "output_type": "execute_result"
    }
   ],
   "source": [
    "print(df.results.describe())\n",
    "df.results.value_counts()"
   ]
  },
  {
   "cell_type": "code",
   "execution_count": 28,
   "metadata": {
    "scrolled": true
   },
   "outputs": [
    {
     "data": {
      "text/html": [
       "<div>\n",
       "<style scoped>\n",
       "    .dataframe tbody tr th:only-of-type {\n",
       "        vertical-align: middle;\n",
       "    }\n",
       "\n",
       "    .dataframe tbody tr th {\n",
       "        vertical-align: top;\n",
       "    }\n",
       "\n",
       "    .dataframe thead th {\n",
       "        text-align: right;\n",
       "    }\n",
       "</style>\n",
       "<table border=\"1\" class=\"dataframe\">\n",
       "  <thead>\n",
       "    <tr style=\"text-align: right;\">\n",
       "      <th></th>\n",
       "      <th>inspection_id</th>\n",
       "      <th>license_nb</th>\n",
       "      <th>zip</th>\n",
       "      <th>latitude</th>\n",
       "      <th>longitude</th>\n",
       "      <th>pass</th>\n",
       "      <th>fail</th>\n",
       "    </tr>\n",
       "  </thead>\n",
       "  <tbody>\n",
       "    <tr>\n",
       "      <th>count</th>\n",
       "      <td>1.780890e+05</td>\n",
       "      <td>1.780730e+05</td>\n",
       "      <td>178013.000000</td>\n",
       "      <td>177425.000000</td>\n",
       "      <td>177425.000000</td>\n",
       "      <td>178089.000000</td>\n",
       "      <td>178089.000000</td>\n",
       "    </tr>\n",
       "    <tr>\n",
       "      <th>mean</th>\n",
       "      <td>1.361486e+06</td>\n",
       "      <td>1.563803e+06</td>\n",
       "      <td>60628.998466</td>\n",
       "      <td>41.880761</td>\n",
       "      <td>-87.676449</td>\n",
       "      <td>0.680132</td>\n",
       "      <td>0.193751</td>\n",
       "    </tr>\n",
       "    <tr>\n",
       "      <th>std</th>\n",
       "      <td>6.042818e+05</td>\n",
       "      <td>8.890138e+05</td>\n",
       "      <td>22.675410</td>\n",
       "      <td>0.080798</td>\n",
       "      <td>0.058927</td>\n",
       "      <td>0.466427</td>\n",
       "      <td>0.395238</td>\n",
       "    </tr>\n",
       "    <tr>\n",
       "      <th>min</th>\n",
       "      <td>4.424700e+04</td>\n",
       "      <td>0.000000e+00</td>\n",
       "      <td>60007.000000</td>\n",
       "      <td>41.644670</td>\n",
       "      <td>-87.914428</td>\n",
       "      <td>0.000000</td>\n",
       "      <td>0.000000</td>\n",
       "    </tr>\n",
       "    <tr>\n",
       "      <th>25%</th>\n",
       "      <td>1.106299e+06</td>\n",
       "      <td>1.169489e+06</td>\n",
       "      <td>60614.000000</td>\n",
       "      <td>41.832016</td>\n",
       "      <td>-87.707453</td>\n",
       "      <td>0.000000</td>\n",
       "      <td>0.000000</td>\n",
       "    </tr>\n",
       "    <tr>\n",
       "      <th>50%</th>\n",
       "      <td>1.441571e+06</td>\n",
       "      <td>1.954184e+06</td>\n",
       "      <td>60625.000000</td>\n",
       "      <td>41.891671</td>\n",
       "      <td>-87.666290</td>\n",
       "      <td>1.000000</td>\n",
       "      <td>0.000000</td>\n",
       "    </tr>\n",
       "    <tr>\n",
       "      <th>75%</th>\n",
       "      <td>1.950624e+06</td>\n",
       "      <td>2.215518e+06</td>\n",
       "      <td>60643.000000</td>\n",
       "      <td>41.939692</td>\n",
       "      <td>-87.634789</td>\n",
       "      <td>1.000000</td>\n",
       "      <td>0.000000</td>\n",
       "    </tr>\n",
       "    <tr>\n",
       "      <th>max</th>\n",
       "      <td>2.240307e+06</td>\n",
       "      <td>9.999999e+06</td>\n",
       "      <td>60827.000000</td>\n",
       "      <td>42.021064</td>\n",
       "      <td>-87.525094</td>\n",
       "      <td>1.000000</td>\n",
       "      <td>1.000000</td>\n",
       "    </tr>\n",
       "  </tbody>\n",
       "</table>\n",
       "</div>"
      ],
      "text/plain": [
       "       inspection_id    license_nb            zip       latitude  \\\n",
       "count   1.780890e+05  1.780730e+05  178013.000000  177425.000000   \n",
       "mean    1.361486e+06  1.563803e+06   60628.998466      41.880761   \n",
       "std     6.042818e+05  8.890138e+05      22.675410       0.080798   \n",
       "min     4.424700e+04  0.000000e+00   60007.000000      41.644670   \n",
       "25%     1.106299e+06  1.169489e+06   60614.000000      41.832016   \n",
       "50%     1.441571e+06  1.954184e+06   60625.000000      41.891671   \n",
       "75%     1.950624e+06  2.215518e+06   60643.000000      41.939692   \n",
       "max     2.240307e+06  9.999999e+06   60827.000000      42.021064   \n",
       "\n",
       "           longitude           pass           fail  \n",
       "count  177425.000000  178089.000000  178089.000000  \n",
       "mean      -87.676449       0.680132       0.193751  \n",
       "std         0.058927       0.466427       0.395238  \n",
       "min       -87.914428       0.000000       0.000000  \n",
       "25%       -87.707453       0.000000       0.000000  \n",
       "50%       -87.666290       1.000000       0.000000  \n",
       "75%       -87.634789       1.000000       0.000000  \n",
       "max       -87.525094       1.000000       1.000000  "
      ]
     },
     "execution_count": 28,
     "metadata": {},
     "output_type": "execute_result"
    }
   ],
   "source": [
    "condition_list = [df['results']=='Pass', df['results'] == 'Pass w/ Conditions']\n",
    "choice_list = [1,1]\n",
    "df['pass'] = np.select(condition_list, choice_list, default = 0)\n",
    "df['fail'] = np.where(df['results']=='Fail', 1, 0)\n",
    "df.describe()"
   ]
  },
  {
   "cell_type": "code",
   "execution_count": 29,
   "metadata": {},
   "outputs": [
    {
     "name": "stdout",
     "output_type": "stream",
     "text": [
      "[other                        164056\n",
      "subway                         3390\n",
      "mcdonalds                      1427\n",
      "dunkindonuts                   1273\n",
      "7eleven                         867\n",
      "dunkindonutsbaskinrobbins       491\n",
      "burgerking                      337\n",
      "jimmyjohns                      333\n",
      "haroldschicken                  315\n",
      "chipotlemexicangrill            298\n",
      "citgo                           271\n",
      "starbuckscoffee                 267\n",
      "wendys                          254\n",
      "potbellysandwichworks           249\n",
      "popeyes                         231\n",
      "cornerbakerycafe                226\n",
      "freshii                         214\n",
      "pizzahut                        201\n",
      "starbucks                       201\n",
      "wholefoodsmarket                190\n",
      "dominospizza                    189\n",
      "kfc                             183\n",
      "aubonpain                       174\n",
      "potbellysandwichworksllc        166\n",
      "tacobell                        163\n",
      "seethruchinesekitchen           159\n",
      "walgreens                       154\n",
      "kentuckyfriedchicken            140\n",
      "sharksfishchicken               135\n",
      "marianos                        128\n",
      "jjfish                          128\n",
      "marathon                        127\n",
      "tacoburritoking                 125\n",
      "panerabread                     125\n",
      "lasislasmarias                  122\n",
      "wingstop                        119\n",
      "cermakproduce                   117\n",
      "jewelfoodstore                  117\n",
      "jambajuice                      108\n",
      "proteinbar                      108\n",
      "pretamanger                     106\n",
      "bp                              105\n",
      "Name: aka_name_grp, dtype: int64, restaurant                   118218\n",
      "grocerystore                  23229\n",
      "school                        11029\n",
      "other                          7661\n",
      "daycare                        5656\n",
      "bakery                         2623\n",
      "childrensservicesfacility      2453\n",
      "longtermcare                   1157\n",
      "catering                       1050\n",
      "mobilefooddispenser             838\n",
      "liquor                          795\n",
      "mobilefoodpreparer              530\n",
      "wholesale                       528\n",
      "goldendiner                     498\n",
      "hospital                        473\n",
      "tavern                          244\n",
      "specialevent                    202\n",
      "sharedkitchenuserlongterm       187\n",
      "banquethall                     135\n",
      "gasstation                      111\n",
      "kiosk                           105\n",
      "shelter                          90\n",
      "mobilepreparedfoodvendor         87\n",
      "sharedkitchen                    81\n",
      "livepoultry                      55\n",
      "navypierkiosk                    54\n",
      "Name: facility_type_grp, dtype: int64, canvass                               94105\n",
      "license                               23222\n",
      "canvassreinspection                   18561\n",
      "complaint                             16516\n",
      "licensereinspection                    8217\n",
      "complaintreinspection                  6769\n",
      "shortformcomplaint                     6382\n",
      "suspectedfoodpoisoning                  777\n",
      "consultation                            670\n",
      "licensetaskforce                        605\n",
      "tagremoval                              603\n",
      "outofbusiness                           284\n",
      "other                                   280\n",
      "recentinspection                        272\n",
      "taskforceliquor1475                     254\n",
      "suspectedfoodpoisoningreinspection      175\n",
      "complaintfire                           161\n",
      "shortformfirecomplaint                  113\n",
      "specialeventsfestivals                   63\n",
      "noentry                                  60\n",
      "Name: inspection_type_grp, dtype: int64]\n"
     ]
    },
    {
     "data": {
      "text/html": [
       "<div>\n",
       "<style scoped>\n",
       "    .dataframe tbody tr th:only-of-type {\n",
       "        vertical-align: middle;\n",
       "    }\n",
       "\n",
       "    .dataframe tbody tr th {\n",
       "        vertical-align: top;\n",
       "    }\n",
       "\n",
       "    .dataframe thead th {\n",
       "        text-align: right;\n",
       "    }\n",
       "</style>\n",
       "<table border=\"1\" class=\"dataframe\">\n",
       "  <thead>\n",
       "    <tr style=\"text-align: right;\">\n",
       "      <th></th>\n",
       "      <th>inspection_id</th>\n",
       "      <th>dba_name</th>\n",
       "      <th>aka_name</th>\n",
       "      <th>license_nb</th>\n",
       "      <th>facility_type</th>\n",
       "      <th>risk</th>\n",
       "      <th>address</th>\n",
       "      <th>city</th>\n",
       "      <th>state</th>\n",
       "      <th>zip</th>\n",
       "      <th>...</th>\n",
       "      <th>longitude</th>\n",
       "      <th>location</th>\n",
       "      <th>pass</th>\n",
       "      <th>fail</th>\n",
       "      <th>inspection_recency_in_months</th>\n",
       "      <th>inspection_month</th>\n",
       "      <th>inspection_year</th>\n",
       "      <th>aka_name_grp</th>\n",
       "      <th>facility_type_grp</th>\n",
       "      <th>inspection_type_grp</th>\n",
       "    </tr>\n",
       "  </thead>\n",
       "  <tbody>\n",
       "    <tr>\n",
       "      <th>0</th>\n",
       "      <td>2240307</td>\n",
       "      <td>2 POTZ &amp; A PAN EATERY</td>\n",
       "      <td>2 POTZ &amp; A PAN EATERY</td>\n",
       "      <td>2626283.0</td>\n",
       "      <td>Restaurant</td>\n",
       "      <td>Risk 1 (High)</td>\n",
       "      <td>6052 S EBERHART AVE</td>\n",
       "      <td>CHICAGO</td>\n",
       "      <td>IL</td>\n",
       "      <td>60637.0</td>\n",
       "      <td>...</td>\n",
       "      <td>-87.613385</td>\n",
       "      <td>{'longitude': '-87.61338492635632', 'needs_rec...</td>\n",
       "      <td>1</td>\n",
       "      <td>0</td>\n",
       "      <td>1.511325</td>\n",
       "      <td>11</td>\n",
       "      <td>2018</td>\n",
       "      <td>other</td>\n",
       "      <td>restaurant</td>\n",
       "      <td>license</td>\n",
       "    </tr>\n",
       "    <tr>\n",
       "      <th>1</th>\n",
       "      <td>2240303</td>\n",
       "      <td>CREMERIA SANTA MARIA, INC</td>\n",
       "      <td>CREMERIA SANTA MARIA</td>\n",
       "      <td>1868311.0</td>\n",
       "      <td>Grocery Store</td>\n",
       "      <td>Risk 1 (High)</td>\n",
       "      <td>3424 W 26TH ST</td>\n",
       "      <td>CHICAGO</td>\n",
       "      <td>IL</td>\n",
       "      <td>60623.0</td>\n",
       "      <td>...</td>\n",
       "      <td>-87.711073</td>\n",
       "      <td>{'longitude': '-87.71107279676545', 'needs_rec...</td>\n",
       "      <td>1</td>\n",
       "      <td>0</td>\n",
       "      <td>1.511325</td>\n",
       "      <td>11</td>\n",
       "      <td>2018</td>\n",
       "      <td>other</td>\n",
       "      <td>grocerystore</td>\n",
       "      <td>canvassreinspection</td>\n",
       "    </tr>\n",
       "    <tr>\n",
       "      <th>2</th>\n",
       "      <td>2240297</td>\n",
       "      <td>ORALE</td>\n",
       "      <td>ORALE</td>\n",
       "      <td>2631871.0</td>\n",
       "      <td>Restaurant</td>\n",
       "      <td>Risk 1 (High)</td>\n",
       "      <td>1623 W 43rd ST</td>\n",
       "      <td>CHICAGO</td>\n",
       "      <td>IL</td>\n",
       "      <td>60609.0</td>\n",
       "      <td>...</td>\n",
       "      <td>-87.666218</td>\n",
       "      <td>{'longitude': '-87.66621797293804', 'needs_rec...</td>\n",
       "      <td>1</td>\n",
       "      <td>0</td>\n",
       "      <td>1.511325</td>\n",
       "      <td>11</td>\n",
       "      <td>2018</td>\n",
       "      <td>other</td>\n",
       "      <td>restaurant</td>\n",
       "      <td>license</td>\n",
       "    </tr>\n",
       "    <tr>\n",
       "      <th>3</th>\n",
       "      <td>2240300</td>\n",
       "      <td>AMAZING GRACE DAYCARE CENTER</td>\n",
       "      <td>AMAZING GRACE DAYCARE CENTER</td>\n",
       "      <td>2215901.0</td>\n",
       "      <td>Daycare Above and Under 2 Years</td>\n",
       "      <td>Risk 1 (High)</td>\n",
       "      <td>11123-11125 S HALSTED ST</td>\n",
       "      <td>CHICAGO</td>\n",
       "      <td>IL</td>\n",
       "      <td>60628.0</td>\n",
       "      <td>...</td>\n",
       "      <td>-87.642214</td>\n",
       "      <td>{'longitude': '-87.6422140544927', 'needs_reco...</td>\n",
       "      <td>1</td>\n",
       "      <td>0</td>\n",
       "      <td>1.511325</td>\n",
       "      <td>11</td>\n",
       "      <td>2018</td>\n",
       "      <td>other</td>\n",
       "      <td>daycare</td>\n",
       "      <td>canvass</td>\n",
       "    </tr>\n",
       "    <tr>\n",
       "      <th>4</th>\n",
       "      <td>2240286</td>\n",
       "      <td>JOYS</td>\n",
       "      <td>JOYS</td>\n",
       "      <td>1677471.0</td>\n",
       "      <td>Restaurant</td>\n",
       "      <td>Risk 1 (High)</td>\n",
       "      <td>3257-3259 N BROADWAY</td>\n",
       "      <td>CHICAGO</td>\n",
       "      <td>IL</td>\n",
       "      <td>60657.0</td>\n",
       "      <td>...</td>\n",
       "      <td>-87.644306</td>\n",
       "      <td>{'longitude': '-87.64430633617879', 'needs_rec...</td>\n",
       "      <td>1</td>\n",
       "      <td>0</td>\n",
       "      <td>1.511325</td>\n",
       "      <td>11</td>\n",
       "      <td>2018</td>\n",
       "      <td>other</td>\n",
       "      <td>restaurant</td>\n",
       "      <td>suspectedfoodpoisoning</td>\n",
       "    </tr>\n",
       "    <tr>\n",
       "      <th>5</th>\n",
       "      <td>2240281</td>\n",
       "      <td>ZAIQA RESTAURANT</td>\n",
       "      <td>ZAIQA RESTAURANT</td>\n",
       "      <td>2632018.0</td>\n",
       "      <td>Restaurant</td>\n",
       "      <td>Risk 1 (High)</td>\n",
       "      <td>2245 W DEVON AVE</td>\n",
       "      <td>CHICAGO</td>\n",
       "      <td>IL</td>\n",
       "      <td>60659.0</td>\n",
       "      <td>...</td>\n",
       "      <td>-87.686756</td>\n",
       "      <td>{'longitude': '-87.6867563084304', 'needs_reco...</td>\n",
       "      <td>1</td>\n",
       "      <td>0</td>\n",
       "      <td>1.511325</td>\n",
       "      <td>11</td>\n",
       "      <td>2018</td>\n",
       "      <td>other</td>\n",
       "      <td>restaurant</td>\n",
       "      <td>license</td>\n",
       "    </tr>\n",
       "    <tr>\n",
       "      <th>6</th>\n",
       "      <td>2240284</td>\n",
       "      <td>RAYITO DE SOL SPANISH IMMERSION EARLY LEARNING...</td>\n",
       "      <td>RAYITO DE SOL SPANISH IMMERSION EARLY LEARNING...</td>\n",
       "      <td>2600725.0</td>\n",
       "      <td>Children's Services Facility</td>\n",
       "      <td>Risk 1 (High)</td>\n",
       "      <td>2550 W ADDISON ST</td>\n",
       "      <td>CHICAGO</td>\n",
       "      <td>IL</td>\n",
       "      <td>60618.0</td>\n",
       "      <td>...</td>\n",
       "      <td>-87.692684</td>\n",
       "      <td>{'longitude': '-87.69268373740718', 'needs_rec...</td>\n",
       "      <td>1</td>\n",
       "      <td>0</td>\n",
       "      <td>1.511325</td>\n",
       "      <td>11</td>\n",
       "      <td>2018</td>\n",
       "      <td>other</td>\n",
       "      <td>childrensservicesfacility</td>\n",
       "      <td>licensereinspection</td>\n",
       "    </tr>\n",
       "    <tr>\n",
       "      <th>7</th>\n",
       "      <td>2240277</td>\n",
       "      <td>FRESHII</td>\n",
       "      <td>FRESHII</td>\n",
       "      <td>2446395.0</td>\n",
       "      <td>Restaurant</td>\n",
       "      <td>Risk 1 (High)</td>\n",
       "      <td>1166 W MADISON ST</td>\n",
       "      <td>CHICAGO</td>\n",
       "      <td>IL</td>\n",
       "      <td>60607.0</td>\n",
       "      <td>...</td>\n",
       "      <td>-87.656851</td>\n",
       "      <td>{'longitude': '-87.65685079354886', 'needs_rec...</td>\n",
       "      <td>0</td>\n",
       "      <td>1</td>\n",
       "      <td>1.511325</td>\n",
       "      <td>11</td>\n",
       "      <td>2018</td>\n",
       "      <td>freshii</td>\n",
       "      <td>restaurant</td>\n",
       "      <td>canvass</td>\n",
       "    </tr>\n",
       "    <tr>\n",
       "      <th>8</th>\n",
       "      <td>2240275</td>\n",
       "      <td>CHILDREN'S CENTER INC</td>\n",
       "      <td>CHILDREN'S CENTER INC</td>\n",
       "      <td>2215544.0</td>\n",
       "      <td>Daycare Above and Under 2 Years</td>\n",
       "      <td>Risk 1 (High)</td>\n",
       "      <td>12801-12803 S HALSTED ST</td>\n",
       "      <td>CHICAGO</td>\n",
       "      <td>IL</td>\n",
       "      <td>60628.0</td>\n",
       "      <td>...</td>\n",
       "      <td>-87.641210</td>\n",
       "      <td>{'longitude': '-87.64121030558698', 'needs_rec...</td>\n",
       "      <td>1</td>\n",
       "      <td>0</td>\n",
       "      <td>1.511325</td>\n",
       "      <td>11</td>\n",
       "      <td>2018</td>\n",
       "      <td>other</td>\n",
       "      <td>daycare</td>\n",
       "      <td>canvass</td>\n",
       "    </tr>\n",
       "    <tr>\n",
       "      <th>9</th>\n",
       "      <td>2240266</td>\n",
       "      <td>7-ELEVEN DOMY CORP</td>\n",
       "      <td>7-ELEVEN</td>\n",
       "      <td>59087.0</td>\n",
       "      <td>Grocery Store</td>\n",
       "      <td>Risk 2 (Medium)</td>\n",
       "      <td>5562 N LINCOLN AVE</td>\n",
       "      <td>CHICAGO</td>\n",
       "      <td>IL</td>\n",
       "      <td>60625.0</td>\n",
       "      <td>...</td>\n",
       "      <td>-87.694475</td>\n",
       "      <td>{'longitude': '-87.69447541262302', 'needs_rec...</td>\n",
       "      <td>1</td>\n",
       "      <td>0</td>\n",
       "      <td>1.511325</td>\n",
       "      <td>11</td>\n",
       "      <td>2018</td>\n",
       "      <td>7eleven</td>\n",
       "      <td>grocerystore</td>\n",
       "      <td>canvassreinspection</td>\n",
       "    </tr>\n",
       "  </tbody>\n",
       "</table>\n",
       "<p>10 rows × 25 columns</p>\n",
       "</div>"
      ],
      "text/plain": [
       "   inspection_id                                           dba_name  \\\n",
       "0        2240307                              2 POTZ & A PAN EATERY   \n",
       "1        2240303                          CREMERIA SANTA MARIA, INC   \n",
       "2        2240297                                              ORALE   \n",
       "3        2240300                       AMAZING GRACE DAYCARE CENTER   \n",
       "4        2240286                                               JOYS   \n",
       "5        2240281                                   ZAIQA RESTAURANT   \n",
       "6        2240284  RAYITO DE SOL SPANISH IMMERSION EARLY LEARNING...   \n",
       "7        2240277                                            FRESHII   \n",
       "8        2240275                              CHILDREN'S CENTER INC   \n",
       "9        2240266                                 7-ELEVEN DOMY CORP   \n",
       "\n",
       "                                            aka_name  license_nb  \\\n",
       "0                              2 POTZ & A PAN EATERY   2626283.0   \n",
       "1                               CREMERIA SANTA MARIA   1868311.0   \n",
       "2                                              ORALE   2631871.0   \n",
       "3                       AMAZING GRACE DAYCARE CENTER   2215901.0   \n",
       "4                                               JOYS   1677471.0   \n",
       "5                                   ZAIQA RESTAURANT   2632018.0   \n",
       "6  RAYITO DE SOL SPANISH IMMERSION EARLY LEARNING...   2600725.0   \n",
       "7                                            FRESHII   2446395.0   \n",
       "8                              CHILDREN'S CENTER INC   2215544.0   \n",
       "9                                           7-ELEVEN     59087.0   \n",
       "\n",
       "                     facility_type             risk  \\\n",
       "0                       Restaurant    Risk 1 (High)   \n",
       "1                    Grocery Store    Risk 1 (High)   \n",
       "2                       Restaurant    Risk 1 (High)   \n",
       "3  Daycare Above and Under 2 Years    Risk 1 (High)   \n",
       "4                       Restaurant    Risk 1 (High)   \n",
       "5                       Restaurant    Risk 1 (High)   \n",
       "6     Children's Services Facility    Risk 1 (High)   \n",
       "7                       Restaurant    Risk 1 (High)   \n",
       "8  Daycare Above and Under 2 Years    Risk 1 (High)   \n",
       "9                    Grocery Store  Risk 2 (Medium)   \n",
       "\n",
       "                     address     city state      zip           ...            \\\n",
       "0       6052 S EBERHART AVE   CHICAGO    IL  60637.0           ...             \n",
       "1            3424 W 26TH ST   CHICAGO    IL  60623.0           ...             \n",
       "2            1623 W 43rd ST   CHICAGO    IL  60609.0           ...             \n",
       "3  11123-11125 S HALSTED ST   CHICAGO    IL  60628.0           ...             \n",
       "4      3257-3259 N BROADWAY   CHICAGO    IL  60657.0           ...             \n",
       "5          2245 W DEVON AVE   CHICAGO    IL  60659.0           ...             \n",
       "6         2550 W ADDISON ST   CHICAGO    IL  60618.0           ...             \n",
       "7         1166 W MADISON ST   CHICAGO    IL  60607.0           ...             \n",
       "8  12801-12803 S HALSTED ST   CHICAGO    IL  60628.0           ...             \n",
       "9        5562 N LINCOLN AVE   CHICAGO    IL  60625.0           ...             \n",
       "\n",
       "   longitude                                           location pass fail  \\\n",
       "0 -87.613385  {'longitude': '-87.61338492635632', 'needs_rec...    1    0   \n",
       "1 -87.711073  {'longitude': '-87.71107279676545', 'needs_rec...    1    0   \n",
       "2 -87.666218  {'longitude': '-87.66621797293804', 'needs_rec...    1    0   \n",
       "3 -87.642214  {'longitude': '-87.6422140544927', 'needs_reco...    1    0   \n",
       "4 -87.644306  {'longitude': '-87.64430633617879', 'needs_rec...    1    0   \n",
       "5 -87.686756  {'longitude': '-87.6867563084304', 'needs_reco...    1    0   \n",
       "6 -87.692684  {'longitude': '-87.69268373740718', 'needs_rec...    1    0   \n",
       "7 -87.656851  {'longitude': '-87.65685079354886', 'needs_rec...    0    1   \n",
       "8 -87.641210  {'longitude': '-87.64121030558698', 'needs_rec...    1    0   \n",
       "9 -87.694475  {'longitude': '-87.69447541262302', 'needs_rec...    1    0   \n",
       "\n",
       "   inspection_recency_in_months  inspection_month inspection_year  \\\n",
       "0                      1.511325                11            2018   \n",
       "1                      1.511325                11            2018   \n",
       "2                      1.511325                11            2018   \n",
       "3                      1.511325                11            2018   \n",
       "4                      1.511325                11            2018   \n",
       "5                      1.511325                11            2018   \n",
       "6                      1.511325                11            2018   \n",
       "7                      1.511325                11            2018   \n",
       "8                      1.511325                11            2018   \n",
       "9                      1.511325                11            2018   \n",
       "\n",
       "   aka_name_grp          facility_type_grp     inspection_type_grp  \n",
       "0         other                 restaurant                 license  \n",
       "1         other               grocerystore     canvassreinspection  \n",
       "2         other                 restaurant                 license  \n",
       "3         other                    daycare                 canvass  \n",
       "4         other                 restaurant  suspectedfoodpoisoning  \n",
       "5         other                 restaurant                 license  \n",
       "6         other  childrensservicesfacility     licensereinspection  \n",
       "7       freshii                 restaurant                 canvass  \n",
       "8         other                    daycare                 canvass  \n",
       "9       7eleven               grocerystore     canvassreinspection  \n",
       "\n",
       "[10 rows x 25 columns]"
      ]
     },
     "execution_count": 29,
     "metadata": {},
     "output_type": "execute_result"
    }
   ],
   "source": [
    "# handle date column and create new associated date columns\n",
    "df['inspection_date'] = pd.to_datetime(df.inspection_date)\n",
    "# max date in df is 11/2018, so counting months from 1/1/2019\n",
    "df['inspection_recency_in_months'] = (pd.to_datetime('1/1/2019') - \\\n",
    "                                      df.inspection_date) / np.timedelta64(1,'M')\n",
    "df['inspection_month'] = df.inspection_date.dt.month # to be handled as categorical\n",
    "df['inspection_year'] = df.inspection_date.dt.year # to be handled as categorical\n",
    "\n",
    "# handle large categorical columns\n",
    "# quick helper function to bin categorical vars\n",
    "def grouping_helper(x, keep_list):\n",
    "    if x in keep_list:\n",
    "        x = re.sub('[^A-Za-z0-9]+','',x).lower()\n",
    "    else:\n",
    "        x = 'other'\n",
    "    return x\n",
    "\n",
    "keep_levels_aka_name = df['aka_name'].value_counts()[df['aka_name'].value_counts().values > 100].index\n",
    "keep_levels_facility_type = df['facility_type'].value_counts()[df['facility_type'].value_counts().values > 50].index\n",
    "keep_levels_inspection_type = df['inspection_type'].value_counts()[df['inspection_type'].value_counts().values > 50].index\n",
    "\n",
    "df['aka_name_grp'] = [grouping_helper(r, keep_levels_aka_name) for r in df['aka_name']]\n",
    "# handle missed grouping of aka_name for two cases \n",
    "df['aka_name_grp'] = np.where(df['aka_name_grp']=='haroldschickenshack','haroldschicken',df['aka_name_grp'])\n",
    "df['aka_name_grp'] = np.where(df['aka_name_grp']=='subwaysandwiches','subway',df['aka_name_grp'])\n",
    "\n",
    "df['facility_type_grp'] = [grouping_helper(r, keep_levels_facility_type) for r in df['facility_type']]\n",
    "df['facility_type_grp'] = np.where([re.match('^daycare', d) for d in df['facility_type_grp']],\\\n",
    "                                   'daycare', df['facility_type_grp'])\n",
    "\n",
    "df['inspection_type_grp'] = [grouping_helper(r, keep_levels_inspection_type) for r in df['inspection_type']]\n",
    "\n",
    "print([df[x].value_counts() for x in ['aka_name_grp','facility_type_grp','inspection_type_grp']])\n",
    "\n",
    "df.head(10) # check it out"
   ]
  },
  {
   "cell_type": "code",
   "execution_count": 30,
   "metadata": {},
   "outputs": [
    {
     "name": "stdout",
     "output_type": "stream",
     "text": [
      "(178089, 212)\n",
      "(177425, 212)\n"
     ]
    }
   ],
   "source": [
    "# all X predictors\n",
    "df_for_dummies = df[['aka_name_grp', 'facility_type_grp', 'inspection_type_grp','zip', 'inspection_month', 'inspection_year','inspection_recency_in_months','latitude', 'longitude']]\n",
    "\n",
    "# get dummies for all the grouped columns (we will manually remove 'other')\n",
    "X = pd.get_dummies(data = df_for_dummies, columns = ['aka_name_grp', 'facility_type_grp', 'inspection_type_grp','zip', 'inspection_month', 'inspection_year'])\n",
    "\n",
    "#manually choose reference levels (optional for increased interpretability)\n",
    "X.drop(columns=['aka_name_grp_other', 'facility_type_grp_other', 'inspection_type_grp_other',\\\n",
    "                  'zip_60007.0', 'inspection_month_1', 'inspection_year_2010'],\\\n",
    "                inplace = True)\n",
    "X['y'] = df['pass']\n",
    "print(X.shape)\n",
    "\n",
    "# it's possible the nulls are important, but small # so ignoring for the moment\n",
    "X.dropna(inplace = True)\n",
    "print(X.shape)\n",
    "\n",
    "y = X['y']\n",
    "X.drop(columns = ['y'], inplace = True)\n"
   ]
  },
  {
   "cell_type": "markdown",
   "metadata": {},
   "source": [
    "**Imbalanced Classes**\n",
    "- As seen in the code ran above, there is a large percentage of passing establishments (~68%) compared to other. It is rare that the classification variable you are trying to predict has an even percentage distributions for each class. For example, when predicting fraud, the average rate can be lower than 1%. This is typically refered to as _imbalanced classes_. There are a few ways to handle imbalanced classes in the dependent variable, such as oversampling and anomaly detection.\n",
    "- link to an article with more methods on how to handle imbalanced classes here: https://towardsdatascience.com/dealing-with-imbalanced-classes-in-machine-learning-d43d6fa19d2"
   ]
  },
  {
   "cell_type": "code",
   "execution_count": 31,
   "metadata": {},
   "outputs": [
    {
     "data": {
      "text/plain": [
       "0.6799549105255742"
      ]
     },
     "execution_count": 31,
     "metadata": {},
     "output_type": "execute_result"
    }
   ],
   "source": [
    "# the rate of failure is not an extreme case of imbalanced classes, but\n",
    "# 'pass' class is considerably more than 50%\n",
    "y.mean()"
   ]
  },
  {
   "cell_type": "markdown",
   "metadata": {},
   "source": [
    "*Solution 1:* Sampling\n",
    "- Oversampling: randomly sample minority classes (with replacement) to increase the instances in data; can lead to overfitting fairly easily\n",
    "- Undersampling: sample less of the non-minority classes to increase overall presence of minority class; could lead to an underfit model\n",
    "- SMOTE (synthetic minority over-sampling): create new instances of the minority class by forming convex combinations of neighboring instances; typically the most commonly used of the sampling techniques\n",
    "- imbalanced learning package user guide: https://imbalanced-learn.readthedocs.io/en/stable/user_guide.html"
   ]
  },
  {
   "cell_type": "code",
   "execution_count": 16,
   "metadata": {
    "scrolled": true
   },
   "outputs": [],
   "source": [
    "from imblearn.over_sampling import SMOTE"
   ]
  },
  {
   "cell_type": "code",
   "execution_count": 17,
   "metadata": {},
   "outputs": [
    {
     "name": "stdout",
     "output_type": "stream",
     "text": [
      "new mean failure:  0.5\n"
     ]
    },
    {
     "data": {
      "text/plain": [
       "(241282, 211)"
      ]
     },
     "execution_count": 17,
     "metadata": {},
     "output_type": "execute_result"
    }
   ],
   "source": [
    "X_resampled, y_resampled = SMOTE().fit_resample(X, y)\n",
    "print('new mean failure: ',y_resampled.mean())\n",
    "X_resampled.shape"
   ]
  },
  {
   "cell_type": "markdown",
   "metadata": {},
   "source": [
    "*Solution 2:* Anomaly Detection\n",
    "- Used in extreme cases of imbalanced classes\n",
    "- Assume a normal distribution of data points, and anything that sufficiently deviates from thee distribution is considered an anomaly\n",
    "- Can use clustering methods, one-class SVMs, and isolation forests"
   ]
  },
  {
   "cell_type": "code",
   "execution_count": 32,
   "metadata": {},
   "outputs": [],
   "source": [
    "# this is a supervised learning method, so let's split our data now\n",
    "X_train, X_test, y_train, y_test = train_test_split(X, y, test_size = .3, random_state = 42)"
   ]
  },
  {
   "cell_type": "code",
   "execution_count": 19,
   "metadata": {},
   "outputs": [],
   "source": [
    "from sklearn.ensemble import IsolationForest"
   ]
  },
  {
   "cell_type": "code",
   "execution_count": 20,
   "metadata": {},
   "outputs": [
    {
     "name": "stderr",
     "output_type": "stream",
     "text": [
      "C:\\ProgramData\\Anaconda3\\lib\\site-packages\\sklearn\\ensemble\\iforest.py:213: FutureWarning: default contamination parameter 0.1 will change in version 0.22 to \"auto\". This will change the predict method behavior.\n",
      "  FutureWarning)\n",
      "C:\\ProgramData\\Anaconda3\\lib\\site-packages\\sklearn\\ensemble\\iforest.py:223: FutureWarning: behaviour=\"old\" is deprecated and will be removed in version 0.22. Please use behaviour=\"new\", which makes the decision_function change to match other anomaly detection algorithm API.\n",
      "  FutureWarning)\n"
     ]
    },
    {
     "data": {
      "text/plain": [
       "IsolationForest(behaviour='old', bootstrap=False, contamination='legacy',\n",
       "        max_features=1.0, max_samples='auto', n_estimators=100,\n",
       "        n_jobs=None, random_state=42, verbose=0)"
      ]
     },
     "execution_count": 20,
     "metadata": {},
     "output_type": "execute_result"
    }
   ],
   "source": [
    "isoFor = IsolationForest(random_state = 42)\n",
    "isoFor.fit(X_train, y_train)"
   ]
  },
  {
   "cell_type": "code",
   "execution_count": 21,
   "metadata": {},
   "outputs": [
    {
     "data": {
      "text/plain": [
       "array([0.14844142, 0.15018097, 0.14701955, ..., 0.16333526, 0.14969125,\n",
       "       0.13817977])"
      ]
     },
     "execution_count": 21,
     "metadata": {},
     "output_type": "execute_result"
    }
   ],
   "source": [
    "isoFor.decision_function(X_test)"
   ]
  },
  {
   "cell_type": "markdown",
   "metadata": {},
   "source": [
    "**Fit Models**\n",
    "- Since our dependent variable isn't that imbalanced, let's fit some more traditional models"
   ]
  },
  {
   "cell_type": "code",
   "execution_count": 33,
   "metadata": {},
   "outputs": [
    {
     "name": "stderr",
     "output_type": "stream",
     "text": [
      "C:\\ProgramData\\Anaconda3\\lib\\site-packages\\sklearn\\linear_model\\logistic.py:433: FutureWarning: Default solver will be changed to 'lbfgs' in 0.22. Specify a solver to silence this warning.\n",
      "  FutureWarning)\n"
     ]
    },
    {
     "name": "stdout",
     "output_type": "stream",
     "text": [
      "logistic regression accuracy:  0.7064514916960998\n"
     ]
    }
   ],
   "source": [
    "# Logistic Regression\n",
    "# based on our last section, is this model appropriate?\n",
    "logReg = LogisticRegression()\n",
    "logReg.fit(X_train, y_train)\n",
    "print('logistic regression accuracy: ', accuracy_score(y_test, logReg.predict(X_test)))"
   ]
  },
  {
   "cell_type": "code",
   "execution_count": 27,
   "metadata": {},
   "outputs": [
    {
     "name": "stderr",
     "output_type": "stream",
     "text": [
      "C:\\ProgramData\\Anaconda3\\lib\\site-packages\\sklearn\\ensemble\\forest.py:246: FutureWarning: The default value of n_estimators will change from 10 in version 0.20 to 100 in 0.22.\n",
      "  \"10 in version 0.20 to 100 in 0.22.\", FutureWarning)\n"
     ]
    },
    {
     "name": "stdout",
     "output_type": "stream",
     "text": [
      "random forest accuracy:  0.6894867363042008\n"
     ]
    }
   ],
   "source": [
    "# Random Forest\n",
    "randFor = RandomForestClassifier()\n",
    "randFor.fit(X_train, y_train)\n",
    "print('random forest accuracy: ', accuracy_score(y_test, randFor.predict(X_test)))"
   ]
  },
  {
   "cell_type": "code",
   "execution_count": 40,
   "metadata": {},
   "outputs": [
    {
     "name": "stdout",
     "output_type": "stream",
     "text": [
      "gradient boosted model accuracy:  0.7072029758773578\n"
     ]
    }
   ],
   "source": [
    "# GBM\n",
    "gbm = xgb.XGBClassifier(max_depth = 6, learning_rate = .05)\n",
    "gbm.fit(X_train, y_train, eval_metric='auc', verbose = True)\n",
    "\n",
    "## MW NOTE: add GBM with XGBoost\n",
    "print('gradient boosted model accuracy: ', accuracy_score(y_test, gbm.predict(X_test)))"
   ]
  },
  {
   "cell_type": "code",
   "execution_count": 41,
   "metadata": {},
   "outputs": [
    {
     "name": "stdout",
     "output_type": "stream",
     "text": [
      "              precision    recall  f1-score   support\n",
      "\n",
      "           0       0.63      0.20      0.30     17049\n",
      "           1       0.71      0.95      0.81     36179\n",
      "\n",
      "   micro avg       0.71      0.71      0.71     53228\n",
      "   macro avg       0.67      0.57      0.56     53228\n",
      "weighted avg       0.69      0.71      0.65     53228\n",
      "\n"
     ]
    },
    {
     "ename": "NameError",
     "evalue": "name 'randFor' is not defined",
     "output_type": "error",
     "traceback": [
      "\u001b[1;31m---------------------------------------------------------------------------\u001b[0m",
      "\u001b[1;31mNameError\u001b[0m                                 Traceback (most recent call last)",
      "\u001b[1;32m<ipython-input-41-192cb4634eb3>\u001b[0m in \u001b[0;36m<module>\u001b[1;34m()\u001b[0m\n\u001b[0;32m      1\u001b[0m \u001b[0mprint\u001b[0m\u001b[1;33m(\u001b[0m\u001b[0mclassification_report\u001b[0m\u001b[1;33m(\u001b[0m\u001b[0my_test\u001b[0m\u001b[1;33m,\u001b[0m \u001b[0mlogReg\u001b[0m\u001b[1;33m.\u001b[0m\u001b[0mpredict\u001b[0m\u001b[1;33m(\u001b[0m\u001b[0mX_test\u001b[0m\u001b[1;33m)\u001b[0m\u001b[1;33m)\u001b[0m\u001b[1;33m)\u001b[0m\u001b[1;33m\u001b[0m\u001b[0m\n\u001b[1;32m----> 2\u001b[1;33m \u001b[0mprint\u001b[0m\u001b[1;33m(\u001b[0m\u001b[0mclassification_report\u001b[0m\u001b[1;33m(\u001b[0m\u001b[0my_test\u001b[0m\u001b[1;33m,\u001b[0m \u001b[0mrandFor\u001b[0m\u001b[1;33m.\u001b[0m\u001b[0mpredict\u001b[0m\u001b[1;33m(\u001b[0m\u001b[0mX_test\u001b[0m\u001b[1;33m)\u001b[0m\u001b[1;33m)\u001b[0m\u001b[1;33m)\u001b[0m\u001b[1;33m\u001b[0m\u001b[0m\n\u001b[0m\u001b[0;32m      3\u001b[0m \u001b[0mprint\u001b[0m\u001b[1;33m(\u001b[0m\u001b[0mclassification_report\u001b[0m\u001b[1;33m(\u001b[0m\u001b[0my_test\u001b[0m\u001b[1;33m,\u001b[0m \u001b[0mgbm\u001b[0m\u001b[1;33m.\u001b[0m\u001b[0mpredict\u001b[0m\u001b[1;33m(\u001b[0m\u001b[0mX_test\u001b[0m\u001b[1;33m)\u001b[0m\u001b[1;33m)\u001b[0m\u001b[1;33m)\u001b[0m\u001b[1;33m\u001b[0m\u001b[0m\n",
      "\u001b[1;31mNameError\u001b[0m: name 'randFor' is not defined"
     ]
    }
   ],
   "source": [
    "print(classification_report(y_test, logReg.predict(X_test)))\n",
    "print(classification_report(y_test, randFor.predict(X_test)))\n",
    "print(classification_report(y_test, gbm.predict(X_test)))"
   ]
  },
  {
   "cell_type": "markdown",
   "metadata": {},
   "source": [
    "**Classification Report Metrics Explained**\n",
    "- *Precision:* out of all predicted positive, how many did we predict correctly?<br> \n",
    "    ``` tp / (tp + fp) ``` <br>\n",
    "    - use when there is a high cost associated with False Negative (ex. predicting email spam) <br>\n",
    "- *Recall:* for all actually positive, how many did we predict correctly? <br>\n",
    "    ``` tp / (tp + fn) ``` <br>\n",
    "    - use when there is a high cost associated with False Positives (ex. predicting terrorist attacks) <br>\n",
    "- *F1 Score:* harmonic mean of precision and recall <br>\n",
    "    ``` 2 * (precision * recall) / (precision + recall) ``` <br>\n",
    "    - use when comparing global models, it's best at 1 and worst at 0\n",
    "- *Support:* the number of occurrences at each level in the actual dataset\n",
    "\n",
    "\n",
    "- *Micro* vs *Macro* vs *Weighted* Averages\n",
    "    - *Macro*: compute metric independently for each level/class and then take an average treating levels equally\n",
    "    - *Micro*: aggregate contributions of all classes and compute average metric (preferable in multiclass with imbalance)\n",
    "    - *Weighted*: weighted average based on size of class"
   ]
  },
  {
   "cell_type": "markdown",
   "metadata": {},
   "source": [
    "Example of micro vs macro average calculation: <br><br>\n",
    "$such \\ that \\ P_r \\ = \\ precision$\n",
    "![altext](source\\micro_macro_example.png)<br>\n",
    "#### MW NOTE: try and resize picture to be smaller"
   ]
  },
  {
   "cell_type": "markdown",
   "metadata": {},
   "source": [
    "**Segmentation**\n",
    "- Segmentation is an important consideration which is directly related to the true positive and true positive rates, and is another great metric to use when handling imbalanced classes. Think of these metrics as testing the model's ability to differentiate and segment the classes of the dependent variable - so in this case, clearly segmenting pass and no pass. \n",
    "\n",
    "\n",
    "- *ROC Curve:* plots performance of classification model under various true positive and false positive rate combinations. If you are predicting more positive outcomes, it's more likely that you will have false positives, so this representation shows the tradeoff of true positives to false positive predictions. \n",
    "    - A perfect classifier has a 100% true positive rate and a 0% false positive rate; random classifier will have no lift in the upper left hand corner of the plot, and will have a similar slope to the dashed line\n",
    "- *AUC:* Area under the ROC curve, desire is to maximize\n",
    "    - Value will be between 1 and .5, perfect classifier will have AUC of 1\n",
    "- *Gini Coefficient:* (2 * AUC) - 1, scales the AUC such that random classifier scores 0 and perfect classifier scores 1"
   ]
  },
  {
   "cell_type": "code",
   "execution_count": 33,
   "metadata": {},
   "outputs": [],
   "source": [
    "## can look at this measure by class\n",
    "def plot_the_roc_dwayne_johnson(pred_list, colorlist):\n",
    "    fpr = []\n",
    "    tpr = []\n",
    "    thresholds = []\n",
    "    roc_auc = []\n",
    "    gini = []\n",
    "    for model_pred in pred_list:\n",
    "        fpr_i, tpr_i, thresholds_i = roc_curve(y_test, model_pred)\n",
    "        roc_i_auc = auc(fpr_i, tpr_i)\n",
    "        gini_i = (2 * float(roc_i_auc)) - 1\n",
    "        fpr.append(fpr_i)\n",
    "        tpr.append(tpr_i)\n",
    "        thresholds.append(thresholds_i)\n",
    "        roc_auc.append(roc_i_auc)\n",
    "        gini.append(gini_i)\n",
    "\n",
    "    plt.figure()\n",
    "    colors = colorlist\n",
    "    for i, color in zip(range(len(pred_list)), colors):\n",
    "         plt.plot(fpr[i], tpr[i], color=color, lw=2,\n",
    "                  label='ROC curve of model {0} (area = {1:0.2f}, gini = {2:0.2f})'\n",
    "                  ''.format(i + 1, roc_auc[i], gini[i]))\n",
    "    plt.plot([0, 1], [0, 1], 'k--', lw=2)\n",
    "    plt.xlim([0.0, 1.0])\n",
    "    plt.ylim([0.0, 1.05])\n",
    "    plt.xlabel('False Positive Rate')\n",
    "    plt.ylabel('True Positive Rate')\n",
    "    plt.title('ROC Curve')\n",
    "    plt.legend(loc=\"lower right\")\n",
    "    plt.show()\n",
    "    plt.show()"
   ]
  },
  {
   "cell_type": "code",
   "execution_count": 34,
   "metadata": {},
   "outputs": [
    {
     "data": {
      "image/png": "[encoded data removed]",
      "text/plain": [
       "<Figure size 432x288 with 1 Axes>"
      ]
     },
     "metadata": {},
     "output_type": "display_data"
    }
   ],
   "source": [
    "preds = [randFor.predict(X_test), logReg.predict(X_test), gbm.[predict(X_test)]]\n",
    "plot_the_roc_dwayne_johnson(preds,['aqua', 'darkorange','deep_pink'])\n",
    "#['aqua', 'darkorange', 'cornflowerblue','deep_pink','navy']"
   ]
  },
  {
   "cell_type": "markdown",
   "metadata": {},
   "source": [
    "**Model Interpretation**\n",
    "- Now that we have the models, it's time to interpret what they mean! This means answering questions like: which variables are most important to the model? Which variables are least important to the model? Does anything surprise you about the results?\n",
    "- What are the effects of each of the variables in the model? What is the interpretation?"
   ]
  },
  {
   "cell_type": "markdown",
   "metadata": {},
   "source": [
    "**Feature Importance**\n",
    "- Let's take a look at the most important variables in our classifier models\n",
    "- Tree Based: Variable Importance (gain)\n",
    "- Logistic Regression: Coefficients, preserve sign of coefficient to determine effect on the model"
   ]
  },
  {
   "cell_type": "code",
   "execution_count": 35,
   "metadata": {},
   "outputs": [
    {
     "data": {
      "image/png": "[encoded data removed]",
      "text/plain": [
       "<Figure size 432x288 with 1 Axes>"
      ]
     },
     "metadata": {},
     "output_type": "display_data"
    }
   ],
   "source": [
    "n = 10\n",
    "plot_df = pd.DataFrame()\n",
    "\n",
    "plot_df['relative importance'] = randFor.feature_importances_[randFor.feature_importances_.argsort()[::-1][:n]]\n",
    "plot_df.index = X.columns[randFor.feature_importances_.argsort()[::-1][:n]]\n",
    "plot_df.sort_values(by = 'relative importance', inplace = True)\n",
    "#print(plot_df)\n",
    "\n",
    "plot_df.plot.barh(title = 'Feature Importance')\n",
    "plt.xlabel('Relative Importance')\n",
    "plt.show()"
   ]
  },
  {
   "cell_type": "code",
   "execution_count": 36,
   "metadata": {},
   "outputs": [
    {
     "data": {
      "image/png": "[encoded data removed]",
      "text/plain": [
       "<Figure size 432x288 with 1 Axes>"
      ]
     },
     "metadata": {},
     "output_type": "display_data"
    }
   ],
   "source": [
    "n = 10\n",
    "plot_df = pd.DataFrame()\n",
    "\n",
    "plot_df['variable names'] = X.columns\n",
    "plot_df['coefficient'] =  logReg.coef_[0]\n",
    "plot_df['abs_imp'] = [abs(c) for c in logReg.coef_[0]]\n",
    "plot_df.sort_values(by = 'abs_imp', inplace = True)\n",
    "plot_df = plot_df[['coefficient', 'variable names']].tail(n)\n",
    "plot_df.index = plot_df['variable names']\n",
    "\n",
    "plot_df.tail(10).plot.barh(title = 'Feature Importance')\n",
    "plt.xlabel('Relative Importance')\n",
    "plt.show()"
   ]
  },
  {
   "cell_type": "markdown",
   "metadata": {},
   "source": [
    "Always look at the important variables for each model fit. If an unexpected variable is extremely important, be sure to try and understand why and check null values. If nulls are biased in one direction of a certain feature, it can increase importance of unexpected variables."
   ]
  },
  {
   "cell_type": "markdown",
   "metadata": {},
   "source": [
    "**Use SHAP package to help explain your model**\n",
    "\n",
    "In many cases, such as explaining a model to client or regulator. A good way to do this is through the SHAP package. SHAP assigns each feature and importance value for a particular prediction\n",
    "\n",
    "\n",
    "MW: add more info - tree explainer and partial dependence plots?"
   ]
  },
  {
   "cell_type": "code",
   "execution_count": null,
   "metadata": {},
   "outputs": [],
   "source": [
    "from shap import TreeExplainer"
   ]
  },
  {
   "cell_type": "code",
   "execution_count": null,
   "metadata": {},
   "outputs": [],
   "source": [
    "shapRandFor = shap.TreeExplainer(randFor, X)"
   ]
  },
  {
   "cell_type": "markdown",
   "metadata": {},
   "source": [
    "**Part 3:** Hyperparameter Tuning"
   ]
  },
  {
   "cell_type": "markdown",
   "metadata": {},
   "source": [
    "**Concept of Regularization**\n",
    "\n",
    "Inherently, when fitting a model on the training dataset, it will have a better predictive accuracy on this data compared to outside data, which is why validation data exists. In order to correct overfitting and decrease bias of a model to training data, we can introduce regularization into the model. Think of this as adding a penalty or obstacle when the model tries to fit to the underlying training data. \n",
    "\n",
    "The figure below shows the divergence of training and test predictive error as the model complexity increases. As we introduce a small bit of complexity into the model, we can move toward a better fit on the testing set, which is what we ultimately care about most.\n",
    "\n",
    "![altext](source\\test_train_error2.png)<br>"
   ]
  },
  {
   "attachments": {},
   "cell_type": "markdown",
   "metadata": {},
   "source": [
    "**L1 and L2 Regularization**\n",
    "\n",
    "- The easiest way to understand regularization is through regularized regression models. Lasso, Ridge, and Elastic Net. Recall that for regression models, coefficients are estimated using values that minimize the following (residual sum squares):\n",
    "<br>![altext](source\\least_squares.png)<br>\n",
    "- Ridge and Lasso Regression introduce an $L_1$ and $L_2$ regularization term to the normal RSS formula.\n",
    "\n",
    "**Ridge Regression (**$L_2$**Regularization)**\n",
    "- In Ridge Regression, the $L_2$ regularization term is added to the RSS formula.\n",
    "- Now, we need to minimize this equation subject to the sum of all coefficient estimates squared\n",
    "- This will decrease the volatility of the parameter estimates, and force estimates close to zero when variable does not explain enough variance in the model, resulted in correlated variables sharing the signal in parameter estimates.\n",
    "- The amount this effects the model is controlled by the tuning parameter (shown below as gamma) which the user selects.\n",
    "<br>![altext](source\\ridge.png)<br>\n",
    "\n",
    "**Lasso Regression (**$L_1$**Regularization)**\n",
    "- In Lasso Regression, the $L_1$ regularization term is added to the RSS formula.\n",
    "- Now, we need to minimize this equation subject to the sum of the absolute values of all coefficient estimates\n",
    "- This will decrease the volatility of the parameter estimates, and force estimates to zero when variable does not explain enough variance in the model or if variables are correlated. This is also a helpful tactic for feature selection.\n",
    "- Again, amount this effects the model is controlled by the tuning parameter (shown below as gamma) which the user selects.\n",
    "<br>![altext](source\\lasso.png)<br>"
   ]
  },
  {
   "cell_type": "markdown",
   "metadata": {},
   "source": [
    "Hyperparameters associated with XGBoost Model\n",
    "- stopping, max depth, xgboost explainer"
   ]
  },
  {
   "cell_type": "markdown",
   "metadata": {},
   "source": [
    "Parameter Tuning Example"
   ]
  },
  {
   "cell_type": "markdown",
   "metadata": {},
   "source": [
    "Intro to grid/random/bayesian search"
   ]
  },
  {
   "cell_type": "code",
   "execution_count": null,
   "metadata": {},
   "outputs": [],
   "source": []
  }
 ],
 "metadata": {
  "kernelspec": {
   "display_name": "Python 3",
   "language": "python",
   "name": "python3"
  },
  "language_info": {
   "codemirror_mode": {
    "name": "ipython",
    "version": 3
   },
   "file_extension": ".py",
   "mimetype": "text/x-python",
   "name": "python",
   "nbconvert_exporter": "python",
   "pygments_lexer": "ipython3",
   "version": "3.6.5"
  }
 },
 "nbformat": 4,
 "nbformat_minor": 2
}
