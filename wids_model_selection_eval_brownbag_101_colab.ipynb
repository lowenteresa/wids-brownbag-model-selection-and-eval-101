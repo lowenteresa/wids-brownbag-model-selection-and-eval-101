{
  "nbformat": 4,
  "nbformat_minor": 0,
  "metadata": {
    "colab": {
      "name": "wids-model-selection-eval-brownbag-101.ipynb",
      "version": "0.3.2",
      "provenance": [],
      "collapsed_sections": [],
      "include_colab_link": true
    },
    "kernelspec": {
      "display_name": "Python 3",
      "language": "python",
      "name": "python3"
    }
  },
  "cells": [
    {
      "cell_type": "markdown",
      "metadata": {
        "id": "view-in-github",
        "colab_type": "text"
      },
      "source": [
        "<a href=\"https://colab.research.google.com/github/mwiener09/wids-brownbag-model-selection-and-eval-101/blob/master/wids_model_selection_eval_brownbag_101_colab.ipynb\" target=\"_parent\"><img src=\"https://colab.research.google.com/assets/colab-badge.svg\" alt=\"Open In Colab\"/></a>"
      ]
    },
    {
      "metadata": {
        "id": "hRuRyN_qejhL",
        "colab_type": "text"
      },
      "cell_type": "markdown",
      "source": [
        "<img src = \"https://drive.google.com/uc?export=view&id=14gEPsrwVW1YirTsGjU_wMsu2UwmEpaFE\"> <br>\n",
        "### Women in Data Science Brown Bag Series: Algorithm Selection, Model Evaluation, and Hyperparameter Tuning\n",
        "Sian Lewis (lewis_sian@bah.com)<br>\n",
        "Marissa Wiener (wiener_marissa@bah.com)<br>\n",
        "<br>\n",
        "February 7, 2019"
      ]
    },
    {
      "metadata": {
        "id": "FVoaRPp6ejhN",
        "colab_type": "text"
      },
      "cell_type": "markdown",
      "source": [
        "In this brown bag, we explore model selection, hyperparameter tuning, and model evaluation for classic regression and classification models. Learn to choose the best model/algorithm for prediction through different techniques."
      ]
    },
    {
      "metadata": {
        "id": "sGfhdxXdejhP",
        "colab_type": "text"
      },
      "cell_type": "markdown",
      "source": [
        "### **Part 1:** Algorithm Selection <br>\n",
        "When choosing an algorithm, consider the objective and use of the model. Some main considerations are listed below: <br><br>\n",
        "**Data**<br>\n",
        "How many features and instances are in your dataset? <br>\n",
        "Is your data sparse? <br>\n",
        "Are there a lot of null values? Are nulls biased? <br>\n",
        "Are the attributes in your data correlated?<br>\n",
        "Are you predicting a continuous or categorical variable?<br><br>\n",
        "**Interpretability** <br>\n",
        "Is your purpose accuracy only? Does interpretability not matter at all? <br>\n",
        "Are there regulations or other business/legal considerations which require an explanation of the model <br>\n",
        "Could the interpretability of your model be used for other business applications?<br><br>\n",
        "**Speed**<br>\n",
        "Is speed of fit important? <br>\n",
        "Are there any limitations to computing power? <br>"
      ]
    },
    {
      "metadata": {
        "id": "QktgW4XQejhR",
        "colab_type": "text"
      },
      "cell_type": "markdown",
      "source": [
        "<img src = \"https://drive.google.com/uc?export=view&id=1Pv907fQVf7dfGm1udaXN1IcrcIi5jP7E\"> <br>\n",
        "\n"
      ]
    },
    {
      "metadata": {
        "id": "nVAumcP6ejhS",
        "colab_type": "text"
      },
      "cell_type": "markdown",
      "source": [
        "Classification & Regression: <br>\n",
        "- *Regression*: given a set of data, find the best relationship that represents the set of data. Predicts continuous variables.\n",
        "\n",
        "- *Classification*: given a known relationship, identify the class that the data belongs to.\n",
        "\n",
        "Regression finds a pattern and classification finds the pattern that it belongs to.\n",
        "\n",
        "\n",
        "\n",
        "Let's consider classification algorithms:\n",
        "- *Logistic Regression:* not great to use with a ton of features or correlated features, highly interpretable output. Logistic regression and linear are the same, except that logistic regresssion applies a threshold to determine classes.\n",
        "- *Tree Based Methods:* many features which could be correlated, seeking accuracy but willing to sacrifice a bit of interpretation\n",
        "  - *Decision Tree:* A dichotomized tree where each node represents a feature (attribute), each link (branch) represents a decision (rule) and each leaf represents an outcome (categorical or continuous value).\n",
        "  - *Random Forest:* uses bagging to train data (average of model output trained on randomly selected data with replacement), harder to overfit and easier to tune, good with very large data\n",
        "  - *Gradient Boosted Trees:* train base model, then fit subsequent additive models to residuals, good for imbalanced classes, seeking accuracy, be careful about overfitting; flexible to all differentiable loss functions\n",
        "- *Deep learning/Neural Networks:* many features, seeking accuracy and no need for interpretation\n",
        "\n",
        "In this tutorial, we chose classification models because that are easy to interpret and demonstrate."
      ]
    },
    {
      "metadata": {
        "id": "B7YEa9qKejhU",
        "colab_type": "text"
      },
      "cell_type": "markdown",
      "source": [
        "### **Part 2:** Model Evaluation"
      ]
    },
    {
      "metadata": {
        "id": "6QGhQV7wejhV",
        "colab_type": "code",
        "colab": {}
      },
      "cell_type": "code",
      "source": [
        "import zipfile as z\n",
        "import pandas as pd\n",
        "import seaborn as sns\n",
        "import re\n",
        "import math\n",
        "import numpy as np\n",
        "from sklearn.model_selection import train_test_split, GridSearchCV\n",
        "from sklearn.linear_model import LogisticRegression, Ridge, Lasso\n",
        "from sklearn.ensemble import RandomForestClassifier\n",
        "from sklearn.metrics import classification_report, roc_curve, auc, roc_auc_score, accuracy_score\n",
        "from sklearn.preprocessing import StandardScaler\n",
        "import matplotlib.pyplot as plt\n",
        "import pickle\n",
        "%matplotlib inline"
      ],
      "execution_count": 0,
      "outputs": []
    },
    {
      "metadata": {
        "id": "iWG_7zHeejha",
        "colab_type": "code",
        "outputId": "fb28009f-1eae-4969-a299-e0a0b773eeb0",
        "colab": {
          "base_uri": "https://localhost:8080/",
          "height": 550
        }
      },
      "cell_type": "code",
      "source": [
        "## helpful for getting shap to work in jupyter notebooks (windows):\n",
        "## if you don't have the following packages installed, you can do so here\n",
        "### you may have to troubleshoot if you get an error related to C++\n",
        "### helpful link: https://stackoverflow.com/questions/48541801/microsoft-visual-c-14-0-is-required-get-it-with-microsoft-visual-c-build-t\n",
        "\n",
        "## colab notebook quirks (only need to run once if errors crop up)\n",
        "#!pip uninstall xgboost # older version\n",
        "#!pip install xgboost\n",
        "#!pip install -U imbalanced-learn # not totally positive you need to install\n",
        "\n",
        "## always run\n",
        "!pip install shap\n",
        "from imblearn.over_sampling import SMOTE\n",
        "import xgboost as xgb\n",
        "import shap"
      ],
      "execution_count": 0,
      "outputs": [
        {
          "output_type": "stream",
          "text": [
            "Requirement already satisfied: shap in /usr/local/lib/python3.6/dist-packages (0.28.3)\n",
            "Requirement already satisfied: pandas in /usr/local/lib/python3.6/dist-packages (from shap) (0.22.0)\n",
            "Requirement already satisfied: ipython in /usr/local/lib/python3.6/dist-packages (from shap) (5.5.0)\n",
            "Requirement already satisfied: matplotlib in /usr/local/lib/python3.6/dist-packages (from shap) (3.0.2)\n",
            "Requirement already satisfied: tqdm in /usr/local/lib/python3.6/dist-packages (from shap) (4.28.1)\n",
            "Requirement already satisfied: numpy in /usr/local/lib/python3.6/dist-packages (from shap) (1.14.6)\n",
            "Requirement already satisfied: scikit-learn in /usr/local/lib/python3.6/dist-packages (from shap) (0.20.2)\n",
            "Requirement already satisfied: scikit-image in /usr/local/lib/python3.6/dist-packages (from shap) (0.13.1)\n",
            "Requirement already satisfied: scipy in /usr/local/lib/python3.6/dist-packages (from shap) (1.1.0)\n",
            "Requirement already satisfied: pytz>=2011k in /usr/local/lib/python3.6/dist-packages (from pandas->shap) (2018.9)\n",
            "Requirement already satisfied: python-dateutil>=2 in /usr/local/lib/python3.6/dist-packages (from pandas->shap) (2.5.3)\n",
            "Requirement already satisfied: setuptools>=18.5 in /usr/local/lib/python3.6/dist-packages (from ipython->shap) (40.7.3)\n",
            "Requirement already satisfied: pickleshare in /usr/local/lib/python3.6/dist-packages (from ipython->shap) (0.7.5)\n",
            "Requirement already satisfied: simplegeneric>0.8 in /usr/local/lib/python3.6/dist-packages (from ipython->shap) (0.8.1)\n",
            "Requirement already satisfied: traitlets>=4.2 in /usr/local/lib/python3.6/dist-packages (from ipython->shap) (4.3.2)\n",
            "Requirement already satisfied: pexpect; sys_platform != \"win32\" in /usr/local/lib/python3.6/dist-packages (from ipython->shap) (4.6.0)\n",
            "Requirement already satisfied: pygments in /usr/local/lib/python3.6/dist-packages (from ipython->shap) (2.1.3)\n",
            "Requirement already satisfied: prompt-toolkit<2.0.0,>=1.0.4 in /usr/local/lib/python3.6/dist-packages (from ipython->shap) (1.0.15)\n",
            "Requirement already satisfied: decorator in /usr/local/lib/python3.6/dist-packages (from ipython->shap) (4.3.2)\n",
            "Requirement already satisfied: pyparsing!=2.0.4,!=2.1.2,!=2.1.6,>=2.0.1 in /usr/local/lib/python3.6/dist-packages (from matplotlib->shap) (2.3.1)\n",
            "Requirement already satisfied: cycler>=0.10 in /usr/local/lib/python3.6/dist-packages (from matplotlib->shap) (0.10.0)\n",
            "Requirement already satisfied: kiwisolver>=1.0.1 in /usr/local/lib/python3.6/dist-packages (from matplotlib->shap) (1.0.1)\n",
            "Requirement already satisfied: pillow>=2.1.0 in /usr/local/lib/python3.6/dist-packages (from scikit-image->shap) (4.0.0)\n",
            "Requirement already satisfied: six>=1.7.3 in /usr/local/lib/python3.6/dist-packages (from scikit-image->shap) (1.11.0)\n",
            "Requirement already satisfied: networkx>=1.8 in /usr/local/lib/python3.6/dist-packages (from scikit-image->shap) (2.2)\n",
            "Requirement already satisfied: PyWavelets>=0.4.0 in /usr/local/lib/python3.6/dist-packages (from scikit-image->shap) (1.0.1)\n",
            "Requirement already satisfied: ipython-genutils in /usr/local/lib/python3.6/dist-packages (from traitlets>=4.2->ipython->shap) (0.2.0)\n",
            "Requirement already satisfied: ptyprocess>=0.5 in /usr/local/lib/python3.6/dist-packages (from pexpect; sys_platform != \"win32\"->ipython->shap) (0.6.0)\n",
            "Requirement already satisfied: wcwidth in /usr/local/lib/python3.6/dist-packages (from prompt-toolkit<2.0.0,>=1.0.4->ipython->shap) (0.1.7)\n",
            "Requirement already satisfied: olefile in /usr/local/lib/python3.6/dist-packages (from pillow>=2.1.0->scikit-image->shap) (0.46)\n"
          ],
          "name": "stdout"
        }
      ]
    },
    {
      "metadata": {
        "id": "SjKogq5VlKCg",
        "colab_type": "code",
        "outputId": "67173ee1-d7b3-40cb-c0ce-b91de36ce0b5",
        "colab": {
          "base_uri": "https://localhost:8080/",
          "height": 35
        }
      },
      "cell_type": "code",
      "source": [
        "from google.colab import drive\n",
        "drive.mount('/content/drive')"
      ],
      "execution_count": 0,
      "outputs": [
        {
          "output_type": "stream",
          "text": [
            "Drive already mounted at /content/drive; to attempt to forcibly remount, call drive.mount(\"/content/drive\", force_remount=True).\n"
          ],
          "name": "stdout"
        }
      ]
    },
    {
      "metadata": {
        "id": "nw1y0P8mejhf",
        "colab_type": "text"
      },
      "cell_type": "markdown",
      "source": [
        "**Get to know the Data**\n",
        "- Food inspection data from Illinois, indicates pass/fail criteria\n",
        "- Available on Kaggle: https://www.kaggle.com/chicago/chi-restaurant-inspections"
      ]
    },
    {
      "metadata": {
        "id": "-C4KH-kalDaQ",
        "colab_type": "code",
        "outputId": "41380232-2a9b-4049-de59-ae7f80863f77",
        "colab": {
          "base_uri": "https://localhost:8080/",
          "height": 52
        }
      },
      "cell_type": "code",
      "source": [
        "ls '/content/drive/My Drive/wids-brownbag-model-selection-and-eval-101/'"
      ],
      "execution_count": 0,
      "outputs": [
        {
          "output_type": "stream",
          "text": [
            "cvresult.pickle  \u001b[0m\u001b[01;34mpickle\u001b[0m/  wids-model-selection-eval-brownbag-101.ipynb\n",
            "data.zip         \u001b[01;34msource\u001b[0m/\n"
          ],
          "name": "stdout"
        }
      ]
    },
    {
      "metadata": {
        "scrolled": true,
        "id": "KgKBA8b4ejhh",
        "colab_type": "code",
        "outputId": "1801bf41-b727-47fd-ad44-ddf7fbe909ea",
        "colab": {
          "base_uri": "https://localhost:8080/",
          "height": 633
        }
      },
      "cell_type": "code",
      "source": [
        "# load in data file without unzipping\n",
        "zip_link = '/content/drive/My Drive/wids-brownbag-model-selection-and-eval-101/data.zip'\n",
        "archive = z.ZipFile(zip_link,'r')\n",
        "food_inspections = archive.open('data/food-inspections.csv')\n",
        "df = pd.read_csv(food_inspections)\n",
        "df.head()"
      ],
      "execution_count": 0,
      "outputs": [
        {
          "output_type": "execute_result",
          "data": {
            "text/html": [
              "<div>\n",
              "<style scoped>\n",
              "    .dataframe tbody tr th:only-of-type {\n",
              "        vertical-align: middle;\n",
              "    }\n",
              "\n",
              "    .dataframe tbody tr th {\n",
              "        vertical-align: top;\n",
              "    }\n",
              "\n",
              "    .dataframe thead th {\n",
              "        text-align: right;\n",
              "    }\n",
              "</style>\n",
              "<table border=\"1\" class=\"dataframe\">\n",
              "  <thead>\n",
              "    <tr style=\"text-align: right;\">\n",
              "      <th></th>\n",
              "      <th>Inspection ID</th>\n",
              "      <th>DBA Name</th>\n",
              "      <th>AKA Name</th>\n",
              "      <th>License #</th>\n",
              "      <th>Facility Type</th>\n",
              "      <th>Risk</th>\n",
              "      <th>Address</th>\n",
              "      <th>City</th>\n",
              "      <th>State</th>\n",
              "      <th>Zip</th>\n",
              "      <th>Inspection Date</th>\n",
              "      <th>Inspection Type</th>\n",
              "      <th>Results</th>\n",
              "      <th>Violations</th>\n",
              "      <th>Latitude</th>\n",
              "      <th>Longitude</th>\n",
              "      <th>Location</th>\n",
              "    </tr>\n",
              "  </thead>\n",
              "  <tbody>\n",
              "    <tr>\n",
              "      <th>0</th>\n",
              "      <td>2240307</td>\n",
              "      <td>2 POTZ &amp; A PAN EATERY</td>\n",
              "      <td>2 POTZ &amp; A PAN EATERY</td>\n",
              "      <td>2626283.0</td>\n",
              "      <td>Restaurant</td>\n",
              "      <td>Risk 1 (High)</td>\n",
              "      <td>6052 S EBERHART AVE</td>\n",
              "      <td>CHICAGO</td>\n",
              "      <td>IL</td>\n",
              "      <td>60637.0</td>\n",
              "      <td>2018-11-16T00:00:00</td>\n",
              "      <td>License</td>\n",
              "      <td>Pass w/ Conditions</td>\n",
              "      <td>3. MANAGEMENT, FOOD EMPLOYEE AND CONDITIONAL E...</td>\n",
              "      <td>41.784183</td>\n",
              "      <td>-87.613385</td>\n",
              "      <td>{'longitude': '-87.61338492635632', 'needs_rec...</td>\n",
              "    </tr>\n",
              "    <tr>\n",
              "      <th>1</th>\n",
              "      <td>2240303</td>\n",
              "      <td>CREMERIA SANTA MARIA, INC</td>\n",
              "      <td>CREMERIA SANTA MARIA</td>\n",
              "      <td>1868311.0</td>\n",
              "      <td>Grocery Store</td>\n",
              "      <td>Risk 1 (High)</td>\n",
              "      <td>3424 W 26TH ST</td>\n",
              "      <td>CHICAGO</td>\n",
              "      <td>IL</td>\n",
              "      <td>60623.0</td>\n",
              "      <td>2018-11-16T00:00:00</td>\n",
              "      <td>Canvass Re-Inspection</td>\n",
              "      <td>Pass w/ Conditions</td>\n",
              "      <td>3. MANAGEMENT, FOOD EMPLOYEE AND CONDITIONAL E...</td>\n",
              "      <td>41.844544</td>\n",
              "      <td>-87.711073</td>\n",
              "      <td>{'longitude': '-87.71107279676545', 'needs_rec...</td>\n",
              "    </tr>\n",
              "    <tr>\n",
              "      <th>2</th>\n",
              "      <td>2240297</td>\n",
              "      <td>ORALE</td>\n",
              "      <td>ORALE</td>\n",
              "      <td>2631871.0</td>\n",
              "      <td>Restaurant</td>\n",
              "      <td>Risk 1 (High)</td>\n",
              "      <td>1623 W 43rd ST</td>\n",
              "      <td>CHICAGO</td>\n",
              "      <td>IL</td>\n",
              "      <td>60609.0</td>\n",
              "      <td>2018-11-16T00:00:00</td>\n",
              "      <td>License</td>\n",
              "      <td>Pass w/ Conditions</td>\n",
              "      <td>3. MANAGEMENT, FOOD EMPLOYEE AND CONDITIONAL E...</td>\n",
              "      <td>41.815747</td>\n",
              "      <td>-87.666218</td>\n",
              "      <td>{'longitude': '-87.66621797293804', 'needs_rec...</td>\n",
              "    </tr>\n",
              "    <tr>\n",
              "      <th>3</th>\n",
              "      <td>2240300</td>\n",
              "      <td>AMAZING GRACE DAYCARE CENTER</td>\n",
              "      <td>AMAZING GRACE DAYCARE CENTER</td>\n",
              "      <td>2215901.0</td>\n",
              "      <td>Daycare Above and Under 2 Years</td>\n",
              "      <td>Risk 1 (High)</td>\n",
              "      <td>11123-11125 S HALSTED ST</td>\n",
              "      <td>CHICAGO</td>\n",
              "      <td>IL</td>\n",
              "      <td>60628.0</td>\n",
              "      <td>2018-11-16T00:00:00</td>\n",
              "      <td>Canvass</td>\n",
              "      <td>Pass w/ Conditions</td>\n",
              "      <td>3. MANAGEMENT, FOOD EMPLOYEE AND CONDITIONAL E...</td>\n",
              "      <td>41.691646</td>\n",
              "      <td>-87.642214</td>\n",
              "      <td>{'longitude': '-87.6422140544927', 'needs_reco...</td>\n",
              "    </tr>\n",
              "    <tr>\n",
              "      <th>4</th>\n",
              "      <td>2240286</td>\n",
              "      <td>JOYS</td>\n",
              "      <td>JOYS</td>\n",
              "      <td>1677471.0</td>\n",
              "      <td>Restaurant</td>\n",
              "      <td>Risk 1 (High)</td>\n",
              "      <td>3257-3259 N BROADWAY</td>\n",
              "      <td>CHICAGO</td>\n",
              "      <td>IL</td>\n",
              "      <td>60657.0</td>\n",
              "      <td>2018-11-16T00:00:00</td>\n",
              "      <td>Suspected Food Poisoning</td>\n",
              "      <td>Pass w/ Conditions</td>\n",
              "      <td>3. MANAGEMENT, FOOD EMPLOYEE AND CONDITIONAL E...</td>\n",
              "      <td>41.941713</td>\n",
              "      <td>-87.644306</td>\n",
              "      <td>{'longitude': '-87.64430633617879', 'needs_rec...</td>\n",
              "    </tr>\n",
              "  </tbody>\n",
              "</table>\n",
              "</div>"
            ],
            "text/plain": [
              "   Inspection ID                      DBA Name                      AKA Name  \\\n",
              "0        2240307         2 POTZ & A PAN EATERY         2 POTZ & A PAN EATERY   \n",
              "1        2240303     CREMERIA SANTA MARIA, INC          CREMERIA SANTA MARIA   \n",
              "2        2240297                         ORALE                         ORALE   \n",
              "3        2240300  AMAZING GRACE DAYCARE CENTER  AMAZING GRACE DAYCARE CENTER   \n",
              "4        2240286                          JOYS                          JOYS   \n",
              "\n",
              "   License #                    Facility Type           Risk  \\\n",
              "0  2626283.0                       Restaurant  Risk 1 (High)   \n",
              "1  1868311.0                    Grocery Store  Risk 1 (High)   \n",
              "2  2631871.0                       Restaurant  Risk 1 (High)   \n",
              "3  2215901.0  Daycare Above and Under 2 Years  Risk 1 (High)   \n",
              "4  1677471.0                       Restaurant  Risk 1 (High)   \n",
              "\n",
              "                     Address     City State      Zip      Inspection Date  \\\n",
              "0       6052 S EBERHART AVE   CHICAGO    IL  60637.0  2018-11-16T00:00:00   \n",
              "1            3424 W 26TH ST   CHICAGO    IL  60623.0  2018-11-16T00:00:00   \n",
              "2            1623 W 43rd ST   CHICAGO    IL  60609.0  2018-11-16T00:00:00   \n",
              "3  11123-11125 S HALSTED ST   CHICAGO    IL  60628.0  2018-11-16T00:00:00   \n",
              "4      3257-3259 N BROADWAY   CHICAGO    IL  60657.0  2018-11-16T00:00:00   \n",
              "\n",
              "            Inspection Type             Results  \\\n",
              "0                   License  Pass w/ Conditions   \n",
              "1     Canvass Re-Inspection  Pass w/ Conditions   \n",
              "2                   License  Pass w/ Conditions   \n",
              "3                   Canvass  Pass w/ Conditions   \n",
              "4  Suspected Food Poisoning  Pass w/ Conditions   \n",
              "\n",
              "                                          Violations   Latitude  Longitude  \\\n",
              "0  3. MANAGEMENT, FOOD EMPLOYEE AND CONDITIONAL E...  41.784183 -87.613385   \n",
              "1  3. MANAGEMENT, FOOD EMPLOYEE AND CONDITIONAL E...  41.844544 -87.711073   \n",
              "2  3. MANAGEMENT, FOOD EMPLOYEE AND CONDITIONAL E...  41.815747 -87.666218   \n",
              "3  3. MANAGEMENT, FOOD EMPLOYEE AND CONDITIONAL E...  41.691646 -87.642214   \n",
              "4  3. MANAGEMENT, FOOD EMPLOYEE AND CONDITIONAL E...  41.941713 -87.644306   \n",
              "\n",
              "                                            Location  \n",
              "0  {'longitude': '-87.61338492635632', 'needs_rec...  \n",
              "1  {'longitude': '-87.71107279676545', 'needs_rec...  \n",
              "2  {'longitude': '-87.66621797293804', 'needs_rec...  \n",
              "3  {'longitude': '-87.6422140544927', 'needs_reco...  \n",
              "4  {'longitude': '-87.64430633617879', 'needs_rec...  "
            ]
          },
          "metadata": {
            "tags": []
          },
          "execution_count": 5
        }
      ]
    },
    {
      "metadata": {
        "id": "W4hW1HYdejho",
        "colab_type": "code",
        "outputId": "ccc44aa2-e7df-4143-893c-eaa255da3013",
        "colab": {
          "base_uri": "https://localhost:8080/",
          "height": 106
        }
      },
      "cell_type": "code",
      "source": [
        "# format column names to remove whitespace and special characters\n",
        "df.columns = df.columns.str.lower().str.replace(' ','_').str.replace('#','nb')\n",
        "df.columns "
      ],
      "execution_count": 0,
      "outputs": [
        {
          "output_type": "execute_result",
          "data": {
            "text/plain": [
              "Index(['inspection_id', 'dba_name', 'aka_name', 'license_nb', 'facility_type',\n",
              "       'risk', 'address', 'city', 'state', 'zip', 'inspection_date',\n",
              "       'inspection_type', 'results', 'violations', 'latitude', 'longitude',\n",
              "       'location'],\n",
              "      dtype='object')"
            ]
          },
          "metadata": {
            "tags": []
          },
          "execution_count": 6
        }
      ]
    },
    {
      "metadata": {
        "id": "uERoKBXGejhu",
        "colab_type": "code",
        "outputId": "88d71eb1-3bfa-45b7-e8af-f19b73490fd6",
        "colab": {
          "base_uri": "https://localhost:8080/",
          "height": 372
        }
      },
      "cell_type": "code",
      "source": [
        "#look at dimensions of data and data types\n",
        "print(df.shape)\n",
        "print(df.dtypes[df.dtypes=='object'])\n",
        "print(df.dtypes[df.dtypes!='object'])\n",
        "\n",
        "# can you print value counts for the categorical variables?\n",
        "# should we change data type for any of the numeric columns?"
      ],
      "execution_count": 0,
      "outputs": [
        {
          "output_type": "stream",
          "text": [
            "(178089, 17)\n",
            "dba_name           object\n",
            "aka_name           object\n",
            "facility_type      object\n",
            "risk               object\n",
            "address            object\n",
            "city               object\n",
            "state              object\n",
            "inspection_date    object\n",
            "inspection_type    object\n",
            "results            object\n",
            "violations         object\n",
            "location           object\n",
            "dtype: object\n",
            "inspection_id      int64\n",
            "license_nb       float64\n",
            "zip              float64\n",
            "latitude         float64\n",
            "longitude        float64\n",
            "dtype: object\n"
          ],
          "name": "stdout"
        }
      ]
    },
    {
      "metadata": {
        "id": "auWNRxOJejh0",
        "colab_type": "code",
        "outputId": "4cbf552b-9028-402e-ffca-afd3ab1c0643",
        "colab": {
          "base_uri": "https://localhost:8080/",
          "height": 343
        }
      },
      "cell_type": "code",
      "source": [
        "# visualize nulls values in each column\n",
        "sns.heatmap(df.isnull(), yticklabels = False, cbar = False, cmap = 'viridis')"
      ],
      "execution_count": 0,
      "outputs": [
        {
          "output_type": "execute_result",
          "data": {
            "text/plain": [
              "<matplotlib.axes._subplots.AxesSubplot at 0x7f780d7cb7b8>"
            ]
          },
          "metadata": {
            "tags": []
          },
          "execution_count": 8
        },
        {
          "output_type": "display_data",
          "data": {
            "image/png": "[encoded data removed]",
            "text/plain": [
              "<Figure size 432x288 with 1 Axes>"
            ]
          },
          "metadata": {
            "tags": []
          }
        }
      ]
    },
    {
      "metadata": {
        "scrolled": false,
        "id": "MI9HtZYoejh5",
        "colab_type": "code",
        "outputId": "6f078124-759f-44db-d6c9-f6b72ce8125b",
        "colab": {
          "base_uri": "https://localhost:8080/",
          "height": 248
        }
      },
      "cell_type": "code",
      "source": [
        "# we want to base our dependent variable on the 'results' column\n",
        "# look more closely at values\n",
        "print(df.results.describe())\n",
        "df.results.value_counts()"
      ],
      "execution_count": 0,
      "outputs": [
        {
          "output_type": "stream",
          "text": [
            "count     178089\n",
            "unique         7\n",
            "top         Pass\n",
            "freq      101807\n",
            "Name: results, dtype: object\n"
          ],
          "name": "stdout"
        },
        {
          "output_type": "execute_result",
          "data": {
            "text/plain": [
              "Pass                    101807\n",
              "Fail                     34505\n",
              "Pass w/ Conditions       19317\n",
              "Out of Business          15606\n",
              "No Entry                  5382\n",
              "Not Ready                 1408\n",
              "Business Not Located        64\n",
              "Name: results, dtype: int64"
            ]
          },
          "metadata": {
            "tags": []
          },
          "execution_count": 9
        }
      ]
    },
    {
      "metadata": {
        "scrolled": true,
        "id": "lsOmPfbjejh9",
        "colab_type": "code",
        "outputId": "ec2e1bac-d034-45f0-c529-84f7f8c94605",
        "colab": {
          "base_uri": "https://localhost:8080/",
          "height": 282
        }
      },
      "cell_type": "code",
      "source": [
        "# make indicator variables to represent 'pass' and 'fail'\n",
        "# in this example we will be modeling 'pass', but feel free to experiment with\n",
        "# predicting 'fail' on your own!\n",
        "condition_list = [df['results']=='Pass', df['results'] == 'Pass w/ Conditions']\n",
        "choice_list = [1,1]\n",
        "df['pass'] = np.select(condition_list, choice_list, default = 0)\n",
        "df['fail'] = np.where(df['results']=='Fail', 1, 0)\n",
        "df.describe()"
      ],
      "execution_count": 0,
      "outputs": [
        {
          "output_type": "execute_result",
          "data": {
            "text/html": [
              "<div>\n",
              "<style scoped>\n",
              "    .dataframe tbody tr th:only-of-type {\n",
              "        vertical-align: middle;\n",
              "    }\n",
              "\n",
              "    .dataframe tbody tr th {\n",
              "        vertical-align: top;\n",
              "    }\n",
              "\n",
              "    .dataframe thead th {\n",
              "        text-align: right;\n",
              "    }\n",
              "</style>\n",
              "<table border=\"1\" class=\"dataframe\">\n",
              "  <thead>\n",
              "    <tr style=\"text-align: right;\">\n",
              "      <th></th>\n",
              "      <th>inspection_id</th>\n",
              "      <th>license_nb</th>\n",
              "      <th>zip</th>\n",
              "      <th>latitude</th>\n",
              "      <th>longitude</th>\n",
              "      <th>pass</th>\n",
              "      <th>fail</th>\n",
              "    </tr>\n",
              "  </thead>\n",
              "  <tbody>\n",
              "    <tr>\n",
              "      <th>count</th>\n",
              "      <td>1.780890e+05</td>\n",
              "      <td>1.780730e+05</td>\n",
              "      <td>178013.000000</td>\n",
              "      <td>177425.000000</td>\n",
              "      <td>177425.000000</td>\n",
              "      <td>178089.000000</td>\n",
              "      <td>178089.000000</td>\n",
              "    </tr>\n",
              "    <tr>\n",
              "      <th>mean</th>\n",
              "      <td>1.361486e+06</td>\n",
              "      <td>1.563803e+06</td>\n",
              "      <td>60628.998466</td>\n",
              "      <td>41.880761</td>\n",
              "      <td>-87.676449</td>\n",
              "      <td>0.680132</td>\n",
              "      <td>0.193751</td>\n",
              "    </tr>\n",
              "    <tr>\n",
              "      <th>std</th>\n",
              "      <td>6.042818e+05</td>\n",
              "      <td>8.890138e+05</td>\n",
              "      <td>22.675410</td>\n",
              "      <td>0.080798</td>\n",
              "      <td>0.058927</td>\n",
              "      <td>0.466427</td>\n",
              "      <td>0.395238</td>\n",
              "    </tr>\n",
              "    <tr>\n",
              "      <th>min</th>\n",
              "      <td>4.424700e+04</td>\n",
              "      <td>0.000000e+00</td>\n",
              "      <td>60007.000000</td>\n",
              "      <td>41.644670</td>\n",
              "      <td>-87.914428</td>\n",
              "      <td>0.000000</td>\n",
              "      <td>0.000000</td>\n",
              "    </tr>\n",
              "    <tr>\n",
              "      <th>25%</th>\n",
              "      <td>1.106299e+06</td>\n",
              "      <td>1.169489e+06</td>\n",
              "      <td>60614.000000</td>\n",
              "      <td>41.832016</td>\n",
              "      <td>-87.707453</td>\n",
              "      <td>0.000000</td>\n",
              "      <td>0.000000</td>\n",
              "    </tr>\n",
              "    <tr>\n",
              "      <th>50%</th>\n",
              "      <td>1.441571e+06</td>\n",
              "      <td>1.954184e+06</td>\n",
              "      <td>60625.000000</td>\n",
              "      <td>41.891671</td>\n",
              "      <td>-87.666290</td>\n",
              "      <td>1.000000</td>\n",
              "      <td>0.000000</td>\n",
              "    </tr>\n",
              "    <tr>\n",
              "      <th>75%</th>\n",
              "      <td>1.950624e+06</td>\n",
              "      <td>2.215518e+06</td>\n",
              "      <td>60643.000000</td>\n",
              "      <td>41.939692</td>\n",
              "      <td>-87.634789</td>\n",
              "      <td>1.000000</td>\n",
              "      <td>0.000000</td>\n",
              "    </tr>\n",
              "    <tr>\n",
              "      <th>max</th>\n",
              "      <td>2.240307e+06</td>\n",
              "      <td>9.999999e+06</td>\n",
              "      <td>60827.000000</td>\n",
              "      <td>42.021064</td>\n",
              "      <td>-87.525094</td>\n",
              "      <td>1.000000</td>\n",
              "      <td>1.000000</td>\n",
              "    </tr>\n",
              "  </tbody>\n",
              "</table>\n",
              "</div>"
            ],
            "text/plain": [
              "       inspection_id    license_nb            zip       latitude  \\\n",
              "count   1.780890e+05  1.780730e+05  178013.000000  177425.000000   \n",
              "mean    1.361486e+06  1.563803e+06   60628.998466      41.880761   \n",
              "std     6.042818e+05  8.890138e+05      22.675410       0.080798   \n",
              "min     4.424700e+04  0.000000e+00   60007.000000      41.644670   \n",
              "25%     1.106299e+06  1.169489e+06   60614.000000      41.832016   \n",
              "50%     1.441571e+06  1.954184e+06   60625.000000      41.891671   \n",
              "75%     1.950624e+06  2.215518e+06   60643.000000      41.939692   \n",
              "max     2.240307e+06  9.999999e+06   60827.000000      42.021064   \n",
              "\n",
              "           longitude           pass           fail  \n",
              "count  177425.000000  178089.000000  178089.000000  \n",
              "mean      -87.676449       0.680132       0.193751  \n",
              "std         0.058927       0.466427       0.395238  \n",
              "min       -87.914428       0.000000       0.000000  \n",
              "25%       -87.707453       0.000000       0.000000  \n",
              "50%       -87.666290       1.000000       0.000000  \n",
              "75%       -87.634789       1.000000       0.000000  \n",
              "max       -87.525094       1.000000       1.000000  "
            ]
          },
          "metadata": {
            "tags": []
          },
          "execution_count": 10
        }
      ]
    },
    {
      "metadata": {
        "id": "QI-HJg8SejiD",
        "colab_type": "code",
        "outputId": "3b3580ed-c528-4baf-f983-137d6f33bda0",
        "colab": {
          "base_uri": "https://localhost:8080/",
          "height": 2377
        }
      },
      "cell_type": "code",
      "source": [
        "# handle date column and create new associated date columns\n",
        "df['inspection_date'] = pd.to_datetime(df.inspection_date)\n",
        "# max date in df is 11/2018, so counting months from 1/1/2019\n",
        "df['inspection_recency_in_months'] = (pd.to_datetime('1/1/2019') - \\\n",
        "                                      df.inspection_date) / np.timedelta64(1,'M')\n",
        "df['inspection_month'] = df.inspection_date.dt.month # to be handled as categorical\n",
        "df['inspection_year'] = df.inspection_date.dt.year # to be handled as categorical\n",
        "\n",
        "# handle categorical columns with many levels\n",
        "# quick helper function to bin categorical vars\n",
        "def grouping_helper(x, keep_list):\n",
        "    if x in keep_list:\n",
        "        x = re.sub('[^A-Za-z0-9]+','',x).lower()\n",
        "    else:\n",
        "        x = 'other'\n",
        "    return x\n",
        "# choose the min number of rows for levels of categorical variables \n",
        "# based on threshold of value counts\n",
        "keep_levels_aka_name = df['aka_name'].value_counts()[df['aka_name'].value_counts().values > 100].index\n",
        "keep_levels_facility_type = df['facility_type'].value_counts()[df['facility_type'].value_counts().values > 50].index\n",
        "keep_levels_inspection_type = df['inspection_type'].value_counts()[df['inspection_type'].value_counts().values > 50].index\n",
        "\n",
        "# apply function to each column\n",
        "df['aka_name_grp'] = [grouping_helper(r, keep_levels_aka_name) for r in df['aka_name']]\n",
        "# further group establishments which clearly are the same \n",
        "df['aka_name_grp'] = np.where(df['aka_name_grp']=='haroldschickenshack','haroldschicken',df['aka_name_grp'])\n",
        "df['aka_name_grp'] = np.where(df['aka_name_grp']=='subwaysandwiches','subway',df['aka_name_grp'])\n",
        "df['facility_type_grp'] = [grouping_helper(r, keep_levels_facility_type) for r in df['facility_type']]\n",
        "# further group levels beginning with 'daycare'\n",
        "df['facility_type_grp'] = np.where([re.match('^daycare', d) for d in df['facility_type_grp']],\\\n",
        "                                   'daycare', df['facility_type_grp'])\n",
        "df['inspection_type_grp'] = [grouping_helper(r, keep_levels_inspection_type) for r in df['inspection_type']]\n",
        "\n",
        "# print new value counts\n",
        "print([df[x].value_counts() for x in ['aka_name_grp','facility_type_grp','inspection_type_grp']])\n",
        "\n",
        "df.head(10) # check out data to make sure grouping looks ok"
      ],
      "execution_count": 0,
      "outputs": [
        {
          "output_type": "stream",
          "text": [
            "[other                        164056\n",
            "subway                         3390\n",
            "mcdonalds                      1427\n",
            "dunkindonuts                   1273\n",
            "7eleven                         867\n",
            "dunkindonutsbaskinrobbins       491\n",
            "burgerking                      337\n",
            "jimmyjohns                      333\n",
            "haroldschicken                  315\n",
            "chipotlemexicangrill            298\n",
            "citgo                           271\n",
            "starbuckscoffee                 267\n",
            "wendys                          254\n",
            "potbellysandwichworks           249\n",
            "popeyes                         231\n",
            "cornerbakerycafe                226\n",
            "freshii                         214\n",
            "starbucks                       201\n",
            "pizzahut                        201\n",
            "wholefoodsmarket                190\n",
            "dominospizza                    189\n",
            "kfc                             183\n",
            "aubonpain                       174\n",
            "potbellysandwichworksllc        166\n",
            "tacobell                        163\n",
            "seethruchinesekitchen           159\n",
            "walgreens                       154\n",
            "kentuckyfriedchicken            140\n",
            "sharksfishchicken               135\n",
            "marianos                        128\n",
            "jjfish                          128\n",
            "marathon                        127\n",
            "panerabread                     125\n",
            "tacoburritoking                 125\n",
            "lasislasmarias                  122\n",
            "wingstop                        119\n",
            "cermakproduce                   117\n",
            "jewelfoodstore                  117\n",
            "proteinbar                      108\n",
            "jambajuice                      108\n",
            "pretamanger                     106\n",
            "bp                              105\n",
            "Name: aka_name_grp, dtype: int64, restaurant                   118218\n",
            "grocerystore                  23229\n",
            "school                        11029\n",
            "other                          7661\n",
            "daycare                        5656\n",
            "bakery                         2623\n",
            "childrensservicesfacility      2453\n",
            "longtermcare                   1157\n",
            "catering                       1050\n",
            "mobilefooddispenser             838\n",
            "liquor                          795\n",
            "mobilefoodpreparer              530\n",
            "wholesale                       528\n",
            "goldendiner                     498\n",
            "hospital                        473\n",
            "tavern                          244\n",
            "specialevent                    202\n",
            "sharedkitchenuserlongterm       187\n",
            "banquethall                     135\n",
            "gasstation                      111\n",
            "kiosk                           105\n",
            "shelter                          90\n",
            "mobilepreparedfoodvendor         87\n",
            "sharedkitchen                    81\n",
            "livepoultry                      55\n",
            "navypierkiosk                    54\n",
            "Name: facility_type_grp, dtype: int64, canvass                               94105\n",
            "license                               23222\n",
            "canvassreinspection                   18561\n",
            "complaint                             16516\n",
            "licensereinspection                    8217\n",
            "complaintreinspection                  6769\n",
            "shortformcomplaint                     6382\n",
            "suspectedfoodpoisoning                  777\n",
            "consultation                            670\n",
            "licensetaskforce                        605\n",
            "tagremoval                              603\n",
            "outofbusiness                           284\n",
            "other                                   280\n",
            "recentinspection                        272\n",
            "taskforceliquor1475                     254\n",
            "suspectedfoodpoisoningreinspection      175\n",
            "complaintfire                           161\n",
            "shortformfirecomplaint                  113\n",
            "specialeventsfestivals                   63\n",
            "noentry                                  60\n",
            "Name: inspection_type_grp, dtype: int64]\n"
          ],
          "name": "stdout"
        },
        {
          "output_type": "execute_result",
          "data": {
            "text/html": [
              "<div>\n",
              "<style scoped>\n",
              "    .dataframe tbody tr th:only-of-type {\n",
              "        vertical-align: middle;\n",
              "    }\n",
              "\n",
              "    .dataframe tbody tr th {\n",
              "        vertical-align: top;\n",
              "    }\n",
              "\n",
              "    .dataframe thead th {\n",
              "        text-align: right;\n",
              "    }\n",
              "</style>\n",
              "<table border=\"1\" class=\"dataframe\">\n",
              "  <thead>\n",
              "    <tr style=\"text-align: right;\">\n",
              "      <th></th>\n",
              "      <th>inspection_id</th>\n",
              "      <th>dba_name</th>\n",
              "      <th>aka_name</th>\n",
              "      <th>license_nb</th>\n",
              "      <th>facility_type</th>\n",
              "      <th>risk</th>\n",
              "      <th>address</th>\n",
              "      <th>city</th>\n",
              "      <th>state</th>\n",
              "      <th>zip</th>\n",
              "      <th>...</th>\n",
              "      <th>longitude</th>\n",
              "      <th>location</th>\n",
              "      <th>pass</th>\n",
              "      <th>fail</th>\n",
              "      <th>inspection_recency_in_months</th>\n",
              "      <th>inspection_month</th>\n",
              "      <th>inspection_year</th>\n",
              "      <th>aka_name_grp</th>\n",
              "      <th>facility_type_grp</th>\n",
              "      <th>inspection_type_grp</th>\n",
              "    </tr>\n",
              "  </thead>\n",
              "  <tbody>\n",
              "    <tr>\n",
              "      <th>0</th>\n",
              "      <td>2240307</td>\n",
              "      <td>2 POTZ &amp; A PAN EATERY</td>\n",
              "      <td>2 POTZ &amp; A PAN EATERY</td>\n",
              "      <td>2626283.0</td>\n",
              "      <td>Restaurant</td>\n",
              "      <td>Risk 1 (High)</td>\n",
              "      <td>6052 S EBERHART AVE</td>\n",
              "      <td>CHICAGO</td>\n",
              "      <td>IL</td>\n",
              "      <td>60637.0</td>\n",
              "      <td>...</td>\n",
              "      <td>-87.613385</td>\n",
              "      <td>{'longitude': '-87.61338492635632', 'needs_rec...</td>\n",
              "      <td>1</td>\n",
              "      <td>0</td>\n",
              "      <td>1.511325</td>\n",
              "      <td>11</td>\n",
              "      <td>2018</td>\n",
              "      <td>other</td>\n",
              "      <td>restaurant</td>\n",
              "      <td>license</td>\n",
              "    </tr>\n",
              "    <tr>\n",
              "      <th>1</th>\n",
              "      <td>2240303</td>\n",
              "      <td>CREMERIA SANTA MARIA, INC</td>\n",
              "      <td>CREMERIA SANTA MARIA</td>\n",
              "      <td>1868311.0</td>\n",
              "      <td>Grocery Store</td>\n",
              "      <td>Risk 1 (High)</td>\n",
              "      <td>3424 W 26TH ST</td>\n",
              "      <td>CHICAGO</td>\n",
              "      <td>IL</td>\n",
              "      <td>60623.0</td>\n",
              "      <td>...</td>\n",
              "      <td>-87.711073</td>\n",
              "      <td>{'longitude': '-87.71107279676545', 'needs_rec...</td>\n",
              "      <td>1</td>\n",
              "      <td>0</td>\n",
              "      <td>1.511325</td>\n",
              "      <td>11</td>\n",
              "      <td>2018</td>\n",
              "      <td>other</td>\n",
              "      <td>grocerystore</td>\n",
              "      <td>canvassreinspection</td>\n",
              "    </tr>\n",
              "    <tr>\n",
              "      <th>2</th>\n",
              "      <td>2240297</td>\n",
              "      <td>ORALE</td>\n",
              "      <td>ORALE</td>\n",
              "      <td>2631871.0</td>\n",
              "      <td>Restaurant</td>\n",
              "      <td>Risk 1 (High)</td>\n",
              "      <td>1623 W 43rd ST</td>\n",
              "      <td>CHICAGO</td>\n",
              "      <td>IL</td>\n",
              "      <td>60609.0</td>\n",
              "      <td>...</td>\n",
              "      <td>-87.666218</td>\n",
              "      <td>{'longitude': '-87.66621797293804', 'needs_rec...</td>\n",
              "      <td>1</td>\n",
              "      <td>0</td>\n",
              "      <td>1.511325</td>\n",
              "      <td>11</td>\n",
              "      <td>2018</td>\n",
              "      <td>other</td>\n",
              "      <td>restaurant</td>\n",
              "      <td>license</td>\n",
              "    </tr>\n",
              "    <tr>\n",
              "      <th>3</th>\n",
              "      <td>2240300</td>\n",
              "      <td>AMAZING GRACE DAYCARE CENTER</td>\n",
              "      <td>AMAZING GRACE DAYCARE CENTER</td>\n",
              "      <td>2215901.0</td>\n",
              "      <td>Daycare Above and Under 2 Years</td>\n",
              "      <td>Risk 1 (High)</td>\n",
              "      <td>11123-11125 S HALSTED ST</td>\n",
              "      <td>CHICAGO</td>\n",
              "      <td>IL</td>\n",
              "      <td>60628.0</td>\n",
              "      <td>...</td>\n",
              "      <td>-87.642214</td>\n",
              "      <td>{'longitude': '-87.6422140544927', 'needs_reco...</td>\n",
              "      <td>1</td>\n",
              "      <td>0</td>\n",
              "      <td>1.511325</td>\n",
              "      <td>11</td>\n",
              "      <td>2018</td>\n",
              "      <td>other</td>\n",
              "      <td>daycare</td>\n",
              "      <td>canvass</td>\n",
              "    </tr>\n",
              "    <tr>\n",
              "      <th>4</th>\n",
              "      <td>2240286</td>\n",
              "      <td>JOYS</td>\n",
              "      <td>JOYS</td>\n",
              "      <td>1677471.0</td>\n",
              "      <td>Restaurant</td>\n",
              "      <td>Risk 1 (High)</td>\n",
              "      <td>3257-3259 N BROADWAY</td>\n",
              "      <td>CHICAGO</td>\n",
              "      <td>IL</td>\n",
              "      <td>60657.0</td>\n",
              "      <td>...</td>\n",
              "      <td>-87.644306</td>\n",
              "      <td>{'longitude': '-87.64430633617879', 'needs_rec...</td>\n",
              "      <td>1</td>\n",
              "      <td>0</td>\n",
              "      <td>1.511325</td>\n",
              "      <td>11</td>\n",
              "      <td>2018</td>\n",
              "      <td>other</td>\n",
              "      <td>restaurant</td>\n",
              "      <td>suspectedfoodpoisoning</td>\n",
              "    </tr>\n",
              "    <tr>\n",
              "      <th>5</th>\n",
              "      <td>2240281</td>\n",
              "      <td>ZAIQA RESTAURANT</td>\n",
              "      <td>ZAIQA RESTAURANT</td>\n",
              "      <td>2632018.0</td>\n",
              "      <td>Restaurant</td>\n",
              "      <td>Risk 1 (High)</td>\n",
              "      <td>2245 W DEVON AVE</td>\n",
              "      <td>CHICAGO</td>\n",
              "      <td>IL</td>\n",
              "      <td>60659.0</td>\n",
              "      <td>...</td>\n",
              "      <td>-87.686756</td>\n",
              "      <td>{'longitude': '-87.6867563084304', 'needs_reco...</td>\n",
              "      <td>1</td>\n",
              "      <td>0</td>\n",
              "      <td>1.511325</td>\n",
              "      <td>11</td>\n",
              "      <td>2018</td>\n",
              "      <td>other</td>\n",
              "      <td>restaurant</td>\n",
              "      <td>license</td>\n",
              "    </tr>\n",
              "    <tr>\n",
              "      <th>6</th>\n",
              "      <td>2240284</td>\n",
              "      <td>RAYITO DE SOL SPANISH IMMERSION EARLY LEARNING...</td>\n",
              "      <td>RAYITO DE SOL SPANISH IMMERSION EARLY LEARNING...</td>\n",
              "      <td>2600725.0</td>\n",
              "      <td>Children's Services Facility</td>\n",
              "      <td>Risk 1 (High)</td>\n",
              "      <td>2550 W ADDISON ST</td>\n",
              "      <td>CHICAGO</td>\n",
              "      <td>IL</td>\n",
              "      <td>60618.0</td>\n",
              "      <td>...</td>\n",
              "      <td>-87.692684</td>\n",
              "      <td>{'longitude': '-87.69268373740718', 'needs_rec...</td>\n",
              "      <td>1</td>\n",
              "      <td>0</td>\n",
              "      <td>1.511325</td>\n",
              "      <td>11</td>\n",
              "      <td>2018</td>\n",
              "      <td>other</td>\n",
              "      <td>childrensservicesfacility</td>\n",
              "      <td>licensereinspection</td>\n",
              "    </tr>\n",
              "    <tr>\n",
              "      <th>7</th>\n",
              "      <td>2240277</td>\n",
              "      <td>FRESHII</td>\n",
              "      <td>FRESHII</td>\n",
              "      <td>2446395.0</td>\n",
              "      <td>Restaurant</td>\n",
              "      <td>Risk 1 (High)</td>\n",
              "      <td>1166 W MADISON ST</td>\n",
              "      <td>CHICAGO</td>\n",
              "      <td>IL</td>\n",
              "      <td>60607.0</td>\n",
              "      <td>...</td>\n",
              "      <td>-87.656851</td>\n",
              "      <td>{'longitude': '-87.65685079354886', 'needs_rec...</td>\n",
              "      <td>0</td>\n",
              "      <td>1</td>\n",
              "      <td>1.511325</td>\n",
              "      <td>11</td>\n",
              "      <td>2018</td>\n",
              "      <td>freshii</td>\n",
              "      <td>restaurant</td>\n",
              "      <td>canvass</td>\n",
              "    </tr>\n",
              "    <tr>\n",
              "      <th>8</th>\n",
              "      <td>2240275</td>\n",
              "      <td>CHILDREN'S CENTER INC</td>\n",
              "      <td>CHILDREN'S CENTER INC</td>\n",
              "      <td>2215544.0</td>\n",
              "      <td>Daycare Above and Under 2 Years</td>\n",
              "      <td>Risk 1 (High)</td>\n",
              "      <td>12801-12803 S HALSTED ST</td>\n",
              "      <td>CHICAGO</td>\n",
              "      <td>IL</td>\n",
              "      <td>60628.0</td>\n",
              "      <td>...</td>\n",
              "      <td>-87.641210</td>\n",
              "      <td>{'longitude': '-87.64121030558698', 'needs_rec...</td>\n",
              "      <td>1</td>\n",
              "      <td>0</td>\n",
              "      <td>1.511325</td>\n",
              "      <td>11</td>\n",
              "      <td>2018</td>\n",
              "      <td>other</td>\n",
              "      <td>daycare</td>\n",
              "      <td>canvass</td>\n",
              "    </tr>\n",
              "    <tr>\n",
              "      <th>9</th>\n",
              "      <td>2240266</td>\n",
              "      <td>7-ELEVEN DOMY CORP</td>\n",
              "      <td>7-ELEVEN</td>\n",
              "      <td>59087.0</td>\n",
              "      <td>Grocery Store</td>\n",
              "      <td>Risk 2 (Medium)</td>\n",
              "      <td>5562 N LINCOLN AVE</td>\n",
              "      <td>CHICAGO</td>\n",
              "      <td>IL</td>\n",
              "      <td>60625.0</td>\n",
              "      <td>...</td>\n",
              "      <td>-87.694475</td>\n",
              "      <td>{'longitude': '-87.69447541262302', 'needs_rec...</td>\n",
              "      <td>1</td>\n",
              "      <td>0</td>\n",
              "      <td>1.511325</td>\n",
              "      <td>11</td>\n",
              "      <td>2018</td>\n",
              "      <td>7eleven</td>\n",
              "      <td>grocerystore</td>\n",
              "      <td>canvassreinspection</td>\n",
              "    </tr>\n",
              "  </tbody>\n",
              "</table>\n",
              "<p>10 rows × 25 columns</p>\n",
              "</div>"
            ],
            "text/plain": [
              "   inspection_id                                           dba_name  \\\n",
              "0        2240307                              2 POTZ & A PAN EATERY   \n",
              "1        2240303                          CREMERIA SANTA MARIA, INC   \n",
              "2        2240297                                              ORALE   \n",
              "3        2240300                       AMAZING GRACE DAYCARE CENTER   \n",
              "4        2240286                                               JOYS   \n",
              "5        2240281                                   ZAIQA RESTAURANT   \n",
              "6        2240284  RAYITO DE SOL SPANISH IMMERSION EARLY LEARNING...   \n",
              "7        2240277                                            FRESHII   \n",
              "8        2240275                              CHILDREN'S CENTER INC   \n",
              "9        2240266                                 7-ELEVEN DOMY CORP   \n",
              "\n",
              "                                            aka_name  license_nb  \\\n",
              "0                              2 POTZ & A PAN EATERY   2626283.0   \n",
              "1                               CREMERIA SANTA MARIA   1868311.0   \n",
              "2                                              ORALE   2631871.0   \n",
              "3                       AMAZING GRACE DAYCARE CENTER   2215901.0   \n",
              "4                                               JOYS   1677471.0   \n",
              "5                                   ZAIQA RESTAURANT   2632018.0   \n",
              "6  RAYITO DE SOL SPANISH IMMERSION EARLY LEARNING...   2600725.0   \n",
              "7                                            FRESHII   2446395.0   \n",
              "8                              CHILDREN'S CENTER INC   2215544.0   \n",
              "9                                           7-ELEVEN     59087.0   \n",
              "\n",
              "                     facility_type             risk  \\\n",
              "0                       Restaurant    Risk 1 (High)   \n",
              "1                    Grocery Store    Risk 1 (High)   \n",
              "2                       Restaurant    Risk 1 (High)   \n",
              "3  Daycare Above and Under 2 Years    Risk 1 (High)   \n",
              "4                       Restaurant    Risk 1 (High)   \n",
              "5                       Restaurant    Risk 1 (High)   \n",
              "6     Children's Services Facility    Risk 1 (High)   \n",
              "7                       Restaurant    Risk 1 (High)   \n",
              "8  Daycare Above and Under 2 Years    Risk 1 (High)   \n",
              "9                    Grocery Store  Risk 2 (Medium)   \n",
              "\n",
              "                     address     city state      zip           ...            \\\n",
              "0       6052 S EBERHART AVE   CHICAGO    IL  60637.0           ...             \n",
              "1            3424 W 26TH ST   CHICAGO    IL  60623.0           ...             \n",
              "2            1623 W 43rd ST   CHICAGO    IL  60609.0           ...             \n",
              "3  11123-11125 S HALSTED ST   CHICAGO    IL  60628.0           ...             \n",
              "4      3257-3259 N BROADWAY   CHICAGO    IL  60657.0           ...             \n",
              "5          2245 W DEVON AVE   CHICAGO    IL  60659.0           ...             \n",
              "6         2550 W ADDISON ST   CHICAGO    IL  60618.0           ...             \n",
              "7         1166 W MADISON ST   CHICAGO    IL  60607.0           ...             \n",
              "8  12801-12803 S HALSTED ST   CHICAGO    IL  60628.0           ...             \n",
              "9        5562 N LINCOLN AVE   CHICAGO    IL  60625.0           ...             \n",
              "\n",
              "   longitude                                           location pass fail  \\\n",
              "0 -87.613385  {'longitude': '-87.61338492635632', 'needs_rec...    1    0   \n",
              "1 -87.711073  {'longitude': '-87.71107279676545', 'needs_rec...    1    0   \n",
              "2 -87.666218  {'longitude': '-87.66621797293804', 'needs_rec...    1    0   \n",
              "3 -87.642214  {'longitude': '-87.6422140544927', 'needs_reco...    1    0   \n",
              "4 -87.644306  {'longitude': '-87.64430633617879', 'needs_rec...    1    0   \n",
              "5 -87.686756  {'longitude': '-87.6867563084304', 'needs_reco...    1    0   \n",
              "6 -87.692684  {'longitude': '-87.69268373740718', 'needs_rec...    1    0   \n",
              "7 -87.656851  {'longitude': '-87.65685079354886', 'needs_rec...    0    1   \n",
              "8 -87.641210  {'longitude': '-87.64121030558698', 'needs_rec...    1    0   \n",
              "9 -87.694475  {'longitude': '-87.69447541262302', 'needs_rec...    1    0   \n",
              "\n",
              "   inspection_recency_in_months  inspection_month inspection_year  \\\n",
              "0                      1.511325                11            2018   \n",
              "1                      1.511325                11            2018   \n",
              "2                      1.511325                11            2018   \n",
              "3                      1.511325                11            2018   \n",
              "4                      1.511325                11            2018   \n",
              "5                      1.511325                11            2018   \n",
              "6                      1.511325                11            2018   \n",
              "7                      1.511325                11            2018   \n",
              "8                      1.511325                11            2018   \n",
              "9                      1.511325                11            2018   \n",
              "\n",
              "   aka_name_grp          facility_type_grp     inspection_type_grp  \n",
              "0         other                 restaurant                 license  \n",
              "1         other               grocerystore     canvassreinspection  \n",
              "2         other                 restaurant                 license  \n",
              "3         other                    daycare                 canvass  \n",
              "4         other                 restaurant  suspectedfoodpoisoning  \n",
              "5         other                 restaurant                 license  \n",
              "6         other  childrensservicesfacility     licensereinspection  \n",
              "7       freshii                 restaurant                 canvass  \n",
              "8         other                    daycare                 canvass  \n",
              "9       7eleven               grocerystore     canvassreinspection  \n",
              "\n",
              "[10 rows x 25 columns]"
            ]
          },
          "metadata": {
            "tags": []
          },
          "execution_count": 11
        }
      ]
    },
    {
      "metadata": {
        "id": "Ppgxn9ryejiJ",
        "colab_type": "code",
        "outputId": "ad823a12-6a19-411f-f7fe-c90f3fb51db0",
        "colab": {
          "base_uri": "https://localhost:8080/",
          "height": 301
        }
      },
      "cell_type": "code",
      "source": [
        "# create modeling datasets\n",
        "\n",
        "# create data frame with all X predictors\n",
        "df_for_dummies = df[['aka_name_grp', 'facility_type_grp', 'inspection_type_grp','zip', 'inspection_month', 'inspection_year','inspection_recency_in_months','latitude', 'longitude']]\n",
        "\n",
        "# get dummies for all the grouped columns (we will manually remove 'other')\n",
        "X = pd.get_dummies(data = df_for_dummies, columns = ['aka_name_grp', 'facility_type_grp', 'inspection_type_grp','zip', 'inspection_month', 'inspection_year'])\n",
        "\n",
        "# manually choose reference levels (optional) for increased interpretability\n",
        "# another option would be to set the drop_first parameter to True (first level dropped)\n",
        "X.drop(columns=['aka_name_grp_other', 'facility_type_grp_other', 'inspection_type_grp_other',\\\n",
        "                  'zip_60007.0', 'inspection_month_1', 'inspection_year_2010'],\\\n",
        "                inplace = True)\n",
        "X['y'] = df['pass']\n",
        "X['y_imb'] = df['fail'] # for next section on imbalanced classes\n",
        "print(X.shape)\n",
        "\n",
        "# it's possible the nulls are important, but small # so ignoring for the moment\n",
        "X.dropna(inplace = True)\n",
        "\n",
        "y = X['y']\n",
        "y_imb = X['y_imb']\n",
        "X.drop(columns = ['y','y_imb'], inplace = True)\n",
        "colnames = X.columns\n",
        "# scale data\n",
        "X = StandardScaler().fit_transform(X)\n",
        "X = pd.DataFrame(X)\n",
        "X.columns = colnames\n",
        "\n",
        "\n",
        "print(X.shape)  # wow lotz of columns! how does this affect our model selection?\n",
        "X.columns"
      ],
      "execution_count": 0,
      "outputs": [
        {
          "output_type": "stream",
          "text": [
            "(178089, 213)\n"
          ],
          "name": "stdout"
        },
        {
          "output_type": "stream",
          "text": [
            "/usr/local/lib/python3.6/dist-packages/sklearn/preprocessing/data.py:625: DataConversionWarning: Data with input dtype uint8, float64 were all converted to float64 by StandardScaler.\n",
            "  return self.partial_fit(X, y)\n"
          ],
          "name": "stderr"
        },
        {
          "output_type": "stream",
          "text": [
            "(177425, 211)\n"
          ],
          "name": "stdout"
        },
        {
          "output_type": "stream",
          "text": [
            "/usr/local/lib/python3.6/dist-packages/sklearn/base.py:462: DataConversionWarning: Data with input dtype uint8, float64 were all converted to float64 by StandardScaler.\n",
            "  return self.fit(X, **fit_params).transform(X)\n"
          ],
          "name": "stderr"
        },
        {
          "output_type": "execute_result",
          "data": {
            "text/plain": [
              "Index(['inspection_recency_in_months', 'latitude', 'longitude',\n",
              "       'aka_name_grp_7eleven', 'aka_name_grp_aubonpain', 'aka_name_grp_bp',\n",
              "       'aka_name_grp_burgerking', 'aka_name_grp_cermakproduce',\n",
              "       'aka_name_grp_chipotlemexicangrill', 'aka_name_grp_citgo',\n",
              "       ...\n",
              "       'inspection_month_11', 'inspection_month_12', 'inspection_year_2011',\n",
              "       'inspection_year_2012', 'inspection_year_2013', 'inspection_year_2014',\n",
              "       'inspection_year_2015', 'inspection_year_2016', 'inspection_year_2017',\n",
              "       'inspection_year_2018'],\n",
              "      dtype='object', length=211)"
            ]
          },
          "metadata": {
            "tags": []
          },
          "execution_count": 12
        }
      ]
    },
    {
      "metadata": {
        "id": "w_RN2CFp2hvW",
        "colab_type": "code",
        "outputId": "2b975ade-c3dc-4eb6-ff59-1d72a4fcf89b",
        "colab": {
          "base_uri": "https://localhost:8080/",
          "height": 243
        }
      },
      "cell_type": "code",
      "source": [
        "X.head()"
      ],
      "execution_count": 0,
      "outputs": [
        {
          "output_type": "execute_result",
          "data": {
            "text/html": [
              "<div>\n",
              "<style scoped>\n",
              "    .dataframe tbody tr th:only-of-type {\n",
              "        vertical-align: middle;\n",
              "    }\n",
              "\n",
              "    .dataframe tbody tr th {\n",
              "        vertical-align: top;\n",
              "    }\n",
              "\n",
              "    .dataframe thead th {\n",
              "        text-align: right;\n",
              "    }\n",
              "</style>\n",
              "<table border=\"1\" class=\"dataframe\">\n",
              "  <thead>\n",
              "    <tr style=\"text-align: right;\">\n",
              "      <th></th>\n",
              "      <th>inspection_recency_in_months</th>\n",
              "      <th>latitude</th>\n",
              "      <th>longitude</th>\n",
              "      <th>aka_name_grp_7eleven</th>\n",
              "      <th>aka_name_grp_aubonpain</th>\n",
              "      <th>aka_name_grp_bp</th>\n",
              "      <th>aka_name_grp_burgerking</th>\n",
              "      <th>aka_name_grp_cermakproduce</th>\n",
              "      <th>aka_name_grp_chipotlemexicangrill</th>\n",
              "      <th>aka_name_grp_citgo</th>\n",
              "      <th>...</th>\n",
              "      <th>inspection_month_11</th>\n",
              "      <th>inspection_month_12</th>\n",
              "      <th>inspection_year_2011</th>\n",
              "      <th>inspection_year_2012</th>\n",
              "      <th>inspection_year_2013</th>\n",
              "      <th>inspection_year_2014</th>\n",
              "      <th>inspection_year_2015</th>\n",
              "      <th>inspection_year_2016</th>\n",
              "      <th>inspection_year_2017</th>\n",
              "      <th>inspection_year_2018</th>\n",
              "    </tr>\n",
              "  </thead>\n",
              "  <tbody>\n",
              "    <tr>\n",
              "      <th>0</th>\n",
              "      <td>-1.759361</td>\n",
              "      <td>-1.195297</td>\n",
              "      <td>1.070206</td>\n",
              "      <td>-0.070075</td>\n",
              "      <td>-0.031331</td>\n",
              "      <td>-0.024334</td>\n",
              "      <td>-0.043623</td>\n",
              "      <td>-0.025688</td>\n",
              "      <td>-0.041017</td>\n",
              "      <td>-0.039112</td>\n",
              "      <td>...</td>\n",
              "      <td>3.507168</td>\n",
              "      <td>-0.268876</td>\n",
              "      <td>-0.342922</td>\n",
              "      <td>-0.344214</td>\n",
              "      <td>-0.365272</td>\n",
              "      <td>-0.371066</td>\n",
              "      <td>-0.364786</td>\n",
              "      <td>-0.383349</td>\n",
              "      <td>-0.371311</td>\n",
              "      <td>3.347773</td>\n",
              "    </tr>\n",
              "    <tr>\n",
              "      <th>1</th>\n",
              "      <td>-1.759361</td>\n",
              "      <td>-0.448235</td>\n",
              "      <td>-0.587584</td>\n",
              "      <td>-0.070075</td>\n",
              "      <td>-0.031331</td>\n",
              "      <td>-0.024334</td>\n",
              "      <td>-0.043623</td>\n",
              "      <td>-0.025688</td>\n",
              "      <td>-0.041017</td>\n",
              "      <td>-0.039112</td>\n",
              "      <td>...</td>\n",
              "      <td>3.507168</td>\n",
              "      <td>-0.268876</td>\n",
              "      <td>-0.342922</td>\n",
              "      <td>-0.344214</td>\n",
              "      <td>-0.365272</td>\n",
              "      <td>-0.371066</td>\n",
              "      <td>-0.364786</td>\n",
              "      <td>-0.383349</td>\n",
              "      <td>-0.371311</td>\n",
              "      <td>3.347773</td>\n",
              "    </tr>\n",
              "    <tr>\n",
              "      <th>2</th>\n",
              "      <td>-1.759361</td>\n",
              "      <td>-0.804642</td>\n",
              "      <td>0.173615</td>\n",
              "      <td>-0.070075</td>\n",
              "      <td>-0.031331</td>\n",
              "      <td>-0.024334</td>\n",
              "      <td>-0.043623</td>\n",
              "      <td>-0.025688</td>\n",
              "      <td>-0.041017</td>\n",
              "      <td>-0.039112</td>\n",
              "      <td>...</td>\n",
              "      <td>3.507168</td>\n",
              "      <td>-0.268876</td>\n",
              "      <td>-0.342922</td>\n",
              "      <td>-0.344214</td>\n",
              "      <td>-0.365272</td>\n",
              "      <td>-0.371066</td>\n",
              "      <td>-0.364786</td>\n",
              "      <td>-0.383349</td>\n",
              "      <td>-0.371311</td>\n",
              "      <td>3.347773</td>\n",
              "    </tr>\n",
              "    <tr>\n",
              "      <th>3</th>\n",
              "      <td>-1.759361</td>\n",
              "      <td>-2.340584</td>\n",
              "      <td>0.580968</td>\n",
              "      <td>-0.070075</td>\n",
              "      <td>-0.031331</td>\n",
              "      <td>-0.024334</td>\n",
              "      <td>-0.043623</td>\n",
              "      <td>-0.025688</td>\n",
              "      <td>-0.041017</td>\n",
              "      <td>-0.039112</td>\n",
              "      <td>...</td>\n",
              "      <td>3.507168</td>\n",
              "      <td>-0.268876</td>\n",
              "      <td>-0.342922</td>\n",
              "      <td>-0.344214</td>\n",
              "      <td>-0.365272</td>\n",
              "      <td>-0.371066</td>\n",
              "      <td>-0.364786</td>\n",
              "      <td>-0.383349</td>\n",
              "      <td>-0.371311</td>\n",
              "      <td>3.347773</td>\n",
              "    </tr>\n",
              "    <tr>\n",
              "      <th>4</th>\n",
              "      <td>-1.759361</td>\n",
              "      <td>0.754374</td>\n",
              "      <td>0.545461</td>\n",
              "      <td>-0.070075</td>\n",
              "      <td>-0.031331</td>\n",
              "      <td>-0.024334</td>\n",
              "      <td>-0.043623</td>\n",
              "      <td>-0.025688</td>\n",
              "      <td>-0.041017</td>\n",
              "      <td>-0.039112</td>\n",
              "      <td>...</td>\n",
              "      <td>3.507168</td>\n",
              "      <td>-0.268876</td>\n",
              "      <td>-0.342922</td>\n",
              "      <td>-0.344214</td>\n",
              "      <td>-0.365272</td>\n",
              "      <td>-0.371066</td>\n",
              "      <td>-0.364786</td>\n",
              "      <td>-0.383349</td>\n",
              "      <td>-0.371311</td>\n",
              "      <td>3.347773</td>\n",
              "    </tr>\n",
              "  </tbody>\n",
              "</table>\n",
              "<p>5 rows × 211 columns</p>\n",
              "</div>"
            ],
            "text/plain": [
              "   inspection_recency_in_months  latitude  longitude  aka_name_grp_7eleven  \\\n",
              "0                     -1.759361 -1.195297   1.070206             -0.070075   \n",
              "1                     -1.759361 -0.448235  -0.587584             -0.070075   \n",
              "2                     -1.759361 -0.804642   0.173615             -0.070075   \n",
              "3                     -1.759361 -2.340584   0.580968             -0.070075   \n",
              "4                     -1.759361  0.754374   0.545461             -0.070075   \n",
              "\n",
              "   aka_name_grp_aubonpain  aka_name_grp_bp  aka_name_grp_burgerking  \\\n",
              "0               -0.031331        -0.024334                -0.043623   \n",
              "1               -0.031331        -0.024334                -0.043623   \n",
              "2               -0.031331        -0.024334                -0.043623   \n",
              "3               -0.031331        -0.024334                -0.043623   \n",
              "4               -0.031331        -0.024334                -0.043623   \n",
              "\n",
              "   aka_name_grp_cermakproduce  aka_name_grp_chipotlemexicangrill  \\\n",
              "0                   -0.025688                          -0.041017   \n",
              "1                   -0.025688                          -0.041017   \n",
              "2                   -0.025688                          -0.041017   \n",
              "3                   -0.025688                          -0.041017   \n",
              "4                   -0.025688                          -0.041017   \n",
              "\n",
              "   aka_name_grp_citgo          ...           inspection_month_11  \\\n",
              "0           -0.039112          ...                      3.507168   \n",
              "1           -0.039112          ...                      3.507168   \n",
              "2           -0.039112          ...                      3.507168   \n",
              "3           -0.039112          ...                      3.507168   \n",
              "4           -0.039112          ...                      3.507168   \n",
              "\n",
              "   inspection_month_12  inspection_year_2011  inspection_year_2012  \\\n",
              "0            -0.268876             -0.342922             -0.344214   \n",
              "1            -0.268876             -0.342922             -0.344214   \n",
              "2            -0.268876             -0.342922             -0.344214   \n",
              "3            -0.268876             -0.342922             -0.344214   \n",
              "4            -0.268876             -0.342922             -0.344214   \n",
              "\n",
              "   inspection_year_2013  inspection_year_2014  inspection_year_2015  \\\n",
              "0             -0.365272             -0.371066             -0.364786   \n",
              "1             -0.365272             -0.371066             -0.364786   \n",
              "2             -0.365272             -0.371066             -0.364786   \n",
              "3             -0.365272             -0.371066             -0.364786   \n",
              "4             -0.365272             -0.371066             -0.364786   \n",
              "\n",
              "   inspection_year_2016  inspection_year_2017  inspection_year_2018  \n",
              "0             -0.383349             -0.371311              3.347773  \n",
              "1             -0.383349             -0.371311              3.347773  \n",
              "2             -0.383349             -0.371311              3.347773  \n",
              "3             -0.383349             -0.371311              3.347773  \n",
              "4             -0.383349             -0.371311              3.347773  \n",
              "\n",
              "[5 rows x 211 columns]"
            ]
          },
          "metadata": {
            "tags": []
          },
          "execution_count": 13
        }
      ]
    },
    {
      "metadata": {
        "id": "0-CvUJroejiQ",
        "colab_type": "text"
      },
      "cell_type": "markdown",
      "source": [
        "**Imbalanced Classes**\n",
        "- As seen in the code ran above, there is a large percentage of passing establishments (~68%) compared to other. It is rare that the classification variable you are trying to predict has an even percentage distributions for each class. For example, when predicting fraud, the average rate can be lower than 1%. This is typically refered to as _imbalanced classes_. There are a few ways to handle imbalanced classes in the dependent variable, such as oversampling and anomaly detection.\n",
        "- link to an article with more methods on how to handle imbalanced classes here: https://towardsdatascience.com/dealing-with-imbalanced-classes-in-machine-learning-d43d6fa19d2\n",
        "- NOTE: All resampling operations have to be applied to only training datasets. If resampling operations are done before splitting the dataset into a train and test or validation sets, then it could end up with the same observation in all datasets. You will inflate the accuracy and recall because your model will be able to perfectly predict the value for those observations when predicting on the validation set. "
      ]
    },
    {
      "metadata": {
        "id": "gmL43nkKejiT",
        "colab_type": "code",
        "outputId": "5a775b3f-c3ec-4813-a853-e329b1bdc3bb",
        "colab": {
          "base_uri": "https://localhost:8080/",
          "height": 52
        }
      },
      "cell_type": "code",
      "source": [
        "# the rate of passing is not an extreme case of imbalanced classes, but\n",
        "# 'pass' class is considerably more than 50%\n",
        "print('pass rate:', y.mean())\n",
        "# fail rate is a bit more imbalanced, so let's use it for the next example\n",
        "print('fail rate:',y_imb.mean())"
      ],
      "execution_count": 0,
      "outputs": [
        {
          "output_type": "stream",
          "text": [
            "pass rate: 0.6799549105255742\n",
            "fail rate: 0.19373819923911512\n"
          ],
          "name": "stdout"
        }
      ]
    },
    {
      "metadata": {
        "id": "HolMdsxvejie",
        "colab_type": "text"
      },
      "cell_type": "markdown",
      "source": [
        "*Solution 1:* Sampling\n",
        "- Oversampling: randomly sample minority classes (with replacement) to increase the instances in data; can lead to overfitting fairly easily\n",
        "- Undersampling: sample less of the non-minority classes to increase overall presence of minority class; could lead to an underfit model\n",
        "- SMOTE (synthetic minority over-sampling): create new instances of the minority class by forming convex combinations of neighboring instances; typically the most commonly used of the sampling techniques\n",
        "- imbalanced learning package user guide: https://imbalanced-learn.readthedocs.io/en/stable/user_guide.html\n",
        "- You can also choose to stratify the sample when doing your train/test split by using the argument stratify=y (or whatever your dependent variable is named - y_imb in the example below)"
      ]
    },
    {
      "metadata": {
        "id": "NHywX4WXejik",
        "colab_type": "code",
        "outputId": "3d33deeb-aa28-4d35-94c7-73fb1d64cb60",
        "colab": {
          "base_uri": "https://localhost:8080/",
          "height": 70
        }
      },
      "cell_type": "code",
      "source": [
        "# notes how this evens out your class frequency\n",
        "X_resampled, y_resampled = SMOTE().fit_resample(X, y_imb)\n",
        "print('new mean failure: ',y_resampled.mean())\n",
        "print('old shape', X.shape)\n",
        "print('new shape', X_resampled.shape)\n",
        "\n",
        "# clean up\n",
        "del X_resampled\n",
        "del y_resampled"
      ],
      "execution_count": 0,
      "outputs": [
        {
          "output_type": "stream",
          "text": [
            "new mean failure:  0.5\n",
            "old shape (177425, 211)\n",
            "new shape (286102, 211)\n"
          ],
          "name": "stdout"
        }
      ]
    },
    {
      "metadata": {
        "id": "bkcT0Pmf384X",
        "colab_type": "code",
        "colab": {}
      },
      "cell_type": "code",
      "source": [
        "X_train, X_test, y_train, y_test= train_test_split( X, \n",
        "                                                    y_imb, \n",
        "                                                    test_size = .3,\n",
        "                                                    stratify = y_imb, # stratify the sample\n",
        "                                                    random_state = 42 )"
      ],
      "execution_count": 0,
      "outputs": []
    },
    {
      "metadata": {
        "id": "lAx2tXa_ejir",
        "colab_type": "text"
      },
      "cell_type": "markdown",
      "source": [
        "*Solution 2:* Anomaly Detection\n",
        "- Used in extreme cases of imbalanced classes\n",
        "- Assume a normal distribution of data points, and anything that sufficiently deviates from thee distribution is considered an anomaly\n",
        "- Can use clustering methods, one-class SVMs (sklearn.svm.OneClassSVM), and isolation forests (sklearn.ensemble.IsolationForest)\n",
        "  - If you are detecting one type of anomaly, use OneClassSVM, if you are detecting one or more classes of anomalies, use IsolationForest\n",
        "- More ideas here: https://scikit-learn.org/stable/auto_examples/plot_anomaly_comparison.html#sphx-glr-auto-examples-plot-anomaly-comparison-py\n",
        "- Isolation Forest example: https://scikit-learn.org/stable/auto_examples/ensemble/plot_isolation_forest.html#sphx-glr-auto-examples-ensemble-plot-isolation-forest-py"
      ]
    },
    {
      "metadata": {
        "id": "fNJn5qSRejit",
        "colab_type": "code",
        "colab": {}
      },
      "cell_type": "code",
      "source": [
        "# let's split our data with 'fail' as our predictor\n",
        "X_train, X_test, y_train, y_test = train_test_split(X, y_imb, test_size = .3, random_state = 42)"
      ],
      "execution_count": 0,
      "outputs": []
    },
    {
      "metadata": {
        "id": "7vBKq0Pxejix",
        "colab_type": "code",
        "outputId": "e0fd8547-1c87-4c61-b0f4-5e2a40fcb303",
        "colab": {
          "base_uri": "https://localhost:8080/",
          "height": 35
        }
      },
      "cell_type": "code",
      "source": [
        "y_train.mean()"
      ],
      "execution_count": 0,
      "outputs": [
        {
          "output_type": "execute_result",
          "data": {
            "text/plain": [
              "0.19375669299580506"
            ]
          },
          "metadata": {
            "tags": []
          },
          "execution_count": 59
        }
      ]
    },
    {
      "metadata": {
        "id": "ZF9Z3_3xeji1",
        "colab_type": "text"
      },
      "cell_type": "markdown",
      "source": [
        "Isolation forests select a feature and randomly split by a particular value, and continue the same process through features recursively until an instance is \n",
        "isolated. The number of splits it takes to isolate an instance is considered the \"path length\". Like a Random Forest, this is done many times and averaged over the forest of random trees. Shorter paths are more likely to be anomalies."
      ]
    },
    {
      "metadata": {
        "id": "TW5jI4pWeji3",
        "colab_type": "code",
        "colab": {}
      },
      "cell_type": "code",
      "source": [
        "from sklearn.ensemble import IsolationForest"
      ],
      "execution_count": 0,
      "outputs": []
    },
    {
      "metadata": {
        "id": "TDV4CGBZeji9",
        "colab_type": "code",
        "colab": {}
      },
      "cell_type": "code",
      "source": [
        "isoFor = IsolationForest(behaviour='new', #aligns decision function with contamination %\n",
        "                         contamination= (y_train.mean()),\n",
        "                         random_state=42)\n",
        "# fit and predict anomolies\n",
        "y_pred_train = isoFor.fit_predict(X_train)\n",
        "y_pred_test = isoFor.predict(X_test)"
      ],
      "execution_count": 0,
      "outputs": []
    },
    {
      "metadata": {
        "id": "ODKMFSdHejjE",
        "colab_type": "code",
        "outputId": "1de3d508-28b7-44f3-96b0-4724519276c6",
        "colab": {
          "base_uri": "https://localhost:8080/",
          "height": 372
        }
      },
      "cell_type": "code",
      "source": [
        "# -1 indicates outlier prediction\n",
        "pred = np.where(y_pred_train == -1, 1, 0)\n",
        "print('training data isolation tree accuracy: ',accuracy_score(y_train, pred)) \n",
        "print(classification_report(y_train, pred)) \n",
        "\n",
        "pred_test = np.where(y_pred_test == -1, 1, 0)\n",
        "print('test data isolation tree accuracy: ',accuracy_score(y_test, pred_test))\n",
        "print(classification_report(y_test, pred_test)) "
      ],
      "execution_count": 0,
      "outputs": [
        {
          "output_type": "stream",
          "text": [
            "training data isolation tree accuracy:  0.4193740589547252\n",
            "              precision    recall  f1-score   support\n",
            "\n",
            "           0       0.34      0.85      0.48     39735\n",
            "           1       0.76      0.22      0.34     84462\n",
            "\n",
            "   micro avg       0.42      0.42      0.42    124197\n",
            "   macro avg       0.55      0.53      0.41    124197\n",
            "weighted avg       0.62      0.42      0.38    124197\n",
            "\n",
            "test data isolation tree accuracy:  0.4214511159540092\n",
            "              precision    recall  f1-score   support\n",
            "\n",
            "           0       0.34      0.85      0.48     17049\n",
            "           1       0.75      0.22      0.34     36179\n",
            "\n",
            "   micro avg       0.42      0.42      0.42     53228\n",
            "   macro avg       0.55      0.53      0.41     53228\n",
            "weighted avg       0.62      0.42      0.39     53228\n",
            "\n"
          ],
          "name": "stdout"
        }
      ]
    },
    {
      "metadata": {
        "id": "CreVxTw-80YT",
        "colab_type": "code",
        "colab": {}
      },
      "cell_type": "code",
      "source": [
        "# clean up to preserve memory\n",
        "del isoFor\n",
        "del y_pred_train\n",
        "del y_pred_test\n",
        "del pred_test\n",
        "del pred"
      ],
      "execution_count": 0,
      "outputs": []
    },
    {
      "metadata": {
        "id": "meRLXKmRejjj",
        "colab_type": "text"
      },
      "cell_type": "markdown",
      "source": [
        "**Classification Report Metrics Explained**\n",
        "- *Precision:* out of all  predicted positive, how many did we predict correctly?<br> \n",
        "    ``` tp / (tp + fp) ``` <br>\n",
        "    - use when there is a high cost associated with False Positive (ex. predicting email spam) <br>\n",
        "- *Recall:* for all actually positive, how many did we predict correctly? <br>\n",
        "    ``` tp / (tp + fn) ``` <br>\n",
        "    - use when there is a high cost associated with False Negatives (ex. predicting terrorist attacks) <br>\n",
        "- *F1 Score:* harmonic mean of precision and recall <br>\n",
        "    ``` 2 * (precision * recall) / (precision + recall) ``` <br>\n",
        "    - use when comparing global models, it's best at 1 and worst at 0\n",
        "- *Support:* the number of occurrences at each level in the actual dataset\n",
        "\n",
        "\n",
        "- *Micro* vs *Macro* vs *Weighted* Averages\n",
        "    - *Macro*: compute metric independently for each level/class and then take an average treating levels equally\n",
        "    - *Micro*: aggregate contributions of all classes and compute average metric (preferable in multiclass with imbalance)\n",
        "    - *Weighted*: weighted average based on size of class\n",
        "    \n",
        "Based on this, what metric should we be looking at to assess the model if we are predicting 'pass'?"
      ]
    },
    {
      "metadata": {
        "id": "7NrZQpHHejjk",
        "colab_type": "text"
      },
      "cell_type": "markdown",
      "source": [
        "Example of micro vs macro average calculation such that $P_r$ = precision <br>\n",
        "<img src=\"https://drive.google.com/uc?export=view&id=1kaP6OUr4AxEBV5bis39ZYYmp-DghHdnB\">"
      ]
    },
    {
      "metadata": {
        "id": "4vtuLA9iejjm",
        "colab_type": "text"
      },
      "cell_type": "markdown",
      "source": [
        "**Segmentation**\n",
        "- Segmentation is an important consideration which is directly related to the true positive and true negative rates, and is another great metric to use when handling imbalanced classes. Think of these metrics as testing the model's ability to differentiate and segment the classes of the dependent variable - so in this case, clearly segmenting pass and no pass. \n",
        "\n",
        "\n",
        "- *ROC Curve:* plots performance of classification model under various true positive and false positive rate combinations. If you are predicting more positive outcomes, it's more likely that you will have false positives, so this representation shows the tradeoff of true positives to false positive predictions. \n",
        "    - A perfect classifier has a 100% true positive rate and a 0% false positive rate; random classifier will have no lift in the upper left hand corner of the plot, and will have a similar slope to the dashed line\n",
        "- *AUC:* Area under the ROC curve, desire is to maximize\n",
        "    - Value will be between 1 and .5, perfect classifier will have AUC of 1\n",
        "- *Gini Coefficient:* (2 * AUC) - 1, scales the AUC such that random classifier scores 0 and perfect classifier scores 1"
      ]
    },
    {
      "metadata": {
        "id": "I2oPo3m6ejjJ",
        "colab_type": "text"
      },
      "cell_type": "markdown",
      "source": [
        "**Fit Models**\n",
        "- Since our dependent variable isn't that imbalanced, let's fit some more traditional models"
      ]
    },
    {
      "metadata": {
        "id": "5OKxHRB-ejjL",
        "colab_type": "code",
        "colab": {}
      },
      "cell_type": "code",
      "source": [
        "# re-split our data with 'pass' as our predictor\n",
        "X_train, X_test, y_train, y_test = train_test_split(X, y, test_size = .3, random_state = 42)"
      ],
      "execution_count": 0,
      "outputs": []
    },
    {
      "metadata": {
        "id": "tMAZnKu0ejjO",
        "colab_type": "code",
        "outputId": "241b4b09-5140-49b9-a4af-0bbf59f6b5cb",
        "colab": {
          "base_uri": "https://localhost:8080/",
          "height": 70
        }
      },
      "cell_type": "code",
      "source": [
        "# Logistic Regression\n",
        "# based on our last section, is this model appropriate?\n",
        "logReg = LogisticRegression()\n",
        "logReg.fit(X_train, y_train)\n",
        "print('logistic regression accuracy: ', accuracy_score(y_test, logReg.predict(X_test)))"
      ],
      "execution_count": 0,
      "outputs": [
        {
          "output_type": "stream",
          "text": [
            "/usr/local/lib/python3.6/dist-packages/sklearn/linear_model/logistic.py:433: FutureWarning: Default solver will be changed to 'lbfgs' in 0.22. Specify a solver to silence this warning.\n",
            "  FutureWarning)\n"
          ],
          "name": "stderr"
        },
        {
          "output_type": "stream",
          "text": [
            "logistic regression accuracy:  0.707090253250169\n"
          ],
          "name": "stdout"
        }
      ]
    },
    {
      "metadata": {
        "id": "l2-4ar_KejjV",
        "colab_type": "code",
        "outputId": "b8c8fa01-ef07-40a8-d7cd-cba355ff04cb",
        "colab": {
          "base_uri": "https://localhost:8080/",
          "height": 35
        }
      },
      "cell_type": "code",
      "source": [
        "# Random Forest\n",
        "randFor = RandomForestClassifier(n_estimators = 100, oob_score = True, n_jobs = -1,random_state =42,\n",
        "                                 max_features = \"auto\", min_samples_leaf = 10)\n",
        "randFor.fit(X_train, y_train)\n",
        "print('random forest accuracy: ', accuracy_score(y_test, randFor.predict(X_test)))"
      ],
      "execution_count": 0,
      "outputs": [
        {
          "output_type": "stream",
          "text": [
            "random forest accuracy:  0.7165025926204254\n"
          ],
          "name": "stdout"
        }
      ]
    },
    {
      "metadata": {
        "id": "_4vw97fUejjb",
        "colab_type": "code",
        "outputId": "13ea4a3e-dcea-45da-e714-6df9dbcc73b9",
        "colab": {
          "base_uri": "https://localhost:8080/",
          "height": 35
        }
      },
      "cell_type": "code",
      "source": [
        "# GBM\n",
        "gbm = xgb.XGBClassifier(n_estimators = 100, max_depth = 6, learning_rate = .15, random_state = 42)\n",
        "gbm.fit(X_train, y_train, eval_metric='logloss')\n",
        "print('gradient boosted model accuracy: ', accuracy_score(y_test, gbm.predict(X_test)))"
      ],
      "execution_count": 0,
      "outputs": [
        {
          "output_type": "stream",
          "text": [
            "gradient boosted model accuracy:  0.7172728639062148\n"
          ],
          "name": "stdout"
        }
      ]
    },
    {
      "metadata": {
        "id": "8GJZqVt1ejjf",
        "colab_type": "code",
        "outputId": "71b0bd50-b45d-4fff-92bd-fecf9e5446d9",
        "colab": {
          "base_uri": "https://localhost:8080/",
          "height": 497
        }
      },
      "cell_type": "code",
      "source": [
        "print(classification_report(y_test, logReg.predict(X_test)))\n",
        "print(classification_report(y_test, randFor.predict(X_test)))\n",
        "print(classification_report(y_test, gbm.predict(X_test)))"
      ],
      "execution_count": 0,
      "outputs": [
        {
          "output_type": "stream",
          "text": [
            "              precision    recall  f1-score   support\n",
            "\n",
            "           0       0.64      0.20      0.30     17049\n",
            "           1       0.72      0.95      0.81     36179\n",
            "\n",
            "   micro avg       0.71      0.71      0.71     53228\n",
            "   macro avg       0.68      0.57      0.56     53228\n",
            "weighted avg       0.69      0.71      0.65     53228\n",
            "\n",
            "              precision    recall  f1-score   support\n",
            "\n",
            "           0       0.74      0.18      0.29     17049\n",
            "           1       0.71      0.97      0.82     36179\n",
            "\n",
            "   micro avg       0.72      0.72      0.72     53228\n",
            "   macro avg       0.73      0.57      0.55     53228\n",
            "weighted avg       0.72      0.72      0.65     53228\n",
            "\n",
            "              precision    recall  f1-score   support\n",
            "\n",
            "           0       0.69      0.21      0.32     17049\n",
            "           1       0.72      0.96      0.82     36179\n",
            "\n",
            "   micro avg       0.72      0.72      0.72     53228\n",
            "   macro avg       0.71      0.58      0.57     53228\n",
            "weighted avg       0.71      0.72      0.66     53228\n",
            "\n"
          ],
          "name": "stdout"
        }
      ]
    },
    {
      "metadata": {
        "id": "a7gZ0-baejjm",
        "colab_type": "code",
        "colab": {}
      },
      "cell_type": "code",
      "source": [
        "## can look at this measure by class\n",
        "def plot_the_roc_dwayne_johnson(pred_list, colorlist):\n",
        "    fpr = []\n",
        "    tpr = []\n",
        "    thresholds = []\n",
        "    roc_auc = []\n",
        "    gini = []\n",
        "    for model_pred in pred_list:\n",
        "        fpr_i, tpr_i, thresholds_i = roc_curve(y_test, model_pred)\n",
        "        roc_i_auc = auc(fpr_i, tpr_i)\n",
        "        gini_i = (2 * float(roc_i_auc)) - 1\n",
        "        fpr.append(fpr_i)\n",
        "        tpr.append(tpr_i)\n",
        "        thresholds.append(thresholds_i)\n",
        "        roc_auc.append(roc_i_auc)\n",
        "        gini.append(gini_i)\n",
        "\n",
        "    plt.figure()\n",
        "    colors = colorlist\n",
        "    for i, clr in zip(range(len(pred_list)), colorlist):\n",
        "         plt.plot(fpr[i], tpr[i], color=clr, lw=2,\n",
        "                  label='ROC curve of model {0} (area = {1:0.2f}, gini = {2:0.2f})'\n",
        "                  ''.format(i + 1, roc_auc[i], gini[i]))\n",
        "    plt.plot([0, 1], [0, 1], 'k--', lw=2)\n",
        "    plt.xlim([0.0, 1.0])\n",
        "    plt.ylim([0.0, 1.05])\n",
        "    plt.xlabel('False Positive Rate')\n",
        "    plt.ylabel('True Positive Rate')\n",
        "    plt.title('ROC Curve')\n",
        "    plt.legend(loc=\"lower right\")\n",
        "    plt.show()\n",
        "    plt.show()"
      ],
      "execution_count": 0,
      "outputs": []
    },
    {
      "metadata": {
        "id": "34Z4oUcpejjr",
        "colab_type": "code",
        "outputId": "03da84c4-60d9-4757-e074-20fa1a67aa41",
        "colab": {
          "base_uri": "https://localhost:8080/",
          "height": 294
        }
      },
      "cell_type": "code",
      "source": [
        "preds = [logReg.predict(X_test), randFor.predict(X_test), gbm.predict(X_test)]\n",
        "plot_the_roc_dwayne_johnson(preds,['aqua', 'darkorange','deeppink'])\n",
        "#['aqua', 'darkorange', 'cornflowerblue','deeppink','navy']"
      ],
      "execution_count": 0,
      "outputs": [
        {
          "output_type": "display_data",
          "data": {
            "image/png": "[encoded data removed]",
            "text/plain": [
              "<Figure size 432x288 with 1 Axes>"
            ]
          },
          "metadata": {
            "tags": []
          }
        }
      ]
    },
    {
      "metadata": {
        "id": "3YFEXwWiejjy",
        "colab_type": "text"
      },
      "cell_type": "markdown",
      "source": [
        "**Feature Importance**\n",
        "- Let's take a look at the most important variables in our classifier models\n",
        "- Tree Based: Variable Importance (gain)\n",
        "- Logistic Regression: Coefficients, preserve sign of coefficient to determine effect on the model\n",
        "- Selecting/engineering features is the most imperative aspect of creating an effective model!"
      ]
    },
    {
      "metadata": {
        "id": "ykN1Ti1gejjz",
        "colab_type": "code",
        "outputId": "95291466-fbef-4a3a-f859-cb209f41a7a6",
        "colab": {
          "base_uri": "https://localhost:8080/",
          "height": 294
        }
      },
      "cell_type": "code",
      "source": [
        "n = 10\n",
        "plot_df = pd.DataFrame()\n",
        "\n",
        "plot_df['relative importance'] = randFor.feature_importances_[randFor.feature_importances_.argsort()[::-1][:n]]\n",
        "plot_df.index = X.columns[randFor.feature_importances_.argsort()[::-1][:n]]\n",
        "plot_df.sort_values(by = 'relative importance', inplace = True)\n",
        "#print(plot_df)\n",
        "\n",
        "plot_df.plot.barh(title = 'Feature Importance')\n",
        "plt.xlabel('Relative Importance')\n",
        "plt.show()"
      ],
      "execution_count": 0,
      "outputs": [
        {
          "output_type": "display_data",
          "data": {
            "image/png": "[encoded data removed]",
            "text/plain": [
              "<Figure size 432x288 with 1 Axes>"
            ]
          },
          "metadata": {
            "tags": []
          }
        }
      ]
    },
    {
      "metadata": {
        "id": "8YOJIrf2ejj4",
        "colab_type": "code",
        "outputId": "77909191-72b8-40c1-da88-f8ee835b7cd3",
        "colab": {
          "base_uri": "https://localhost:8080/",
          "height": 294
        }
      },
      "cell_type": "code",
      "source": [
        "n = 10\n",
        "plot_df = pd.DataFrame()\n",
        "\n",
        "plot_df['variable names'] = X.columns\n",
        "plot_df['coefficient'] =  logReg.coef_[0]\n",
        "plot_df['abs_imp'] = [abs(c) for c in logReg.coef_[0]]\n",
        "plot_df.sort_values(by = 'abs_imp', inplace = True)\n",
        "plot_df = plot_df[['coefficient', 'variable names']].tail(n)\n",
        "plot_df.index = plot_df['variable names']\n",
        "\n",
        "plot_df.tail(10).plot.barh(title = 'Feature Importance')\n",
        "plt.xlabel('Relative Importance')\n",
        "plt.show()"
      ],
      "execution_count": 0,
      "outputs": [
        {
          "output_type": "display_data",
          "data": {
            "image/png": "[encoded data removed]",
            "text/plain": [
              "<Figure size 432x288 with 1 Axes>"
            ]
          },
          "metadata": {
            "tags": []
          }
        }
      ]
    },
    {
      "metadata": {
        "id": "-e7a3xhPejj8",
        "colab_type": "code",
        "outputId": "d6f3a9cd-c6cd-4d44-95a3-b797c5f46eb5",
        "colab": {
          "base_uri": "https://localhost:8080/",
          "height": 867
        }
      },
      "cell_type": "code",
      "source": [
        "n = 10\n",
        "plot_df = pd.DataFrame()\n",
        "xgb.plot_importance(gbm, max_num_features = n, importance_type = 'weight')\n",
        "xgb.plot_importance(gbm, max_num_features = n, importance_type = 'gain')\n",
        "xgb.plot_importance(gbm, max_num_features = n, importance_type = 'cover')"
      ],
      "execution_count": 0,
      "outputs": [
        {
          "output_type": "execute_result",
          "data": {
            "text/plain": [
              "<matplotlib.axes._subplots.AxesSubplot at 0x7f8ca5344128>"
            ]
          },
          "metadata": {
            "tags": []
          },
          "execution_count": 21
        },
        {
          "output_type": "display_data",
          "data": {
            "image/png": "[encoded data removed]",
            "text/plain": [
              "<Figure size 432x288 with 1 Axes>"
            ]
          },
          "metadata": {
            "tags": []
          }
        },
        {
          "output_type": "display_data",
          "data": {
            "image/png": "[encoded data removed]",
            "text/plain": [
              "<Figure size 432x288 with 1 Axes>"
            ]
          },
          "metadata": {
            "tags": []
          }
        },
        {
          "output_type": "display_data",
          "data": {
            "image/png": "[encoded data removed]",
            "text/plain": [
              "<Figure size 432x288 with 1 Axes>"
            ]
          },
          "metadata": {
            "tags": []
          }
        }
      ]
    },
    {
      "metadata": {
        "id": "9fqvwIZiejkg",
        "colab_type": "text"
      },
      "cell_type": "markdown",
      "source": [
        "**Part 3:** Hyperparameter Tuning"
      ]
    },
    {
      "metadata": {
        "id": "gtISQCBCejkh",
        "colab_type": "text"
      },
      "cell_type": "markdown",
      "source": [
        "**Concept of Regularization**\n",
        "\n",
        "Inherently, when fitting a model on the training dataset, it will have a better predictive accuracy on this data compared to outside data, which is why validation data exists. In order to correct overfitting and decrease bias of a model to training data, we can introduce regularization into the model. Think of this as adding a penalty or obstacle when the model tries to fit to the underlying training data. \n",
        "\n",
        "The figure below shows the divergence of training and test predictive error as the model complexity increases. As we introduce a small bit of complexity into the model, we can move toward a better fit on the testing set, which is what we ultimately care about most.\n",
        "\n",
        "<img src=\"https://drive.google.com/uc?export=view&id=1z8isuqV9bGq3xy8jvKE1lPrizBd_7VNS\">"
      ]
    },
    {
      "metadata": {
        "id": "gb1jFSZAejkh",
        "colab_type": "text"
      },
      "cell_type": "markdown",
      "source": [
        "**L1 and L2 Regularization**\n",
        "\n",
        "- The easiest way to understand regularization is through regularized regression models. Lasso, Ridge, and Elastic Net. Recall that for regression models, coefficients are estimated using values that minimize the following objective function (residual sum squares):\n",
        "<br>\n",
        "<img = src=\"https://drive.google.com/uc?export=view&id=1GXR_Sfj1Gi1BM8lUb6eFC7J8VGdeQ1T1\">\n",
        "<br>\n",
        "- Ridge and Lasso Regression introduce an $L_1$ and $L_2$ regularization term to the normal RSS function.\n",
        "\n",
        "**Ridge Regression (**$L_2$**Regularization)**\n",
        "- In Ridge Regression, the $L_2$ regularization term is added to the RSS formula.\n",
        "- Now, we need to minimize this function subject to the sum of all coefficient estimates squared\n",
        "- This will decrease the volatility of the parameter estimates, and force estimates close to zero when variable does not explain enough variance in the model, resulting in correlated variables sharing the signal in parameter estimates.\n",
        "- The amount of the penalty applied is controlled by the tuning parameter which the user selects\n",
        "    - If $\\lambda$ is 0, it will result in OLS parameter estimates; if $\\lambda$ is large, parameter estimates forced close to zero\n",
        "    - Shown below as lambda, but ($\\lambda$) in scikitlearn function it's alpha\n",
        "    - Scikit learn's alpha is not to be confused with R's glmnet() alpha parameter which controls whether lasso, ridge or elastic net model is fit\n",
        "<br><img = src=\"https://drive.google.com/uc?export=view&id=1rE7TavvJ5rivG9S48vJ2DNjAAyxsbKlB\"><br>\n",
        "\n",
        "**Lasso Regression (**$L_1$**Regularization)**\n",
        "- In Lasso Regression, the $L_1$ regularization term is added to the RSS formula.\n",
        "- Now, we need to minimize this function subject to the sum of the absolute values of all coefficient estimates\n",
        "- This will decrease the volatility of the parameter estimates, and force estimates to zero when variable does not explain enough variance in the model or if variables are correlated. This is also a helpful tactic for feature selection.\n",
        "- Again, amount of the penalty applied is controlled by the tuning parameter lambda ($\\lambda$).\n",
        "    - If $\\lambda$ is 0, it will result in OLS parameter estimates; if $\\lambda$ is large, parameter estimates forced to zero   \n",
        "<br><img = src=\"https://drive.google.com/uc?export=view&id=1dW0VJHUBMKr1d182L7c1_DVnR-EJwlx_\"><br>\n",
        "\n",
        "**ElasticNet**\n",
        "- Elastic-Net is a compromise between Lasso and Ridge. \n",
        "- Elastic-Net penalizes a mix of both absolute and squared size.\n",
        "- The ratio of the two penalty types should be tuned. The overall strength should also be tuned.\n",
        "\n",
        "There’s no \"best\" type of penalty. It really depends on the dataset and the problem. Try different algorithms that use a range of penalty strengths as part of the tuning process."
      ]
    },
    {
      "metadata": {
        "id": "PZGc3Qswejkj",
        "colab_type": "code",
        "colab": {}
      },
      "cell_type": "code",
      "source": [
        "# lasso\n",
        "# for logistic regression, we can use the C parameter (1/lambda) \n",
        "# in sklearn.linear_model.LogisticRegression()\n",
        "# in my opinion, this is much easier to do in R with glmnet, and I recommend checking out \n",
        "# the python version of the package here: https://glmnet-python.readthedocs.io/en/latest/glmnet_vignette.html#Logistic-Regression\n",
        "lassoLogReg = LogisticRegression(penalty='l1',\n",
        "                                  n_jobs =-1,\n",
        "                                  solver='liblinear',\n",
        "                                  C=.05).fit(X_train, y_train)\n",
        "print('number of non-zero logistic regression parameter estimates: ',\n",
        "      len(logReg.coef_[0][logReg.coef_[0] != 0]))\n",
        "print('number of non-zero lasso logistic regression parameter estimates: ',\n",
        "    len(lassoLogReg.coef_[0][lassoLogReg.coef_[0] != 0]))"
      ],
      "execution_count": 0,
      "outputs": []
    },
    {
      "metadata": {
        "id": "S9s87vaaejkl",
        "colab_type": "code",
        "outputId": "fff1fc2d-3afb-4824-a8d8-55dc23cf5752",
        "colab": {
          "base_uri": "https://localhost:8080/",
          "height": 284
        }
      },
      "cell_type": "code",
      "source": [
        "print(X_train.columns[lassoLogReg.coef_[0] == 0])"
      ],
      "execution_count": 0,
      "outputs": [
        {
          "output_type": "stream",
          "text": [
            "Index(['longitude', 'aka_name_grp_kentuckyfriedchicken',\n",
            "       'aka_name_grp_panerabread', 'inspection_type_grp_canvass',\n",
            "       'zip_60015.0', 'zip_60018.0', 'zip_60022.0', 'zip_60035.0',\n",
            "       'zip_60044.0', 'zip_60047.0', 'zip_60076.0', 'zip_60077.0',\n",
            "       'zip_60107.0', 'zip_60108.0', 'zip_60126.0', 'zip_60148.0',\n",
            "       'zip_60153.0', 'zip_60155.0', 'zip_60176.0', 'zip_60193.0',\n",
            "       'zip_60201.0', 'zip_60202.0', 'zip_60302.0', 'zip_60402.0',\n",
            "       'zip_60406.0', 'zip_60409.0', 'zip_60411.0', 'zip_60423.0',\n",
            "       'zip_60429.0', 'zip_60440.0', 'zip_60453.0', 'zip_60455.0',\n",
            "       'zip_60458.0', 'zip_60461.0', 'zip_60464.0', 'zip_60477.0',\n",
            "       'zip_60478.0', 'zip_60482.0', 'zip_60540.0', 'zip_60585.0',\n",
            "       'zip_60609.0', 'zip_60657.0', 'zip_60706.0', 'zip_60714.0',\n",
            "       'zip_60803.0', 'zip_60804.0', 'zip_60805.0', 'zip_60827.0',\n",
            "       'inspection_year_2016', 'inspection_year_2017'],\n",
            "      dtype='object')\n"
          ],
          "name": "stdout"
        }
      ]
    },
    {
      "metadata": {
        "id": "cqS-BIx8ejks",
        "colab_type": "text"
      },
      "cell_type": "markdown",
      "source": [
        "**Hyperparameter Tuning (XGBoost Model)**\n",
        "- Always be sure to read the documentation for the comprehensive list of hyperparameters available. For this example, we will look at the hyperparameters associated with a gradient boosting model in the XGBoost package. <br>\n",
        "- Full hyperparameter list: https://xgboost.readthedocs.io/en/latest/parameter.html\n",
        "\n",
        "Learning Task Hyperparameters\n",
        "- *objective function:* examples for classification problems include logisitic regression for binary classification (returns predicted probability), multiclass classification using softmax objective (returns predicted class), or the same multiclass option returning probabilities instead of predicted classes\n",
        "- *evaluation metric:* error metric to assess the model performance when fitting. Common values include rmse, logloss/mlogloss, error/merror, auc.\n",
        "- *early stopping*: if the evaluation metric does not improve by n rounds of fitting, stop fitting model\n",
        "- *nrounds*: number of rounds to fit model\n",
        "\n",
        "Booster Hyperparameters\n",
        "- *eta:* learning rate\n",
        "- *min_child_weight:* minimum sum of weights of all observations required in a 'child', used to prevent overfitting\n",
        "- *max_depth:* max number of levels in a tree\n",
        "- *max_leaf_nodes:* max number of terminal nodes or leaves in a tree (can be used instead of max depth)\n",
        "- *gamma:* mimimum loss reduction required to make a split\n",
        "- *subsample:* fraction of observations used in each tree\n",
        "- *colsample_bytree:* limits number of columns used in each tree; prevents overfitting\n",
        "- *colsample_bylevel:* limits number of columns used in each level of tree; prevents overfitting (if you use subsample and colsample_bytree, you probably don't need this one)\n",
        "- *lambda:* L2 regularization term on weight\n",
        "- *alpha:* L1 regularization term on weight\n",
        "- *scale_pos_weight:* use if there is a class imbalance\n",
        "\n",
        "Notes:\n",
        "- You should at least tune eta, nrounds, and max_depth\n",
        "- The parameters are related to each other, if you have a low learning rate, you can also increase max_depth\n",
        "- You can experiment with different evaluation metrics "
      ]
    },
    {
      "metadata": {
        "id": "uvuo2jx_ejkt",
        "colab_type": "text"
      },
      "cell_type": "markdown",
      "source": [
        "**Hyperparameter Tuning Workflow Example**\n",
        "\n",
        "Heavily borrowed from: https://www.analyticsvidhya.com/blog/2016/03/complete-guide-parameter-tuning-xgboost-with-codes-python/ (this is a great website!!)\n",
        "\n",
        "General parameter tuning steps for XGBoost outlined in article:\n",
        "1. Choose a relatively high learning rate and determine the optimum number of trees based on this learning rate\n",
        "2. Tune tree-specific hyperparameters (max_depth, min_child_weight, gamma, subsample, colsample_bytree) for the decided learning rate and number of trees\n",
        "3. Tune the regularization hyperparameters (lambda and alpha) to help reduce model complexity and enhance performance\n",
        "4. Lower learning rate and decide the optimal hyperparameters\n",
        "\n",
        "Please note that this is **not** the only way to tune hyperparameters! You can use this as a starting point and experiment on your own to see what works best for you!\n"
      ]
    },
    {
      "metadata": {
        "id": "aFITLrg5ejku",
        "colab_type": "code",
        "colab": {}
      },
      "cell_type": "code",
      "source": [
        "# code in the next few cells borrowed from Analytics Vidhya article\n",
        "# not just copying because we are lazy - it is great starter/reference code to have handy.\n",
        "# adapt it to your needs!\n",
        "def modelfit(model, \n",
        "             x_inputs_train, \n",
        "             predictors, \n",
        "             y_input_train,\n",
        "             x_input_test,\n",
        "             y_input_test,\n",
        "             evalmetric = 'logloss',\n",
        "             useTrainCV = True, \n",
        "             cv_folds = 3, \n",
        "             early_stopping_rounds = 50):\n",
        "    \n",
        "   \n",
        "  if useTrainCV: #use cv to get n_estimators value for eta selected\n",
        "      xgtrain = xgb.DMatrix(data = x_inputs_train, \n",
        "                            label = y_input_train.values)\n",
        "      cvresult = xgb.cv(params = model.get_params(), \n",
        "                        dtrain = xgtrain, \n",
        "                        num_boost_round = model.get_params()['n_estimators'], \n",
        "                        nfold = cv_folds,\n",
        "                        metrics = evalmetric, \n",
        "                        early_stopping_rounds = early_stopping_rounds)\n",
        "      model.set_params(n_estimators = cvresult.shape[0]) # reset your nrounds to cv value\n",
        "\n",
        "  #Fit the algorithm on the data\n",
        "  model.fit(x_inputs_train, y_input_train, eval_metric = evalmetric)\n",
        "\n",
        "  #Predict training set:\n",
        "  dtrain_predictions = model.predict(x_inputs_train)\n",
        "  dtrain_predprob = model.predict_proba(x_inputs_train)[:,1]\n",
        "\n",
        "  #Predict test set:\n",
        "  dtest_predictions = model.predict(x_inputs_test)\n",
        "  dtest_predprob = model.predict_proba(x_inputs_test)[:,1]\n",
        "\n",
        "  #Print model report:\n",
        "  print(\"\\nModel Report\")\n",
        "  print(\"Accuracy (Train): %.4g\" % accuracy_score(y_input_train.values, \n",
        "                                                   dtrain_predictions))\n",
        "  fpr, tpr, thresholds = roc_curve(y_input_train, dtrain_predprob)\n",
        "  print(\"AUC Score (Train): %f\" % auc(fpr, tpr))\n",
        "  print(\"Accuracy (Test): %.4g\" % accuracy_score(y_input_test.values, \n",
        "                                                   dtest_predictions))\n",
        "  fpr, tpr, thresholds = roc_curve(y_input_test, dtest_predprob)\n",
        "  print(\"AUC Score (Test): %f\" % auc(fpr, tpr))\n",
        "\n",
        "  feat_imp = xgb.plot_importance(model, importance_type = 'gain')"
      ],
      "execution_count": 0,
      "outputs": []
    },
    {
      "metadata": {
        "id": "UqGTMlj8251J",
        "colab_type": "text"
      },
      "cell_type": "markdown",
      "source": [
        "Let's break this function down to see what it's doing. The cell below defines each of the different inputs to the function and sets parameters for our first model. Only use the lassoLet's break this function down tp see what it's doing. The cell below defines each of the different inputs to the function and sets parameters for our first model. Only use the non-zero weighted features from lasso model above."
      ]
    },
    {
      "metadata": {
        "id": "E1tQQWC4o3Gx",
        "colab_type": "code",
        "outputId": "dc29e14a-f3c5-4967-a87b-13ad1f8bd8fb",
        "colab": {
          "base_uri": "https://localhost:8080/",
          "height": 230
        }
      },
      "cell_type": "code",
      "source": [
        "x_inputs_train = X_train[X_train.columns[lassoLogReg.coef_[0] != 0]]\n",
        "y_input_train = y_train\n",
        "x_inputs_test = X_test[X_train.columns[lassoLogReg.coef_[0] != 0]]\n",
        "y_input_test = y_test\n",
        "\n",
        "predictors = X_train.columns[lassoLogReg.coef_[0] != 0]\n",
        "print(x_inputs_train.shape, y_input_train.shape)\n",
        "print(x_inputs_test.shape, y_input_test.shape)\n",
        "print(predictors)"
      ],
      "execution_count": 0,
      "outputs": [
        {
          "output_type": "stream",
          "text": [
            "(124197, 161) (124197,)\n",
            "(53228, 161) (53228,)\n",
            "Index(['inspection_recency_in_months', 'latitude', 'aka_name_grp_7eleven',\n",
            "       'aka_name_grp_aubonpain', 'aka_name_grp_bp', 'aka_name_grp_burgerking',\n",
            "       'aka_name_grp_cermakproduce', 'aka_name_grp_chipotlemexicangrill',\n",
            "       'aka_name_grp_citgo', 'aka_name_grp_cornerbakerycafe',\n",
            "       ...\n",
            "       'inspection_month_9', 'inspection_month_10', 'inspection_month_11',\n",
            "       'inspection_month_12', 'inspection_year_2011', 'inspection_year_2012',\n",
            "       'inspection_year_2013', 'inspection_year_2014', 'inspection_year_2015',\n",
            "       'inspection_year_2018'],\n",
            "      dtype='object', length=161)\n"
          ],
          "name": "stdout"
        }
      ]
    },
    {
      "metadata": {
        "id": "actwxJ5DIQi7",
        "colab_type": "code",
        "colab": {}
      },
      "cell_type": "code",
      "source": [
        "xgb1 = xgb.XGBClassifier(\n",
        "     learning_rate =0.15,\n",
        "     n_estimators=1000,\n",
        "     max_depth=5,\n",
        "     min_child_weight=6,\n",
        "     gamma=0,\n",
        "     subsample=0.8,\n",
        "     colsample_bytree=0.8,\n",
        "     objective= 'binary:logistic',\n",
        "     nthread=4,\n",
        "     seed=42,\n",
        "     scale_pos_weight = 1)\n",
        "\n",
        "model = xgb1\n",
        "predictors = predictors\n",
        "x_inputs_train = x_inputs_train\n",
        "y_input_train = y_input_train\n",
        "x_inputs_test = x_inputs_test\n",
        "y_input_test = y_input_test\n",
        "evalmetric = 'logloss'\n",
        "useTrainCV = True\n",
        "cv_folds = 3\n",
        "early_stopping_rounds = 10"
      ],
      "execution_count": 0,
      "outputs": []
    },
    {
      "metadata": {
        "id": "soitLOedZIN2",
        "colab_type": "text"
      },
      "cell_type": "markdown",
      "source": [
        "Create DMatrix for training data (sparse matrix used for XGBoost)"
      ]
    },
    {
      "metadata": {
        "id": "LMrDVkQTzX9g",
        "colab_type": "code",
        "colab": {}
      },
      "cell_type": "code",
      "source": [
        "xgtrain = xgb.DMatrix(data = x_inputs_train.values, \n",
        "                      label = y_input_train.values)"
      ],
      "execution_count": 0,
      "outputs": []
    },
    {
      "metadata": {
        "id": "4aDapSHoze5A",
        "colab_type": "code",
        "outputId": "7b06339f-4bfb-4bc7-b890-750af3da5c42",
        "colab": {
          "base_uri": "https://localhost:8080/",
          "height": 10275
        }
      },
      "cell_type": "code",
      "source": [
        "%time\n",
        "cvresult = xgb.cv(params = model.get_params(), \n",
        "                  dtrain = xgtrain, \n",
        "                  num_boost_round = model.get_params()['n_estimators'], \n",
        "                  nfold = cv_folds,\n",
        "                  metrics = evalmetric, \n",
        "                  early_stopping_rounds = early_stopping_rounds, \n",
        "                  verbose_eval = True)\n",
        "print(cvresult.shape[0])\n",
        "import pickle\n",
        "filename = '/content/drive/My Drive/wids-brownbag-model-selection-and-eval-101/pickle/cvresult.pickle'\n",
        "pickle.dump(cvresult, open(filename,'wb'))"
      ],
      "execution_count": 0,
      "outputs": [
        {
          "output_type": "stream",
          "text": [
            "CPU times: user 4 µs, sys: 0 ns, total: 4 µs\n",
            "Wall time: 8.58 µs\n",
            "[0]\ttrain-logloss:0.666609+0.000116877\ttest-logloss:0.666686+0.000125988\n",
            "[1]\ttrain-logloss:0.648287+0.000737456\ttest-logloss:0.64844+0.000816199\n",
            "[2]\ttrain-logloss:0.634661+0.000895577\ttest-logloss:0.634958+0.000655049\n",
            "[3]\ttrain-logloss:0.623935+0.0015841\ttest-logloss:0.62436+0.00137199\n",
            "[4]\ttrain-logloss:0.613966+0.0011839\ttest-logloss:0.614474+0.000835577\n",
            "[5]\ttrain-logloss:0.607046+0.00210516\ttest-logloss:0.60765+0.00164519\n",
            "[6]\ttrain-logloss:0.60063+0.00179758\ttest-logloss:0.601363+0.00117329\n",
            "[7]\ttrain-logloss:0.595696+0.0015424\ttest-logloss:0.596542+0.000820907\n",
            "[8]\ttrain-logloss:0.591502+0.00141823\ttest-logloss:0.592497+0.000608164\n",
            "[9]\ttrain-logloss:0.588243+0.00123273\ttest-logloss:0.589308+0.000427597\n",
            "[10]\ttrain-logloss:0.585767+0.00162295\ttest-logloss:0.586878+0.000745907\n",
            "[11]\ttrain-logloss:0.583536+0.00138837\ttest-logloss:0.584738+0.000439823\n",
            "[12]\ttrain-logloss:0.581661+0.00128933\ttest-logloss:0.582949+0.000274059\n",
            "[13]\ttrain-logloss:0.579962+0.00116093\ttest-logloss:0.581376+0.000106666\n",
            "[14]\ttrain-logloss:0.57863+0.0011416\ttest-logloss:0.580142+7.48435e-05\n",
            "[15]\ttrain-logloss:0.577+0.000617077\ttest-logloss:0.578669+0.000643432\n",
            "[16]\ttrain-logloss:0.575775+0.00046238\ttest-logloss:0.577523+0.000814333\n",
            "[17]\ttrain-logloss:0.574691+0.000383007\ttest-logloss:0.576495+0.000882546\n",
            "[18]\ttrain-logloss:0.573643+0.000609897\ttest-logloss:0.57559+0.000710541\n",
            "[19]\ttrain-logloss:0.572886+0.000580831\ttest-logloss:0.574983+0.000790742\n",
            "[20]\ttrain-logloss:0.572052+0.000540953\ttest-logloss:0.574299+0.000924848\n",
            "[21]\ttrain-logloss:0.571119+0.000614197\ttest-logloss:0.573491+0.00117468\n",
            "[22]\ttrain-logloss:0.570281+0.000264954\ttest-logloss:0.572766+0.00129234\n",
            "[23]\ttrain-logloss:0.56959+0.000255915\ttest-logloss:0.572203+0.0013729\n",
            "[24]\ttrain-logloss:0.569054+0.000291102\ttest-logloss:0.571794+0.00142454\n",
            "[25]\ttrain-logloss:0.568231+0.000727485\ttest-logloss:0.571136+0.00100294\n",
            "[26]\ttrain-logloss:0.567347+0.000425018\ttest-logloss:0.570394+0.00120045\n",
            "[27]\ttrain-logloss:0.566674+0.000182423\ttest-logloss:0.569855+0.00146726\n",
            "[28]\ttrain-logloss:0.566296+0.000156142\ttest-logloss:0.569487+0.00151474\n",
            "[29]\ttrain-logloss:0.565664+0.000142387\ttest-logloss:0.568962+0.00162804\n",
            "[30]\ttrain-logloss:0.565014+0.000376561\ttest-logloss:0.56839+0.00139904\n",
            "[31]\ttrain-logloss:0.564586+0.000352818\ttest-logloss:0.568076+0.0014737\n",
            "[32]\ttrain-logloss:0.564173+0.000360013\ttest-logloss:0.567742+0.00152667\n",
            "[33]\ttrain-logloss:0.563728+0.000388276\ttest-logloss:0.567393+0.00151088\n",
            "[34]\ttrain-logloss:0.563208+0.00038166\ttest-logloss:0.566966+0.00169808\n",
            "[35]\ttrain-logloss:0.562581+0.000643844\ttest-logloss:0.566453+0.0019808\n",
            "[36]\ttrain-logloss:0.56219+0.000641018\ttest-logloss:0.566134+0.00200017\n",
            "[37]\ttrain-logloss:0.561811+0.000707162\ttest-logloss:0.565881+0.00206537\n",
            "[38]\ttrain-logloss:0.561456+0.000740757\ttest-logloss:0.565619+0.00202151\n",
            "[39]\ttrain-logloss:0.561098+0.000797526\ttest-logloss:0.565361+0.00205979\n",
            "[40]\ttrain-logloss:0.560757+0.000830859\ttest-logloss:0.565094+0.00210147\n",
            "[41]\ttrain-logloss:0.560397+0.000784196\ttest-logloss:0.564815+0.00206072\n",
            "[42]\ttrain-logloss:0.560109+0.000788102\ttest-logloss:0.564621+0.00207776\n",
            "[43]\ttrain-logloss:0.559803+0.000789999\ttest-logloss:0.564439+0.0020956\n",
            "[44]\ttrain-logloss:0.559494+0.000778532\ttest-logloss:0.564171+0.00209877\n",
            "[45]\ttrain-logloss:0.559103+0.000901499\ttest-logloss:0.563885+0.00208497\n",
            "[46]\ttrain-logloss:0.558742+0.00105668\ttest-logloss:0.563575+0.00222837\n",
            "[47]\ttrain-logloss:0.558173+0.000659177\ttest-logloss:0.563112+0.00230364\n",
            "[48]\ttrain-logloss:0.557768+0.000657826\ttest-logloss:0.562802+0.00231823\n",
            "[49]\ttrain-logloss:0.557339+0.000589108\ttest-logloss:0.562476+0.00234169\n",
            "[50]\ttrain-logloss:0.557015+0.000511516\ttest-logloss:0.562239+0.00233274\n",
            "[51]\ttrain-logloss:0.556581+0.000341108\ttest-logloss:0.561873+0.00230118\n",
            "[52]\ttrain-logloss:0.556086+0.000325997\ttest-logloss:0.561458+0.00201085\n",
            "[53]\ttrain-logloss:0.555861+0.000347736\ttest-logloss:0.56127+0.00202603\n",
            "[54]\ttrain-logloss:0.555639+0.000391369\ttest-logloss:0.561165+0.00199703\n",
            "[55]\ttrain-logloss:0.555346+0.000452067\ttest-logloss:0.560956+0.00199314\n",
            "[56]\ttrain-logloss:0.555045+0.000382044\ttest-logloss:0.560774+0.00199318\n",
            "[57]\ttrain-logloss:0.554748+0.000465338\ttest-logloss:0.560551+0.00191145\n",
            "[58]\ttrain-logloss:0.554491+0.000512674\ttest-logloss:0.560391+0.00196818\n",
            "[59]\ttrain-logloss:0.554305+0.00054203\ttest-logloss:0.560272+0.00195802\n",
            "[60]\ttrain-logloss:0.553921+0.000683244\ttest-logloss:0.559957+0.00201466\n",
            "[61]\ttrain-logloss:0.553498+0.000429984\ttest-logloss:0.559729+0.00207124\n",
            "[62]\ttrain-logloss:0.553217+0.000447142\ttest-logloss:0.559543+0.00205409\n",
            "[63]\ttrain-logloss:0.552929+0.000522552\ttest-logloss:0.559335+0.00203393\n",
            "[64]\ttrain-logloss:0.552748+0.000511324\ttest-logloss:0.559227+0.00206079\n",
            "[65]\ttrain-logloss:0.552476+0.000561936\ttest-logloss:0.558993+0.00212727\n",
            "[66]\ttrain-logloss:0.552113+0.000621563\ttest-logloss:0.558767+0.00208252\n",
            "[67]\ttrain-logloss:0.551918+0.00064139\ttest-logloss:0.558612+0.00210232\n",
            "[68]\ttrain-logloss:0.55172+0.000671854\ttest-logloss:0.558506+0.00211253\n",
            "[69]\ttrain-logloss:0.551526+0.000661695\ttest-logloss:0.558373+0.00210383\n",
            "[70]\ttrain-logloss:0.551187+0.000760879\ttest-logloss:0.558154+0.00190042\n",
            "[71]\ttrain-logloss:0.550965+0.000695493\ttest-logloss:0.558009+0.00188672\n",
            "[72]\ttrain-logloss:0.550357+0.000682442\ttest-logloss:0.557524+0.00171144\n",
            "[73]\ttrain-logloss:0.550142+0.000656569\ttest-logloss:0.557379+0.00173695\n",
            "[74]\ttrain-logloss:0.54989+0.000679822\ttest-logloss:0.5572+0.00177247\n",
            "[75]\ttrain-logloss:0.549639+0.00063108\ttest-logloss:0.557057+0.00175802\n",
            "[76]\ttrain-logloss:0.549475+0.000620969\ttest-logloss:0.556932+0.00174298\n",
            "[77]\ttrain-logloss:0.549184+0.000643011\ttest-logloss:0.556766+0.00181096\n",
            "[78]\ttrain-logloss:0.548995+0.000671175\ttest-logloss:0.556609+0.00176791\n",
            "[79]\ttrain-logloss:0.548804+0.000657442\ttest-logloss:0.556447+0.00181116\n",
            "[80]\ttrain-logloss:0.548581+0.000641816\ttest-logloss:0.556308+0.0018143\n",
            "[81]\ttrain-logloss:0.548391+0.000662733\ttest-logloss:0.556199+0.00179938\n",
            "[82]\ttrain-logloss:0.548141+0.000750674\ttest-logloss:0.55601+0.00172949\n",
            "[83]\ttrain-logloss:0.547976+0.000781988\ttest-logloss:0.555921+0.00172177\n",
            "[84]\ttrain-logloss:0.547668+0.000575571\ttest-logloss:0.555676+0.00178664\n",
            "[85]\ttrain-logloss:0.547486+0.000589716\ttest-logloss:0.55556+0.00176322\n",
            "[86]\ttrain-logloss:0.547322+0.00054932\ttest-logloss:0.555475+0.00177475\n",
            "[87]\ttrain-logloss:0.54713+0.000657952\ttest-logloss:0.555311+0.00169293\n",
            "[88]\ttrain-logloss:0.546863+0.000625814\ttest-logloss:0.555112+0.00170289\n",
            "[89]\ttrain-logloss:0.546637+0.0007055\ttest-logloss:0.554997+0.00165495\n",
            "[90]\ttrain-logloss:0.546471+0.000666694\ttest-logloss:0.554906+0.00167891\n",
            "[91]\ttrain-logloss:0.546146+0.000648124\ttest-logloss:0.554685+0.00167471\n",
            "[92]\ttrain-logloss:0.545902+0.000539279\ttest-logloss:0.554507+0.00174241\n",
            "[93]\ttrain-logloss:0.545715+0.000563638\ttest-logloss:0.554384+0.00172502\n",
            "[94]\ttrain-logloss:0.545528+0.000592203\ttest-logloss:0.554295+0.00169296\n",
            "[95]\ttrain-logloss:0.545366+0.000600394\ttest-logloss:0.55418+0.00166241\n",
            "[96]\ttrain-logloss:0.545172+0.000636874\ttest-logloss:0.554053+0.00161737\n",
            "[97]\ttrain-logloss:0.545001+0.000727368\ttest-logloss:0.553972+0.00161646\n",
            "[98]\ttrain-logloss:0.544768+0.000666905\ttest-logloss:0.553774+0.00164715\n",
            "[99]\ttrain-logloss:0.544546+0.000740847\ttest-logloss:0.553594+0.00157247\n",
            "[100]\ttrain-logloss:0.544377+0.000701637\ttest-logloss:0.553523+0.00160369\n",
            "[101]\ttrain-logloss:0.544188+0.000707599\ttest-logloss:0.553399+0.00160263\n",
            "[102]\ttrain-logloss:0.543904+0.00077949\ttest-logloss:0.5532+0.0014913\n",
            "[103]\ttrain-logloss:0.543791+0.000763906\ttest-logloss:0.553152+0.00151996\n",
            "[104]\ttrain-logloss:0.543628+0.000750308\ttest-logloss:0.553043+0.0015272\n",
            "[105]\ttrain-logloss:0.543437+0.000788853\ttest-logloss:0.552942+0.00157642\n",
            "[106]\ttrain-logloss:0.543288+0.000756489\ttest-logloss:0.552847+0.00161659\n",
            "[107]\ttrain-logloss:0.543173+0.00075302\ttest-logloss:0.55277+0.00163708\n",
            "[108]\ttrain-logloss:0.542884+0.00093137\ttest-logloss:0.552572+0.00151215\n",
            "[109]\ttrain-logloss:0.542732+0.00090056\ttest-logloss:0.552489+0.00151304\n",
            "[110]\ttrain-logloss:0.542638+0.000890036\ttest-logloss:0.552448+0.00152263\n",
            "[111]\ttrain-logloss:0.542521+0.000910678\ttest-logloss:0.552406+0.00150612\n",
            "[112]\ttrain-logloss:0.5423+0.00090188\ttest-logloss:0.552306+0.00152522\n",
            "[113]\ttrain-logloss:0.54212+0.000866995\ttest-logloss:0.5522+0.00153831\n",
            "[114]\ttrain-logloss:0.541953+0.000882148\ttest-logloss:0.552148+0.00153023\n",
            "[115]\ttrain-logloss:0.541813+0.000888829\ttest-logloss:0.552083+0.0015173\n",
            "[116]\ttrain-logloss:0.541672+0.000847988\ttest-logloss:0.552009+0.00154046\n",
            "[117]\ttrain-logloss:0.541483+0.000860476\ttest-logloss:0.551882+0.00154245\n",
            "[118]\ttrain-logloss:0.541237+0.000752366\ttest-logloss:0.551711+0.00159333\n",
            "[119]\ttrain-logloss:0.541003+0.000675476\ttest-logloss:0.551562+0.0016543\n",
            "[120]\ttrain-logloss:0.540821+0.000728787\ttest-logloss:0.551464+0.00165654\n",
            "[121]\ttrain-logloss:0.540667+0.000759818\ttest-logloss:0.55141+0.00163991\n",
            "[122]\ttrain-logloss:0.540501+0.000778245\ttest-logloss:0.551288+0.00163493\n",
            "[123]\ttrain-logloss:0.540391+0.000807701\ttest-logloss:0.551241+0.00163815\n",
            "[124]\ttrain-logloss:0.540234+0.000869746\ttest-logloss:0.55115+0.00159039\n",
            "[125]\ttrain-logloss:0.540119+0.000849809\ttest-logloss:0.551077+0.00159975\n",
            "[126]\ttrain-logloss:0.539953+0.000809588\ttest-logloss:0.550999+0.00162157\n",
            "[127]\ttrain-logloss:0.53982+0.000817403\ttest-logloss:0.550908+0.00160297\n",
            "[128]\ttrain-logloss:0.539662+0.000811894\ttest-logloss:0.550826+0.00161649\n",
            "[129]\ttrain-logloss:0.539506+0.000749797\ttest-logloss:0.550727+0.00165789\n",
            "[130]\ttrain-logloss:0.539318+0.000844078\ttest-logloss:0.550596+0.0016155\n",
            "[131]\ttrain-logloss:0.539151+0.000777253\ttest-logloss:0.550542+0.00162852\n",
            "[132]\ttrain-logloss:0.538942+0.000782571\ttest-logloss:0.550359+0.00164941\n",
            "[133]\ttrain-logloss:0.53879+0.000776186\ttest-logloss:0.550271+0.00167238\n",
            "[134]\ttrain-logloss:0.538606+0.000746722\ttest-logloss:0.550126+0.00171629\n",
            "[135]\ttrain-logloss:0.538451+0.000749511\ttest-logloss:0.550067+0.00168685\n",
            "[136]\ttrain-logloss:0.538343+0.000757446\ttest-logloss:0.550027+0.00168852\n",
            "[137]\ttrain-logloss:0.538231+0.000778379\ttest-logloss:0.549966+0.00167868\n",
            "[138]\ttrain-logloss:0.538068+0.000724298\ttest-logloss:0.549871+0.00171314\n",
            "[139]\ttrain-logloss:0.537906+0.000796298\ttest-logloss:0.549789+0.00165977\n",
            "[140]\ttrain-logloss:0.537802+0.000788366\ttest-logloss:0.549748+0.00166574\n",
            "[141]\ttrain-logloss:0.537687+0.000796844\ttest-logloss:0.549697+0.00167454\n",
            "[142]\ttrain-logloss:0.537579+0.000833612\ttest-logloss:0.549644+0.00164785\n",
            "[143]\ttrain-logloss:0.537456+0.000867347\ttest-logloss:0.549579+0.00161552\n",
            "[144]\ttrain-logloss:0.537334+0.000884955\ttest-logloss:0.549528+0.00155094\n",
            "[145]\ttrain-logloss:0.537199+0.000969216\ttest-logloss:0.549464+0.00154602\n",
            "[146]\ttrain-logloss:0.537067+0.000967186\ttest-logloss:0.54942+0.00156611\n",
            "[147]\ttrain-logloss:0.536933+0.000913574\ttest-logloss:0.549357+0.00159225\n",
            "[148]\ttrain-logloss:0.536785+0.000973197\ttest-logloss:0.549286+0.00155978\n",
            "[149]\ttrain-logloss:0.536674+0.000961776\ttest-logloss:0.549208+0.00157879\n",
            "[150]\ttrain-logloss:0.536513+0.000998683\ttest-logloss:0.549141+0.00159916\n",
            "[151]\ttrain-logloss:0.536391+0.000987873\ttest-logloss:0.549069+0.00162568\n",
            "[152]\ttrain-logloss:0.536279+0.00099701\ttest-logloss:0.549021+0.00159332\n",
            "[153]\ttrain-logloss:0.536077+0.00104189\ttest-logloss:0.548874+0.0016053\n",
            "[154]\ttrain-logloss:0.535959+0.00101791\ttest-logloss:0.548829+0.00162065\n",
            "[155]\ttrain-logloss:0.535874+0.00101574\ttest-logloss:0.548767+0.00163244\n",
            "[156]\ttrain-logloss:0.535727+0.000990069\ttest-logloss:0.54872+0.00162687\n",
            "[157]\ttrain-logloss:0.535435+0.00106212\ttest-logloss:0.548556+0.00156257\n",
            "[158]\ttrain-logloss:0.535182+0.000995864\ttest-logloss:0.548411+0.00163792\n",
            "[159]\ttrain-logloss:0.535065+0.000944511\ttest-logloss:0.548379+0.00164222\n",
            "[160]\ttrain-logloss:0.53499+0.000938847\ttest-logloss:0.548337+0.00166818\n",
            "[161]\ttrain-logloss:0.534849+0.000870566\ttest-logloss:0.548279+0.00168165\n",
            "[162]\ttrain-logloss:0.534712+0.000807838\ttest-logloss:0.548194+0.00173484\n",
            "[163]\ttrain-logloss:0.534608+0.000815324\ttest-logloss:0.548178+0.00171733\n",
            "[164]\ttrain-logloss:0.534495+0.000836692\ttest-logloss:0.54816+0.00171932\n",
            "[165]\ttrain-logloss:0.534305+0.000804217\ttest-logloss:0.548102+0.00173908\n",
            "[166]\ttrain-logloss:0.534152+0.000798103\ttest-logloss:0.548032+0.00173407\n",
            "[167]\ttrain-logloss:0.534011+0.000802804\ttest-logloss:0.547981+0.00176294\n",
            "[168]\ttrain-logloss:0.533932+0.000790348\ttest-logloss:0.547942+0.0017814\n",
            "[169]\ttrain-logloss:0.533798+0.000793575\ttest-logloss:0.547877+0.00173075\n",
            "[170]\ttrain-logloss:0.533688+0.000762006\ttest-logloss:0.54784+0.00174463\n",
            "[171]\ttrain-logloss:0.533557+0.00079985\ttest-logloss:0.547785+0.00170536\n",
            "[172]\ttrain-logloss:0.533432+0.000777544\ttest-logloss:0.547734+0.00171797\n",
            "[173]\ttrain-logloss:0.533197+0.000709093\ttest-logloss:0.547605+0.00175207\n",
            "[174]\ttrain-logloss:0.533044+0.000681086\ttest-logloss:0.547514+0.00179096\n",
            "[175]\ttrain-logloss:0.532949+0.000642425\ttest-logloss:0.547457+0.00181908\n",
            "[176]\ttrain-logloss:0.53285+0.000656887\ttest-logloss:0.547422+0.00183207\n",
            "[177]\ttrain-logloss:0.532757+0.000637142\ttest-logloss:0.547405+0.00184557\n",
            "[178]\ttrain-logloss:0.532669+0.000646597\ttest-logloss:0.547343+0.00183562\n",
            "[179]\ttrain-logloss:0.532553+0.000641526\ttest-logloss:0.547316+0.00185247\n",
            "[180]\ttrain-logloss:0.532414+0.000601624\ttest-logloss:0.547234+0.00186313\n",
            "[181]\ttrain-logloss:0.532241+0.000621544\ttest-logloss:0.547136+0.00182717\n",
            "[182]\ttrain-logloss:0.532116+0.000607686\ttest-logloss:0.547073+0.00184954\n",
            "[183]\ttrain-logloss:0.532014+0.000565248\ttest-logloss:0.547023+0.00187693\n",
            "[184]\ttrain-logloss:0.531881+0.000543042\ttest-logloss:0.546968+0.00192089\n",
            "[185]\ttrain-logloss:0.531821+0.000583664\ttest-logloss:0.546952+0.00190685\n",
            "[186]\ttrain-logloss:0.531755+0.00058053\ttest-logloss:0.546949+0.00190462\n",
            "[187]\ttrain-logloss:0.531505+0.000662639\ttest-logloss:0.546762+0.00187977\n",
            "[188]\ttrain-logloss:0.531361+0.000691824\ttest-logloss:0.546703+0.00186855\n",
            "[189]\ttrain-logloss:0.531263+0.000653829\ttest-logloss:0.546668+0.00190354\n",
            "[190]\ttrain-logloss:0.53117+0.000652099\ttest-logloss:0.546635+0.00190202\n",
            "[191]\ttrain-logloss:0.530988+0.000587778\ttest-logloss:0.54652+0.00194616\n",
            "[192]\ttrain-logloss:0.530885+0.000559457\ttest-logloss:0.546469+0.00196098\n",
            "[193]\ttrain-logloss:0.530808+0.000557429\ttest-logloss:0.546433+0.00197975\n",
            "[194]\ttrain-logloss:0.530629+0.000608319\ttest-logloss:0.546335+0.00194769\n",
            "[195]\ttrain-logloss:0.530507+0.000616187\ttest-logloss:0.546276+0.00196791\n",
            "[196]\ttrain-logloss:0.530388+0.000599205\ttest-logloss:0.546229+0.00196646\n",
            "[197]\ttrain-logloss:0.530232+0.000671095\ttest-logloss:0.54614+0.00193158\n",
            "[198]\ttrain-logloss:0.530056+0.000607042\ttest-logloss:0.546093+0.00196232\n",
            "[199]\ttrain-logloss:0.529899+0.000707256\ttest-logloss:0.545989+0.0018975\n",
            "[200]\ttrain-logloss:0.529844+0.000720756\ttest-logloss:0.545958+0.00188337\n",
            "[201]\ttrain-logloss:0.529707+0.000748453\ttest-logloss:0.545938+0.00187059\n",
            "[202]\ttrain-logloss:0.529517+0.000742935\ttest-logloss:0.54583+0.00186521\n",
            "[203]\ttrain-logloss:0.529394+0.000804912\ttest-logloss:0.545809+0.00186446\n",
            "[204]\ttrain-logloss:0.529237+0.000882391\ttest-logloss:0.545748+0.00182703\n",
            "[205]\ttrain-logloss:0.529151+0.000912594\ttest-logloss:0.545715+0.00181905\n",
            "[206]\ttrain-logloss:0.529045+0.000879857\ttest-logloss:0.545676+0.00184112\n",
            "[207]\ttrain-logloss:0.528878+0.000927112\ttest-logloss:0.545632+0.00181028\n",
            "[208]\ttrain-logloss:0.528805+0.000913785\ttest-logloss:0.545592+0.00180236\n",
            "[209]\ttrain-logloss:0.52873+0.000894851\ttest-logloss:0.545573+0.00178012\n",
            "[210]\ttrain-logloss:0.528641+0.000856147\ttest-logloss:0.545536+0.0018043\n",
            "[211]\ttrain-logloss:0.528471+0.000790582\ttest-logloss:0.545443+0.0018275\n",
            "[212]\ttrain-logloss:0.528403+0.000771424\ttest-logloss:0.545439+0.00183155\n",
            "[213]\ttrain-logloss:0.528237+0.000853194\ttest-logloss:0.545394+0.00177988\n",
            "[214]\ttrain-logloss:0.52808+0.000927449\ttest-logloss:0.545347+0.00176724\n",
            "[215]\ttrain-logloss:0.528029+0.000913933\ttest-logloss:0.545344+0.00177565\n",
            "[216]\ttrain-logloss:0.527901+0.000861147\ttest-logloss:0.545278+0.00182639\n",
            "[217]\ttrain-logloss:0.527729+0.000909445\ttest-logloss:0.545224+0.00184313\n",
            "[218]\ttrain-logloss:0.527621+0.000853871\ttest-logloss:0.545171+0.00185559\n",
            "[219]\ttrain-logloss:0.527532+0.000897345\ttest-logloss:0.545148+0.00189894\n",
            "[220]\ttrain-logloss:0.527461+0.000919101\ttest-logloss:0.545117+0.00192186\n",
            "[221]\ttrain-logloss:0.527403+0.00090543\ttest-logloss:0.545067+0.00194637\n",
            "[222]\ttrain-logloss:0.527305+0.000911219\ttest-logloss:0.545023+0.0019475\n",
            "[223]\ttrain-logloss:0.527218+0.000912168\ttest-logloss:0.544994+0.00196991\n",
            "[224]\ttrain-logloss:0.527145+0.000907897\ttest-logloss:0.544965+0.00197578\n",
            "[225]\ttrain-logloss:0.527053+0.000879203\ttest-logloss:0.544968+0.00196914\n",
            "[226]\ttrain-logloss:0.526933+0.000843612\ttest-logloss:0.544912+0.00196434\n",
            "[227]\ttrain-logloss:0.526888+0.000824988\ttest-logloss:0.544907+0.0019744\n",
            "[228]\ttrain-logloss:0.526782+0.000807179\ttest-logloss:0.544894+0.0019641\n",
            "[229]\ttrain-logloss:0.526638+0.000816281\ttest-logloss:0.544823+0.00193949\n",
            "[230]\ttrain-logloss:0.526502+0.000737537\ttest-logloss:0.544762+0.00198118\n",
            "[231]\ttrain-logloss:0.526393+0.000732\ttest-logloss:0.544745+0.00196953\n",
            "[232]\ttrain-logloss:0.526306+0.000708235\ttest-logloss:0.544699+0.00197349\n",
            "[233]\ttrain-logloss:0.526212+0.000741381\ttest-logloss:0.544639+0.0019475\n",
            "[234]\ttrain-logloss:0.52609+0.000759043\ttest-logloss:0.544577+0.0018968\n",
            "[235]\ttrain-logloss:0.52596+0.000704258\ttest-logloss:0.54455+0.00189007\n",
            "[236]\ttrain-logloss:0.525872+0.000710632\ttest-logloss:0.544529+0.00190351\n",
            "[237]\ttrain-logloss:0.525767+0.00069801\ttest-logloss:0.544531+0.00188196\n",
            "[238]\ttrain-logloss:0.525662+0.000685546\ttest-logloss:0.544483+0.00190226\n",
            "[239]\ttrain-logloss:0.52552+0.000748065\ttest-logloss:0.544423+0.0018668\n",
            "[240]\ttrain-logloss:0.525469+0.00075193\ttest-logloss:0.544401+0.00186824\n",
            "[241]\ttrain-logloss:0.525354+0.00069792\ttest-logloss:0.544378+0.00187881\n",
            "[242]\ttrain-logloss:0.525249+0.000714332\ttest-logloss:0.54437+0.00188243\n",
            "[243]\ttrain-logloss:0.525126+0.000700749\ttest-logloss:0.544369+0.00187386\n",
            "[244]\ttrain-logloss:0.524987+0.000731991\ttest-logloss:0.544303+0.00185141\n",
            "[245]\ttrain-logloss:0.524896+0.000702855\ttest-logloss:0.544261+0.00187849\n",
            "[246]\ttrain-logloss:0.524856+0.000700617\ttest-logloss:0.544229+0.00188796\n",
            "[247]\ttrain-logloss:0.524797+0.000708727\ttest-logloss:0.544202+0.00187869\n",
            "[248]\ttrain-logloss:0.524723+0.000723498\ttest-logloss:0.54416+0.001874\n",
            "[249]\ttrain-logloss:0.524571+0.000710071\ttest-logloss:0.544082+0.00188926\n",
            "[250]\ttrain-logloss:0.524482+0.000692823\ttest-logloss:0.54405+0.00192344\n",
            "[251]\ttrain-logloss:0.524424+0.000685524\ttest-logloss:0.544044+0.00192243\n",
            "[252]\ttrain-logloss:0.524345+0.000649215\ttest-logloss:0.544015+0.00195742\n",
            "[253]\ttrain-logloss:0.524199+0.000659916\ttest-logloss:0.543976+0.00193394\n",
            "[254]\ttrain-logloss:0.524088+0.000625632\ttest-logloss:0.543926+0.00194142\n",
            "[255]\ttrain-logloss:0.524026+0.000654213\ttest-logloss:0.543909+0.00193755\n",
            "[256]\ttrain-logloss:0.523962+0.00062265\ttest-logloss:0.543892+0.00195056\n",
            "[257]\ttrain-logloss:0.5239+0.000629675\ttest-logloss:0.543869+0.00191477\n",
            "[258]\ttrain-logloss:0.523721+0.000593135\ttest-logloss:0.543814+0.0018818\n",
            "[259]\ttrain-logloss:0.523616+0.000578196\ttest-logloss:0.54377+0.00187548\n",
            "[260]\ttrain-logloss:0.523527+0.000569893\ttest-logloss:0.543735+0.00188644\n",
            "[261]\ttrain-logloss:0.523433+0.000601769\ttest-logloss:0.543707+0.00185195\n",
            "[262]\ttrain-logloss:0.523328+0.000583879\ttest-logloss:0.543683+0.0018825\n",
            "[263]\ttrain-logloss:0.523243+0.000582483\ttest-logloss:0.543646+0.00190281\n",
            "[264]\ttrain-logloss:0.523174+0.000588159\ttest-logloss:0.54363+0.00190436\n",
            "[265]\ttrain-logloss:0.523044+0.000630338\ttest-logloss:0.543629+0.00195137\n",
            "[266]\ttrain-logloss:0.522982+0.000607887\ttest-logloss:0.543613+0.00195093\n",
            "[267]\ttrain-logloss:0.522869+0.000644994\ttest-logloss:0.543603+0.00192732\n",
            "[268]\ttrain-logloss:0.522755+0.000612673\ttest-logloss:0.54358+0.00194885\n",
            "[269]\ttrain-logloss:0.522658+0.000640906\ttest-logloss:0.543558+0.00192316\n",
            "[270]\ttrain-logloss:0.522563+0.000609512\ttest-logloss:0.543515+0.00197183\n",
            "[271]\ttrain-logloss:0.522482+0.000635265\ttest-logloss:0.543505+0.00197884\n",
            "[272]\ttrain-logloss:0.522341+0.000635864\ttest-logloss:0.543444+0.00195083\n",
            "[273]\ttrain-logloss:0.52226+0.000615845\ttest-logloss:0.543426+0.00197931\n",
            "[274]\ttrain-logloss:0.522179+0.000623697\ttest-logloss:0.543399+0.00197902\n",
            "[275]\ttrain-logloss:0.52204+0.00069797\ttest-logloss:0.543331+0.00194886\n",
            "[276]\ttrain-logloss:0.52199+0.000694311\ttest-logloss:0.543322+0.00195502\n",
            "[277]\ttrain-logloss:0.521943+0.000674229\ttest-logloss:0.543341+0.00194022\n",
            "[278]\ttrain-logloss:0.521863+0.000679157\ttest-logloss:0.543324+0.00195507\n",
            "[279]\ttrain-logloss:0.52173+0.00069941\ttest-logloss:0.543273+0.0019741\n",
            "[280]\ttrain-logloss:0.52163+0.00074914\ttest-logloss:0.543225+0.0019371\n",
            "[281]\ttrain-logloss:0.521581+0.000737304\ttest-logloss:0.543198+0.00195253\n",
            "[282]\ttrain-logloss:0.521466+0.0007414\ttest-logloss:0.543176+0.00195213\n",
            "[283]\ttrain-logloss:0.521357+0.000764497\ttest-logloss:0.543128+0.00193572\n",
            "[284]\ttrain-logloss:0.521243+0.000750403\ttest-logloss:0.543099+0.00196948\n",
            "[285]\ttrain-logloss:0.521099+0.000722138\ttest-logloss:0.543077+0.00199206\n",
            "[286]\ttrain-logloss:0.52104+0.000705447\ttest-logloss:0.543064+0.00198874\n",
            "[287]\ttrain-logloss:0.520994+0.000697543\ttest-logloss:0.543066+0.00197874\n",
            "[288]\ttrain-logloss:0.520894+0.000673203\ttest-logloss:0.543045+0.00197604\n",
            "[289]\ttrain-logloss:0.520789+0.000631169\ttest-logloss:0.542987+0.00201104\n",
            "[290]\ttrain-logloss:0.520657+0.0006872\ttest-logloss:0.542957+0.00199549\n",
            "[291]\ttrain-logloss:0.520578+0.000677762\ttest-logloss:0.542947+0.00201323\n",
            "[292]\ttrain-logloss:0.520484+0.000693499\ttest-logloss:0.542924+0.00201347\n",
            "[293]\ttrain-logloss:0.520407+0.000709062\ttest-logloss:0.542879+0.00199954\n",
            "[294]\ttrain-logloss:0.520281+0.000747951\ttest-logloss:0.542822+0.00198734\n",
            "[295]\ttrain-logloss:0.52019+0.000702452\ttest-logloss:0.5428+0.00198425\n",
            "[296]\ttrain-logloss:0.5201+0.00071897\ttest-logloss:0.542785+0.00197643\n",
            "[297]\ttrain-logloss:0.520037+0.000702067\ttest-logloss:0.542786+0.00199382\n",
            "[298]\ttrain-logloss:0.519947+0.000663724\ttest-logloss:0.542771+0.00201099\n",
            "[299]\ttrain-logloss:0.51987+0.000710372\ttest-logloss:0.542753+0.00199681\n",
            "[300]\ttrain-logloss:0.519779+0.000723376\ttest-logloss:0.542734+0.00197826\n",
            "[301]\ttrain-logloss:0.519717+0.000696948\ttest-logloss:0.54272+0.00198203\n",
            "[302]\ttrain-logloss:0.519574+0.000615256\ttest-logloss:0.542677+0.00201842\n",
            "[303]\ttrain-logloss:0.519462+0.000612033\ttest-logloss:0.542651+0.00200377\n",
            "[304]\ttrain-logloss:0.519368+0.000647061\ttest-logloss:0.542611+0.00202642\n",
            "[305]\ttrain-logloss:0.519294+0.000648332\ttest-logloss:0.542591+0.00202115\n",
            "[306]\ttrain-logloss:0.519238+0.000656884\ttest-logloss:0.542563+0.00202823\n",
            "[307]\ttrain-logloss:0.519193+0.000637317\ttest-logloss:0.542536+0.00204307\n",
            "[308]\ttrain-logloss:0.519137+0.000627072\ttest-logloss:0.54252+0.00203459\n",
            "[309]\ttrain-logloss:0.519034+0.000595642\ttest-logloss:0.542482+0.00203349\n",
            "[310]\ttrain-logloss:0.518939+0.000597796\ttest-logloss:0.542485+0.00204548\n",
            "[311]\ttrain-logloss:0.518889+0.000582289\ttest-logloss:0.542484+0.0020271\n",
            "[312]\ttrain-logloss:0.518812+0.00060158\ttest-logloss:0.542462+0.00203081\n",
            "[313]\ttrain-logloss:0.518718+0.000595811\ttest-logloss:0.542435+0.00201455\n",
            "[314]\ttrain-logloss:0.518653+0.000630035\ttest-logloss:0.542398+0.00199782\n",
            "[315]\ttrain-logloss:0.518553+0.000660584\ttest-logloss:0.542377+0.00198846\n",
            "[316]\ttrain-logloss:0.518454+0.000680078\ttest-logloss:0.542367+0.00199502\n",
            "[317]\ttrain-logloss:0.518336+0.000618956\ttest-logloss:0.542327+0.00201373\n",
            "[318]\ttrain-logloss:0.518202+0.000587836\ttest-logloss:0.542311+0.00201235\n",
            "[319]\ttrain-logloss:0.518129+0.000568392\ttest-logloss:0.542285+0.00199543\n",
            "[320]\ttrain-logloss:0.518008+0.00057671\ttest-logloss:0.542286+0.00197103\n",
            "[321]\ttrain-logloss:0.517938+0.000554884\ttest-logloss:0.542288+0.00198202\n",
            "[322]\ttrain-logloss:0.517859+0.000515996\ttest-logloss:0.542273+0.00200208\n",
            "[323]\ttrain-logloss:0.517682+0.000515464\ttest-logloss:0.542215+0.00198223\n",
            "[324]\ttrain-logloss:0.517636+0.000518502\ttest-logloss:0.542184+0.00198099\n",
            "[325]\ttrain-logloss:0.517568+0.000539665\ttest-logloss:0.542174+0.00198902\n",
            "[326]\ttrain-logloss:0.517484+0.000532696\ttest-logloss:0.542144+0.00196314\n",
            "[327]\ttrain-logloss:0.517399+0.000542955\ttest-logloss:0.542121+0.00194808\n",
            "[328]\ttrain-logloss:0.517315+0.000532756\ttest-logloss:0.54214+0.00195364\n",
            "[329]\ttrain-logloss:0.517189+0.000528777\ttest-logloss:0.542075+0.00198934\n",
            "[330]\ttrain-logloss:0.517104+0.000572089\ttest-logloss:0.542042+0.00198437\n",
            "[331]\ttrain-logloss:0.516986+0.000598482\ttest-logloss:0.542007+0.00197358\n",
            "[332]\ttrain-logloss:0.516902+0.000630754\ttest-logloss:0.54198+0.00192989\n",
            "[333]\ttrain-logloss:0.516827+0.00060425\ttest-logloss:0.541987+0.00195169\n",
            "[334]\ttrain-logloss:0.516733+0.000566224\ttest-logloss:0.541969+0.00198211\n",
            "[335]\ttrain-logloss:0.516662+0.000619301\ttest-logloss:0.541963+0.001986\n",
            "[336]\ttrain-logloss:0.516613+0.000622606\ttest-logloss:0.541954+0.00197698\n",
            "[337]\ttrain-logloss:0.516533+0.000585809\ttest-logloss:0.541936+0.00199537\n",
            "[338]\ttrain-logloss:0.51645+0.000621332\ttest-logloss:0.541914+0.00201505\n",
            "[339]\ttrain-logloss:0.516358+0.000557261\ttest-logloss:0.541838+0.00206239\n",
            "[340]\ttrain-logloss:0.516304+0.000550804\ttest-logloss:0.54181+0.00205873\n",
            "[341]\ttrain-logloss:0.516212+0.000597288\ttest-logloss:0.541772+0.00203996\n",
            "[342]\ttrain-logloss:0.51612+0.00057933\ttest-logloss:0.541758+0.00205062\n",
            "[343]\ttrain-logloss:0.516047+0.000556708\ttest-logloss:0.541736+0.00206949\n",
            "[344]\ttrain-logloss:0.51596+0.000542838\ttest-logloss:0.541733+0.00206103\n",
            "[345]\ttrain-logloss:0.515876+0.000555628\ttest-logloss:0.541707+0.00206448\n",
            "[346]\ttrain-logloss:0.515744+0.000550571\ttest-logloss:0.541679+0.00205503\n",
            "[347]\ttrain-logloss:0.515661+0.000549513\ttest-logloss:0.541654+0.00206435\n",
            "[348]\ttrain-logloss:0.515627+0.000544735\ttest-logloss:0.541654+0.00207171\n",
            "[349]\ttrain-logloss:0.515582+0.000531501\ttest-logloss:0.541635+0.0020704\n",
            "[350]\ttrain-logloss:0.51546+0.00055158\ttest-logloss:0.541622+0.00204264\n",
            "[351]\ttrain-logloss:0.515357+0.000568521\ttest-logloss:0.54156+0.00202931\n",
            "[352]\ttrain-logloss:0.515256+0.000607104\ttest-logloss:0.541561+0.00201488\n",
            "[353]\ttrain-logloss:0.515185+0.000648327\ttest-logloss:0.541549+0.00202411\n",
            "[354]\ttrain-logloss:0.515108+0.000634623\ttest-logloss:0.541565+0.00202675\n",
            "[355]\ttrain-logloss:0.51504+0.000593274\ttest-logloss:0.541548+0.00202471\n",
            "[356]\ttrain-logloss:0.514971+0.00060788\ttest-logloss:0.541493+0.00200513\n",
            "[357]\ttrain-logloss:0.514892+0.000626756\ttest-logloss:0.541469+0.0020151\n",
            "[358]\ttrain-logloss:0.514797+0.000623052\ttest-logloss:0.541449+0.00201925\n",
            "[359]\ttrain-logloss:0.514736+0.000598113\ttest-logloss:0.541437+0.00203131\n",
            "[360]\ttrain-logloss:0.514651+0.000572775\ttest-logloss:0.541422+0.00204624\n",
            "[361]\ttrain-logloss:0.514511+0.000619363\ttest-logloss:0.541399+0.00202654\n",
            "[362]\ttrain-logloss:0.514467+0.000617125\ttest-logloss:0.541377+0.00203685\n",
            "[363]\ttrain-logloss:0.514329+0.000612841\ttest-logloss:0.541368+0.00203247\n",
            "[364]\ttrain-logloss:0.514261+0.000630297\ttest-logloss:0.54134+0.00203054\n",
            "[365]\ttrain-logloss:0.514143+0.000621793\ttest-logloss:0.541323+0.00205229\n",
            "[366]\ttrain-logloss:0.514028+0.00057438\ttest-logloss:0.541313+0.00208498\n",
            "[367]\ttrain-logloss:0.513962+0.000542944\ttest-logloss:0.5413+0.00209465\n",
            "[368]\ttrain-logloss:0.513849+0.000589333\ttest-logloss:0.541264+0.00210944\n",
            "[369]\ttrain-logloss:0.513766+0.000616522\ttest-logloss:0.54125+0.00208613\n",
            "[370]\ttrain-logloss:0.51371+0.000610343\ttest-logloss:0.541247+0.00208974\n",
            "[371]\ttrain-logloss:0.513639+0.000625119\ttest-logloss:0.541199+0.00209176\n",
            "[372]\ttrain-logloss:0.513541+0.000595799\ttest-logloss:0.541165+0.00210318\n",
            "[373]\ttrain-logloss:0.513454+0.000597234\ttest-logloss:0.541139+0.0021173\n",
            "[374]\ttrain-logloss:0.513366+0.000599022\ttest-logloss:0.54113+0.00211357\n",
            "[375]\ttrain-logloss:0.513262+0.000619808\ttest-logloss:0.54113+0.00212565\n",
            "[376]\ttrain-logloss:0.513117+0.00060025\ttest-logloss:0.541098+0.00212403\n",
            "[377]\ttrain-logloss:0.51305+0.000622603\ttest-logloss:0.541088+0.00212905\n",
            "[378]\ttrain-logloss:0.512962+0.000614152\ttest-logloss:0.541052+0.00211751\n",
            "[379]\ttrain-logloss:0.512911+0.000627249\ttest-logloss:0.541046+0.00213691\n",
            "[380]\ttrain-logloss:0.512857+0.000636157\ttest-logloss:0.541038+0.00213582\n",
            "[381]\ttrain-logloss:0.512755+0.000665008\ttest-logloss:0.541026+0.00214008\n",
            "[382]\ttrain-logloss:0.512652+0.000645417\ttest-logloss:0.541034+0.00212654\n",
            "[383]\ttrain-logloss:0.512536+0.000646638\ttest-logloss:0.541028+0.0021312\n",
            "[384]\ttrain-logloss:0.512427+0.000651068\ttest-logloss:0.541025+0.00214125\n",
            "[385]\ttrain-logloss:0.512371+0.00065707\ttest-logloss:0.541017+0.00215149\n",
            "[386]\ttrain-logloss:0.512323+0.000603499\ttest-logloss:0.541041+0.00214738\n",
            "[387]\ttrain-logloss:0.512214+0.000637172\ttest-logloss:0.541+0.00210751\n",
            "[388]\ttrain-logloss:0.512108+0.000629689\ttest-logloss:0.540953+0.0021391\n",
            "[389]\ttrain-logloss:0.512015+0.000593458\ttest-logloss:0.540927+0.00215421\n",
            "[390]\ttrain-logloss:0.511925+0.00060567\ttest-logloss:0.540931+0.00213673\n",
            "[391]\ttrain-logloss:0.511825+0.000629574\ttest-logloss:0.540948+0.00213071\n",
            "[392]\ttrain-logloss:0.511747+0.000667331\ttest-logloss:0.540932+0.00214687\n",
            "[393]\ttrain-logloss:0.511657+0.000629876\ttest-logloss:0.540923+0.0021434\n",
            "[394]\ttrain-logloss:0.511562+0.000615553\ttest-logloss:0.540907+0.00214162\n",
            "[395]\ttrain-logloss:0.511486+0.000597155\ttest-logloss:0.540921+0.00213749\n",
            "[396]\ttrain-logloss:0.511395+0.00056469\ttest-logloss:0.540909+0.00213317\n",
            "[397]\ttrain-logloss:0.51129+0.000565842\ttest-logloss:0.540888+0.00213495\n",
            "[398]\ttrain-logloss:0.511213+0.000546941\ttest-logloss:0.540866+0.00215328\n",
            "[399]\ttrain-logloss:0.511145+0.000531677\ttest-logloss:0.540853+0.00213832\n",
            "[400]\ttrain-logloss:0.511088+0.000548801\ttest-logloss:0.540826+0.0021059\n",
            "[401]\ttrain-logloss:0.511021+0.000553178\ttest-logloss:0.540815+0.00210565\n",
            "[402]\ttrain-logloss:0.510885+0.000609861\ttest-logloss:0.540763+0.00206153\n",
            "[403]\ttrain-logloss:0.510836+0.000602079\ttest-logloss:0.540769+0.00205139\n",
            "[404]\ttrain-logloss:0.510789+0.000574791\ttest-logloss:0.540788+0.00203378\n",
            "[405]\ttrain-logloss:0.51071+0.00057862\ttest-logloss:0.540767+0.00204477\n",
            "[406]\ttrain-logloss:0.510607+0.000575765\ttest-logloss:0.540755+0.00201745\n",
            "[407]\ttrain-logloss:0.510501+0.000553769\ttest-logloss:0.540737+0.00204889\n",
            "[408]\ttrain-logloss:0.510429+0.000586795\ttest-logloss:0.540726+0.00205142\n",
            "[409]\ttrain-logloss:0.510349+0.000553108\ttest-logloss:0.540701+0.00206555\n",
            "[410]\ttrain-logloss:0.510252+0.000580536\ttest-logloss:0.540666+0.00206988\n",
            "[411]\ttrain-logloss:0.510214+0.000578164\ttest-logloss:0.540651+0.00208042\n",
            "[412]\ttrain-logloss:0.510158+0.000558542\ttest-logloss:0.540642+0.00208849\n",
            "[413]\ttrain-logloss:0.510065+0.000593043\ttest-logloss:0.540609+0.00204779\n",
            "[414]\ttrain-logloss:0.509967+0.000629409\ttest-logloss:0.540564+0.00205418\n",
            "[415]\ttrain-logloss:0.509897+0.000653179\ttest-logloss:0.540528+0.00206935\n",
            "[416]\ttrain-logloss:0.509817+0.000580705\ttest-logloss:0.540524+0.00206622\n",
            "[417]\ttrain-logloss:0.509748+0.000616445\ttest-logloss:0.540518+0.00208091\n",
            "[418]\ttrain-logloss:0.509674+0.000615405\ttest-logloss:0.540521+0.00209348\n",
            "[419]\ttrain-logloss:0.509551+0.000567628\ttest-logloss:0.540501+0.00210924\n",
            "[420]\ttrain-logloss:0.509505+0.000567682\ttest-logloss:0.540507+0.00212234\n",
            "[421]\ttrain-logloss:0.509426+0.000580829\ttest-logloss:0.540517+0.0021309\n",
            "[422]\ttrain-logloss:0.509323+0.000601692\ttest-logloss:0.540489+0.00214736\n",
            "[423]\ttrain-logloss:0.509186+0.000591751\ttest-logloss:0.540416+0.00208774\n",
            "[424]\ttrain-logloss:0.509138+0.000584993\ttest-logloss:0.54041+0.0020811\n",
            "[425]\ttrain-logloss:0.509099+0.000602136\ttest-logloss:0.540411+0.00205638\n",
            "[426]\ttrain-logloss:0.509023+0.000594657\ttest-logloss:0.540402+0.00207583\n",
            "[427]\ttrain-logloss:0.508925+0.000643833\ttest-logloss:0.540389+0.00206975\n",
            "[428]\ttrain-logloss:0.508859+0.000652613\ttest-logloss:0.540374+0.00204542\n",
            "[429]\ttrain-logloss:0.508796+0.000664831\ttest-logloss:0.54034+0.0020571\n",
            "[430]\ttrain-logloss:0.508728+0.000667064\ttest-logloss:0.540326+0.00207578\n",
            "[431]\ttrain-logloss:0.508637+0.000680123\ttest-logloss:0.540309+0.00205609\n",
            "[432]\ttrain-logloss:0.508565+0.000657769\ttest-logloss:0.540303+0.0020519\n",
            "[433]\ttrain-logloss:0.508495+0.000641507\ttest-logloss:0.540287+0.00207432\n",
            "[434]\ttrain-logloss:0.508383+0.000580075\ttest-logloss:0.540299+0.00209126\n",
            "[435]\ttrain-logloss:0.508284+0.000590193\ttest-logloss:0.540308+0.00211586\n",
            "[436]\ttrain-logloss:0.508229+0.00060027\ttest-logloss:0.540297+0.00210999\n",
            "[437]\ttrain-logloss:0.508173+0.000603931\ttest-logloss:0.54029+0.00209734\n",
            "[438]\ttrain-logloss:0.508112+0.000625243\ttest-logloss:0.540282+0.00212565\n",
            "[439]\ttrain-logloss:0.508065+0.00064517\ttest-logloss:0.540258+0.00214007\n",
            "[440]\ttrain-logloss:0.507992+0.000669224\ttest-logloss:0.540254+0.0021589\n",
            "[441]\ttrain-logloss:0.507892+0.000649313\ttest-logloss:0.540215+0.00216644\n",
            "[442]\ttrain-logloss:0.507799+0.000656688\ttest-logloss:0.540212+0.00217116\n",
            "[443]\ttrain-logloss:0.507676+0.00066396\ttest-logloss:0.540209+0.00214575\n",
            "[444]\ttrain-logloss:0.507589+0.000658824\ttest-logloss:0.540187+0.00216174\n",
            "[445]\ttrain-logloss:0.507512+0.000680173\ttest-logloss:0.540166+0.00215877\n",
            "[446]\ttrain-logloss:0.507452+0.000688917\ttest-logloss:0.540164+0.0021894\n",
            "[447]\ttrain-logloss:0.507348+0.000696371\ttest-logloss:0.540158+0.00219799\n",
            "[448]\ttrain-logloss:0.507272+0.000693834\ttest-logloss:0.540172+0.00219177\n",
            "[449]\ttrain-logloss:0.507214+0.000718441\ttest-logloss:0.540183+0.00220427\n",
            "[450]\ttrain-logloss:0.50715+0.000712152\ttest-logloss:0.540155+0.00219061\n",
            "[451]\ttrain-logloss:0.507047+0.000739267\ttest-logloss:0.540133+0.00222065\n",
            "[452]\ttrain-logloss:0.506969+0.000724765\ttest-logloss:0.540121+0.00221832\n",
            "[453]\ttrain-logloss:0.506927+0.00074194\ttest-logloss:0.540105+0.00221847\n",
            "[454]\ttrain-logloss:0.506828+0.000739588\ttest-logloss:0.540072+0.00224365\n",
            "[455]\ttrain-logloss:0.506735+0.000759845\ttest-logloss:0.540064+0.00220457\n",
            "[456]\ttrain-logloss:0.506615+0.000725092\ttest-logloss:0.540027+0.00218873\n",
            "[457]\ttrain-logloss:0.506556+0.000732929\ttest-logloss:0.540015+0.00220436\n",
            "[458]\ttrain-logloss:0.506493+0.00074339\ttest-logloss:0.540007+0.00217586\n",
            "[459]\ttrain-logloss:0.506456+0.000751288\ttest-logloss:0.539998+0.00217298\n",
            "[460]\ttrain-logloss:0.506387+0.000730957\ttest-logloss:0.539986+0.00216007\n",
            "[461]\ttrain-logloss:0.506312+0.000704314\ttest-logloss:0.53997+0.00217132\n",
            "[462]\ttrain-logloss:0.506274+0.00070336\ttest-logloss:0.539967+0.00216473\n",
            "[463]\ttrain-logloss:0.506238+0.000702856\ttest-logloss:0.539973+0.00217037\n",
            "[464]\ttrain-logloss:0.506144+0.000693714\ttest-logloss:0.539978+0.0021763\n",
            "[465]\ttrain-logloss:0.506077+0.00071589\ttest-logloss:0.539959+0.00219396\n",
            "[466]\ttrain-logloss:0.506013+0.000731046\ttest-logloss:0.539969+0.00217531\n",
            "[467]\ttrain-logloss:0.505916+0.000711802\ttest-logloss:0.539979+0.00217393\n",
            "[468]\ttrain-logloss:0.505837+0.00069556\ttest-logloss:0.539976+0.00218072\n",
            "[469]\ttrain-logloss:0.505757+0.000684389\ttest-logloss:0.539951+0.00220429\n",
            "[470]\ttrain-logloss:0.505678+0.000714726\ttest-logloss:0.539917+0.00221372\n",
            "[471]\ttrain-logloss:0.505559+0.000698196\ttest-logloss:0.539908+0.00222193\n",
            "[472]\ttrain-logloss:0.505444+0.000687035\ttest-logloss:0.539886+0.00222356\n",
            "[473]\ttrain-logloss:0.505379+0.000714807\ttest-logloss:0.539873+0.00219797\n",
            "[474]\ttrain-logloss:0.505326+0.000718821\ttest-logloss:0.539864+0.00217837\n",
            "[475]\ttrain-logloss:0.505274+0.00072426\ttest-logloss:0.53988+0.00217456\n",
            "[476]\ttrain-logloss:0.505233+0.0007094\ttest-logloss:0.539869+0.00217554\n",
            "[477]\ttrain-logloss:0.505168+0.000724815\ttest-logloss:0.539862+0.00217411\n",
            "[478]\ttrain-logloss:0.505087+0.000715927\ttest-logloss:0.539878+0.00215874\n",
            "[479]\ttrain-logloss:0.50506+0.000726499\ttest-logloss:0.539863+0.00214379\n",
            "[480]\ttrain-logloss:0.504963+0.00071686\ttest-logloss:0.539881+0.0021411\n",
            "[481]\ttrain-logloss:0.504878+0.000743185\ttest-logloss:0.539841+0.00212286\n",
            "[482]\ttrain-logloss:0.504792+0.000733879\ttest-logloss:0.539828+0.0021078\n",
            "[483]\ttrain-logloss:0.50467+0.000748011\ttest-logloss:0.539778+0.00206569\n",
            "[484]\ttrain-logloss:0.504618+0.000709348\ttest-logloss:0.539768+0.00206098\n",
            "[485]\ttrain-logloss:0.504563+0.000723942\ttest-logloss:0.539759+0.00205134\n",
            "[486]\ttrain-logloss:0.504484+0.000745854\ttest-logloss:0.539729+0.00207054\n",
            "[487]\ttrain-logloss:0.504422+0.000755318\ttest-logloss:0.539717+0.00204613\n",
            "[488]\ttrain-logloss:0.504295+0.000753494\ttest-logloss:0.539675+0.00205948\n",
            "[489]\ttrain-logloss:0.504218+0.000739928\ttest-logloss:0.53966+0.00207455\n",
            "[490]\ttrain-logloss:0.504148+0.000745754\ttest-logloss:0.539644+0.00208362\n",
            "[491]\ttrain-logloss:0.504047+0.000732341\ttest-logloss:0.53964+0.00209168\n",
            "[492]\ttrain-logloss:0.504003+0.000752724\ttest-logloss:0.539635+0.00208343\n",
            "[493]\ttrain-logloss:0.503938+0.000756702\ttest-logloss:0.539627+0.00208024\n",
            "[494]\ttrain-logloss:0.503873+0.000769515\ttest-logloss:0.539627+0.00208446\n",
            "[495]\ttrain-logloss:0.503802+0.000749622\ttest-logloss:0.539621+0.00207168\n",
            "[496]\ttrain-logloss:0.503741+0.000756871\ttest-logloss:0.539611+0.00207778\n",
            "[497]\ttrain-logloss:0.503622+0.000773035\ttest-logloss:0.539592+0.0020998\n",
            "[498]\ttrain-logloss:0.503508+0.000767268\ttest-logloss:0.539563+0.00209328\n",
            "[499]\ttrain-logloss:0.503431+0.000747611\ttest-logloss:0.539551+0.00209572\n",
            "[500]\ttrain-logloss:0.503352+0.000778443\ttest-logloss:0.539536+0.00210251\n",
            "[501]\ttrain-logloss:0.503259+0.000752555\ttest-logloss:0.539507+0.00205921\n",
            "[502]\ttrain-logloss:0.503188+0.00072264\ttest-logloss:0.539504+0.00207243\n",
            "[503]\ttrain-logloss:0.503146+0.00070883\ttest-logloss:0.539502+0.002074\n",
            "[504]\ttrain-logloss:0.503072+0.000688695\ttest-logloss:0.539484+0.00207914\n",
            "[505]\ttrain-logloss:0.503015+0.000705234\ttest-logloss:0.539478+0.0020915\n",
            "[506]\ttrain-logloss:0.502948+0.000683835\ttest-logloss:0.539481+0.00208686\n",
            "[507]\ttrain-logloss:0.502884+0.000699641\ttest-logloss:0.539455+0.00206176\n",
            "[508]\ttrain-logloss:0.502836+0.000722474\ttest-logloss:0.53946+0.0020527\n",
            "[509]\ttrain-logloss:0.502745+0.000763039\ttest-logloss:0.539454+0.00205522\n",
            "[510]\ttrain-logloss:0.502668+0.000763703\ttest-logloss:0.539427+0.00204882\n",
            "[511]\ttrain-logloss:0.502625+0.00076205\ttest-logloss:0.539435+0.00205578\n",
            "[512]\ttrain-logloss:0.502565+0.000750703\ttest-logloss:0.539442+0.00204872\n",
            "[513]\ttrain-logloss:0.502476+0.000755856\ttest-logloss:0.539444+0.00204369\n",
            "[514]\ttrain-logloss:0.502383+0.000787427\ttest-logloss:0.539407+0.00205183\n",
            "[515]\ttrain-logloss:0.50232+0.000798828\ttest-logloss:0.539397+0.00204468\n",
            "[516]\ttrain-logloss:0.502237+0.000813179\ttest-logloss:0.539366+0.00202483\n",
            "[517]\ttrain-logloss:0.502113+0.000834064\ttest-logloss:0.539333+0.00204422\n",
            "[518]\ttrain-logloss:0.502028+0.000833755\ttest-logloss:0.539321+0.0020588\n",
            "[519]\ttrain-logloss:0.501953+0.000806699\ttest-logloss:0.539298+0.00206414\n",
            "[520]\ttrain-logloss:0.501867+0.000808796\ttest-logloss:0.539292+0.00208235\n",
            "[521]\ttrain-logloss:0.501817+0.000789319\ttest-logloss:0.539303+0.0020796\n",
            "[522]\ttrain-logloss:0.501742+0.000768733\ttest-logloss:0.539301+0.00209608\n",
            "[523]\ttrain-logloss:0.501634+0.000731709\ttest-logloss:0.539271+0.00207717\n",
            "[524]\ttrain-logloss:0.501579+0.000709542\ttest-logloss:0.539267+0.00206608\n",
            "[525]\ttrain-logloss:0.501499+0.000686252\ttest-logloss:0.539278+0.00204995\n",
            "[526]\ttrain-logloss:0.501439+0.000708013\ttest-logloss:0.539273+0.00203043\n",
            "[527]\ttrain-logloss:0.501385+0.00070011\ttest-logloss:0.539264+0.00203385\n",
            "[528]\ttrain-logloss:0.50135+0.000681399\ttest-logloss:0.539265+0.00204603\n",
            "[529]\ttrain-logloss:0.501267+0.000677065\ttest-logloss:0.539265+0.00204286\n",
            "[530]\ttrain-logloss:0.501232+0.000679224\ttest-logloss:0.539267+0.00204695\n",
            "[531]\ttrain-logloss:0.501192+0.000704666\ttest-logloss:0.539255+0.00202874\n",
            "[532]\ttrain-logloss:0.501111+0.000639947\ttest-logloss:0.53924+0.00205299\n",
            "[533]\ttrain-logloss:0.50103+0.000682304\ttest-logloss:0.539209+0.00203529\n",
            "[534]\ttrain-logloss:0.50093+0.000714502\ttest-logloss:0.5392+0.00202188\n",
            "[535]\ttrain-logloss:0.500866+0.000718885\ttest-logloss:0.539186+0.00203052\n",
            "[536]\ttrain-logloss:0.500795+0.000730984\ttest-logloss:0.539196+0.00202073\n",
            "[537]\ttrain-logloss:0.500713+0.000724853\ttest-logloss:0.539196+0.00201955\n",
            "[538]\ttrain-logloss:0.500615+0.000740017\ttest-logloss:0.539192+0.00197944\n",
            "[539]\ttrain-logloss:0.500512+0.000744884\ttest-logloss:0.539179+0.00197415\n",
            "[540]\ttrain-logloss:0.50043+0.000783075\ttest-logloss:0.539144+0.00192793\n",
            "[541]\ttrain-logloss:0.500371+0.000756679\ttest-logloss:0.539115+0.00193299\n",
            "[542]\ttrain-logloss:0.500316+0.000718211\ttest-logloss:0.539094+0.00194912\n",
            "[543]\ttrain-logloss:0.50025+0.000678774\ttest-logloss:0.539092+0.00195227\n",
            "[544]\ttrain-logloss:0.500196+0.000664942\ttest-logloss:0.539099+0.00195704\n",
            "[545]\ttrain-logloss:0.500167+0.000663639\ttest-logloss:0.539103+0.00194823\n",
            "[546]\ttrain-logloss:0.500079+0.000697979\ttest-logloss:0.539117+0.00194655\n",
            "[547]\ttrain-logloss:0.499997+0.000712744\ttest-logloss:0.539085+0.00192674\n",
            "[548]\ttrain-logloss:0.49994+0.00070822\ttest-logloss:0.539061+0.00191403\n",
            "[549]\ttrain-logloss:0.499873+0.000715468\ttest-logloss:0.539083+0.00190216\n",
            "[550]\ttrain-logloss:0.499816+0.000720614\ttest-logloss:0.539059+0.00190941\n",
            "[551]\ttrain-logloss:0.499701+0.000727639\ttest-logloss:0.539046+0.00187399\n",
            "[552]\ttrain-logloss:0.499607+0.000706661\ttest-logloss:0.539052+0.00187185\n",
            "[553]\ttrain-logloss:0.499557+0.000698132\ttest-logloss:0.539055+0.00187103\n",
            "[554]\ttrain-logloss:0.499443+0.000673552\ttest-logloss:0.539024+0.00188212\n",
            "[555]\ttrain-logloss:0.49939+0.000644302\ttest-logloss:0.539038+0.00187029\n",
            "[556]\ttrain-logloss:0.499346+0.000659764\ttest-logloss:0.538999+0.00187605\n",
            "[557]\ttrain-logloss:0.499296+0.000679908\ttest-logloss:0.539013+0.00185607\n",
            "[558]\ttrain-logloss:0.499222+0.00069484\ttest-logloss:0.539+0.00185019\n",
            "[559]\ttrain-logloss:0.499167+0.000693522\ttest-logloss:0.538997+0.00183316\n",
            "[560]\ttrain-logloss:0.499105+0.000689408\ttest-logloss:0.538984+0.00185808\n",
            "[561]\ttrain-logloss:0.499006+0.00074384\ttest-logloss:0.538963+0.00183925\n",
            "[562]\ttrain-logloss:0.498967+0.000734455\ttest-logloss:0.538954+0.001836\n",
            "[563]\ttrain-logloss:0.498929+0.000728978\ttest-logloss:0.538946+0.00184914\n",
            "[564]\ttrain-logloss:0.498867+0.000730502\ttest-logloss:0.538939+0.00182719\n",
            "[565]\ttrain-logloss:0.498821+0.000746105\ttest-logloss:0.538954+0.00181365\n",
            "[566]\ttrain-logloss:0.498752+0.000729622\ttest-logloss:0.538977+0.00181224\n",
            "[567]\ttrain-logloss:0.498686+0.000707209\ttest-logloss:0.538991+0.00180538\n",
            "[568]\ttrain-logloss:0.498621+0.000704552\ttest-logloss:0.538996+0.00180745\n",
            "[569]\ttrain-logloss:0.498487+0.000719097\ttest-logloss:0.53899+0.00175103\n",
            "[570]\ttrain-logloss:0.498403+0.000750985\ttest-logloss:0.538988+0.00170696\n",
            "[571]\ttrain-logloss:0.498313+0.00075228\ttest-logloss:0.538976+0.0017178\n",
            "[572]\ttrain-logloss:0.498224+0.000783112\ttest-logloss:0.53897+0.00173847\n",
            "[573]\ttrain-logloss:0.498167+0.000772328\ttest-logloss:0.538972+0.00177021\n",
            "565\n"
          ],
          "name": "stdout"
        }
      ]
    },
    {
      "metadata": {
        "id": "k61DTy-5ZOIB",
        "colab_type": "text"
      },
      "cell_type": "markdown",
      "source": [
        "Train model using the parameters selected and use cross validation to select the appropriate number of rounds. Because this takes so long, save the result as a pickle file. A pickle file is similar to a zipfile - it's compresses objects and saves them locally into a file. This is super helpful for model objects, large lists/dicts, etc. For this example we print verbose output to see how XGBoost works. In practice, you can exclude this because it adds to runtime."
      ]
    },
    {
      "metadata": {
        "id": "40zENeTBjkIg",
        "colab_type": "code",
        "outputId": "a76f4fe5-8d52-4617-eff2-13c5dc0ff46d",
        "colab": {
          "base_uri": "https://localhost:8080/",
          "height": 124
        }
      },
      "cell_type": "code",
      "source": [
        "# load cvresult directly from pickle object to save time\n",
        "filename = '/content/drive/My Drive/wids-brownbag-model-selection-and-eval-101/pickle/cvresult.pickle'\n",
        "with open(filename, 'rb') as cv:\n",
        "    cvresult = pickle.load(cv)\n",
        "\n",
        "model.set_params(n_estimators = cvresult.shape[0]) # reset your n_estimators to cv value "
      ],
      "execution_count": 0,
      "outputs": [
        {
          "output_type": "execute_result",
          "data": {
            "text/plain": [
              "XGBClassifier(base_score=0.5, booster='gbtree', colsample_bylevel=1,\n",
              "       colsample_bytree=0.8, gamma=0, learning_rate=0.15, max_delta_step=0,\n",
              "       max_depth=5, min_child_weight=6, missing=None, n_estimators=565,\n",
              "       n_jobs=1, nthread=4, objective='binary:logistic', random_state=0,\n",
              "       reg_alpha=0, reg_lambda=1, scale_pos_weight=1, seed=42, silent=True,\n",
              "       subsample=0.8)"
            ]
          },
          "metadata": {
            "tags": []
          },
          "execution_count": 41
        }
      ]
    },
    {
      "metadata": {
        "colab_type": "code",
        "id": "IWNLTl3hx-SH",
        "outputId": "e839f979-7f5c-409c-91ba-f54ae7ca3bae",
        "colab": {
          "base_uri": "https://localhost:8080/",
          "height": 124
        }
      },
      "cell_type": "code",
      "source": [
        "#Fit the algorithm on the data\n",
        "model.fit(x_inputs_train, y_input_train, eval_metric = evalmetric)"
      ],
      "execution_count": 0,
      "outputs": [
        {
          "output_type": "execute_result",
          "data": {
            "text/plain": [
              "XGBClassifier(base_score=0.5, booster='gbtree', colsample_bylevel=1,\n",
              "       colsample_bytree=0.8, gamma=0, learning_rate=0.15, max_delta_step=0,\n",
              "       max_depth=5, min_child_weight=6, missing=None, n_estimators=565,\n",
              "       n_jobs=1, nthread=4, objective='binary:logistic', random_state=0,\n",
              "       reg_alpha=0, reg_lambda=1, scale_pos_weight=1, seed=42, silent=True,\n",
              "       subsample=0.8)"
            ]
          },
          "metadata": {
            "tags": []
          },
          "execution_count": 42
        }
      ]
    },
    {
      "metadata": {
        "id": "3IRqhYp-xLue",
        "colab_type": "code",
        "outputId": "01479a35-612f-4a98-85b7-87a92c63ae40",
        "colab": {
          "base_uri": "https://localhost:8080/",
          "height": 52
        }
      },
      "cell_type": "code",
      "source": [
        "print(x_inputs_train.shape)\n",
        "print(x_inputs_test.shape)"
      ],
      "execution_count": 0,
      "outputs": [
        {
          "output_type": "stream",
          "text": [
            "(124197, 161)\n",
            "(53228, 161)\n"
          ],
          "name": "stdout"
        }
      ]
    },
    {
      "metadata": {
        "id": "DzTCsZljTPFP",
        "colab_type": "code",
        "outputId": "f585db1f-2d7c-4490-d466-6a04eb63d205",
        "colab": {
          "base_uri": "https://localhost:8080/",
          "height": 124
        }
      },
      "cell_type": "code",
      "source": [
        "#Predict training set:\n",
        "dtrain_predictions = model.predict(x_inputs_train)\n",
        "dtrain_predprob = model.predict_proba(x_inputs_train)[:,1]\n",
        "\n",
        "#Predict test set:\n",
        "dtest_predictions = model.predict(x_inputs_test)\n",
        "dtest_predprob = model.predict_proba(x_inputs_test)[:,1]\n",
        "\n",
        "#Print model report:\n",
        "print(\"\\nModel Report\")\n",
        "print(\"Accuracy (Train): %.4g\" % accuracy_score(y_input_train.values, \n",
        "                                                 dtrain_predictions))\n",
        "fpr, tpr, thresholds = roc_curve(y_input_train, dtrain_predprob)\n",
        "print(\"AUC Score (Train): %f\" % auc(fpr, tpr))\n",
        "print(\"Accuracy (Test): %.4g\" % accuracy_score(y_input_test.values, \n",
        "                                                 dtest_predictions))\n",
        "fpr, tpr, thresholds = roc_curve(y_input_test, dtest_predprob)\n",
        "print(\"AUC Score (Test): %f\" % auc(fpr, tpr))"
      ],
      "execution_count": 0,
      "outputs": [
        {
          "output_type": "stream",
          "text": [
            "\n",
            "Model Report\n",
            "Accuracy (Train): 0.7467\n",
            "AUC Score (Train): 0.790472\n",
            "Accuracy (Test): 0.7262\n",
            "AUC Score (Test): 0.747168\n"
          ],
          "name": "stdout"
        }
      ]
    },
    {
      "metadata": {
        "id": "f4AZr3lZRrdT",
        "colab_type": "code",
        "outputId": "bb10c12f-8d4d-4eac-d619-81ba90cb2fc9",
        "colab": {
          "base_uri": "https://localhost:8080/",
          "height": 294
        }
      },
      "cell_type": "code",
      "source": [
        "feat_imp = xgb.plot_importance(model, importance_type = 'gain', max_num_features=15)"
      ],
      "execution_count": 0,
      "outputs": [
        {
          "output_type": "display_data",
          "data": {
            "image/png": "[encoded data removed]",
            "text/plain": [
              "<Figure size 432x288 with 1 Axes>"
            ]
          },
          "metadata": {
            "tags": []
          }
        }
      ]
    },
    {
      "metadata": {
        "id": "M4-NHGlnejk7",
        "colab_type": "code",
        "colab": {}
      },
      "cell_type": "code",
      "source": [
        "# continue with this until you get a good fit for min child weight and max depth\n",
        "param_test1 = {\n",
        " 'max_depth':[2,5],\n",
        " 'min_child_weight':[2,5]\n",
        "}\n",
        "\n",
        "gsearch1 = GridSearchCV(estimator = xgb.XGBClassifier( learning_rate =0.15,\n",
        "                                                  n_estimators=cvresult.shape[0], # use cv result\n",
        "                                                  max_depth=5,\n",
        "                                                  min_child_weight=1, \n",
        "                                                  gamma=0, \n",
        "                                                  subsample=0.8, \n",
        "                                                  colsample_bytree=0.8,\n",
        "                                                  objective= 'binary:logistic', \n",
        "                                                  nthread=4,\n",
        "                                                  scale_pos_weight=1,\n",
        "                                                  seed=42), \n",
        "                        param_grid = param_test1, \n",
        "                        scoring='roc_auc',\n",
        "                        n_jobs=4,\n",
        "                        iid=False,\n",
        "                        cv=3)\n",
        "\n",
        "gsearch1.fit(x_inputs_train, y_input_train)\n",
        "gsearch1.best_estimator_, gsearch1.best_params_, gsearch1.best_score_"
      ],
      "execution_count": 0,
      "outputs": []
    },
    {
      "metadata": {
        "id": "6ofrqI_YeyPG",
        "colab_type": "code",
        "colab": {}
      },
      "cell_type": "code",
      "source": [
        "gridsearch1_params = gsearch1.best_params_\n",
        "gridsearch1_params"
      ],
      "execution_count": 0,
      "outputs": []
    },
    {
      "metadata": {
        "id": "5yKSgPPrejk9",
        "colab_type": "code",
        "colab": {}
      },
      "cell_type": "code",
      "source": [
        "# tune gamma, using optimal max_depth and min_child_weight from above\n",
        "param_test2 = {\n",
        " 'gamma':[0, .25, .5]\n",
        "}\n",
        "gsearch2 = GridSearchCV(estimator = XGBClassifier(learning_rate =0.15,\n",
        "                                                  n_estimators=cvresult.shape[0], # use cv result\n",
        "                                                  max_depth=gridsearch1_params['max_depth'], # use gridsearch1 cv result\n",
        "                                                  min_child_weight=gridsearch1_params['min_child_weight'], # use gridsearch1 cv result\n",
        "                                                  gamma=0,\n",
        "                                                  subsample=0.8,\n",
        "                                                  colsample_bytree=0.8,\n",
        "                                                  objective= 'binary:logistic',\n",
        "                                                  nthread=4,\n",
        "                                                  scale_pos_weight=1,\n",
        "                                                  seed=42), \n",
        "                        param_grid = param_test3,\n",
        "                        scoring='roc_auc',\n",
        "                        n_jobs=4,\n",
        "                        iid=False, \n",
        "                        cv=3)\n",
        "\n",
        "gsearch2.fit(x_inputs_train, y_input_train)\n",
        "gsearch2.best_estimator_, gsearch2.best_params_, gsearch2.best_score_\n"
      ],
      "execution_count": 0,
      "outputs": []
    },
    {
      "metadata": {
        "id": "PJ6A0H-SejlA",
        "colab_type": "code",
        "colab": {}
      },
      "cell_type": "code",
      "source": [
        "# tune subsample and colsample by tree\n",
        "param_test3 = {\n",
        " 'subsample':[.7,.9],\n",
        " 'colsample_bytree':[.7,.9]\n",
        "}\n",
        "gsearch3 = GridSearchCV(estimator = xgb.XGBClassifier(learning_rate =0.15,\n",
        "                                                  n_estimators=cvresult.shape[0], # use cv result\n",
        "                                                  max_depth=gridsearch1_params['max_depth'], # use gridsearch1 cv result\n",
        "                                                  min_child_weight=gridsearch1_params['min_child_weight'], # use gridsearch1 cv result\n",
        "                                                  gamma=gsearch2.best_params_['gamma'],\n",
        "                                                  subsample=0.8,\n",
        "                                                  colsample_bytree=0.8,\n",
        "                                                  objective= 'binary:logistic',\n",
        "                                                  nthread=4, \n",
        "                                                  scale_pos_weight=1,\n",
        "                                                  seed=42), \n",
        "                        param_grid = param_test3,\n",
        "                        scoring='roc_auc',\n",
        "                        n_jobs=4,\n",
        "                        iid=False, \n",
        "                        cv=3)\n",
        "\n",
        "gsearch3.fit(x_inputs_train, y_input_train)\n",
        "gsearch3.best_estimator_, gsearch3.best_params_, gsearch3.best_score_\n"
      ],
      "execution_count": 0,
      "outputs": []
    },
    {
      "metadata": {
        "id": "3NHsZCz6gX6Q",
        "colab_type": "code",
        "colab": {}
      },
      "cell_type": "code",
      "source": [
        "gridsearch3_params = gsearch3.best_params_\n",
        "gridsearch3_params"
      ],
      "execution_count": 0,
      "outputs": []
    },
    {
      "metadata": {
        "id": "-ZpFCTo8ejlE",
        "colab_type": "code",
        "colab": {}
      },
      "cell_type": "code",
      "source": [
        "# tune regularization parameter\n",
        "param_test4 = {\n",
        " 'reg_alpha':[0, 0.005, 0.05]\n",
        "}\n",
        "gsearch4 = GridSearchCV(estimator = xgb.XGBClassifier(learning_rate =0.15,\n",
        "                                                  n_estimators=cvresult.shape[0], # use cv result\n",
        "                                                  max_depth=gridsearch1_params['max_depth'], # use gridsearch1 cv result\n",
        "                                                  min_child_weight=gridsearch1_params['min_child_weight'], # use gridsearch1 cv result\n",
        "                                                  gamma=gsearch2.best_params_['gamma'],\n",
        "                                                  subsample=gridsearch3_params['subsample'],\n",
        "                                                  colsample_bytree=gridsearch3_params['colsample_bytree'],\n",
        "                                                  objective= 'binary:logistic',\n",
        "                                                  nthread=4, \n",
        "                                                  scale_pos_weight=1,\n",
        "                                                  seed=42), \n",
        "                        param_grid = param_test4,\n",
        "                        scoring='roc_auc',\n",
        "                        n_jobs=4,\n",
        "                        iid=False, \n",
        "                        cv=3)\n",
        "gsearch4.fit(x_inputs_train, y_input_train)\n",
        "gsearch4.best_estimator_, gsearch4.best_params_, gsearch4.best_score_"
      ],
      "execution_count": 0,
      "outputs": []
    },
    {
      "metadata": {
        "id": "npskVVOVejlH",
        "colab_type": "code",
        "colab": {}
      },
      "cell_type": "code",
      "source": [
        "# fit model again and tweak learning rate\n",
        "xgb2 = xgb.XGBClassifier( learning_rate =0.15,\n",
        "                      n_estimators=cvresult.shape[0], # use cv result\n",
        "                      max_depth=gridsearch1_params['max_depth'], # use gridsearch1 cv result\n",
        "                      min_child_weight=gridsearch1_params['min_child_weight'], # use gridsearch1 cv result\n",
        "                      gamma=gsearch2.best_params_['gamma'],\n",
        "                      subsample=gridsearch3_params['subsample'],\n",
        "                      colsample_bytree=gridsearch3_params['colsample_bytree'],\n",
        "                      objective= 'binary:logistic',\n",
        "                      reg_alpha = gsearch4.best_params['reg_alpha'],\n",
        "                      nthread=4, \n",
        "                      scale_pos_weight=1,\n",
        "                      seed=42)"
      ],
      "execution_count": 0,
      "outputs": []
    },
    {
      "metadata": {
        "id": "Uefx7r3V-FN6",
        "colab_type": "code",
        "colab": {}
      },
      "cell_type": "code",
      "source": [
        "filename = '/content/drive/My Drive/wids-brownbag-model-selection-and-eval-101/pickle/xgb2.pickle'\n",
        "pickle.dump(xgb2, open(filename,'wb'))"
      ],
      "execution_count": 0,
      "outputs": []
    },
    {
      "metadata": {
        "id": "DFdiBuF5iFTk",
        "colab_type": "code",
        "colab": {}
      },
      "cell_type": "code",
      "source": [
        "# load cvresult directly from pickle object to save time\n",
        "filename = '/content/drive/My Drive/wids-brownbag-model-selection-and-eval-101/pickle/xgb2.pickle'\n",
        "with open(filename, 'rb') as x:\n",
        "    xgb2 = pickle.load(x)\n",
        "\n",
        "    \n",
        "modelfit(model = xgb2, \n",
        "         x_inputs_train = x_inputs_train, \n",
        "         predictors = predictors,\n",
        "         y_input_train = y_input_train,\n",
        "         x_input_test = x_input_test,\n",
        "         y_input_test = y_input_test,) #function"
      ],
      "execution_count": 0,
      "outputs": []
    },
    {
      "metadata": {
        "id": "MBGJu4uKejjx",
        "colab_type": "text"
      },
      "cell_type": "markdown",
      "source": [
        "**Model Interpretation**\n",
        "- Now that we have the models, it's time to interpret what they mean! This means answering questions like: which variables are most important to the model? Which variables are least important to the model? Does anything surprise you about the results?\n",
        "- What are the effects of each of the variables in the model? What is the interpretation?"
      ]
    },
    {
      "metadata": {
        "id": "GTXWAuKvejkD",
        "colab_type": "text"
      },
      "cell_type": "markdown",
      "source": [
        "Always look at the important variables for each model fit. If an unexpected variable is extremely important, be sure to try and understand why and check null values. If nulls are biased in one direction of a certain feature, it can increase importance of unexpected variables."
      ]
    },
    {
      "metadata": {
        "id": "lFlHo3IHejkG",
        "colab_type": "text"
      },
      "cell_type": "markdown",
      "source": [
        "**Using the SHAP package to help explain your model**\n",
        "\n",
        "In many cases, such as explaining a model to client or audience. A good way to do this is through the SHAP package. SHAP assigns each feature and importance value for a particular prediction.\n",
        "\n",
        "SHAP values represent a feature's responsibility for a change in the model output."
      ]
    },
    {
      "metadata": {
        "id": "yWFs1bCWejkH",
        "colab_type": "code",
        "outputId": "a6dc88c7-3b15-4a8d-fcf5-9397a5c0c5b4",
        "colab": {
          "base_uri": "https://localhost:8080/",
          "height": 35
        }
      },
      "cell_type": "code",
      "source": [
        "## refit smaller model with 10 most important random forest features and compute shap values\n",
        "X_explain = X_train[['inspection_type_grp_canvassreinspection', 'inspection_recency_in_months', 'inspection_type_grp_canvass', \n",
        "                     'inspection_type_grp_license', 'latitude','longitude','inspection_type_grp_licensereinspection',\n",
        "                     'inspection_type_grp_complaintreinspection', 'facility_type_grp_restaurant', 'facility_type_grp_school']]\n",
        "\n",
        "X_explain_test = X_test[['inspection_type_grp_canvassreinspection', 'inspection_recency_in_months', 'inspection_type_grp_canvass', \n",
        "                     'inspection_type_grp_license', 'latitude','longitude','inspection_type_grp_licensereinspection',\n",
        "                     'inspection_type_grp_complaintreinspection', 'facility_type_grp_restaurant', 'facility_type_grp_school']] \n",
        "rfExplain =  RandomForestClassifier(n_estimators = 100, oob_score = True, n_jobs = -1,random_state =42,\n",
        "                                    max_features = \"auto\", min_samples_leaf = 10)\n",
        "rfExplain.fit(X_explain, y_train)\n",
        "print('random forest accuracy: ', accuracy_score(y_test, rfExplain.predict(X_explain_test)))"
      ],
      "execution_count": 0,
      "outputs": [
        {
          "output_type": "stream",
          "text": [
            "random forest accuracy:  0.714567520853686\n"
          ],
          "name": "stdout"
        }
      ]
    },
    {
      "metadata": {
        "id": "yAh3J2DpejkQ",
        "colab_type": "code",
        "colab": {}
      },
      "cell_type": "code",
      "source": [
        "explainer = shap.TreeExplainer(rfExplain)\n",
        "shap_values = explainer.shap_values(X_explain_test)\n",
        "shap.summary_plot(shap_values[0], X_explain_test)"
      ],
      "execution_count": 0,
      "outputs": []
    },
    {
      "metadata": {
        "id": "okxUGuk4ejkW",
        "colab_type": "code",
        "colab": {}
      },
      "cell_type": "code",
      "source": [
        "shap.dependence_plot('facility_type_grp_restaurant', \n",
        "                     shap_values[0], X_explain_test)\n",
        "shap.dependence_plot('inspection_recency_in_months', \n",
        "                     shap_values[0], X_explain_test)\n",
        "# automatically grabs the variable with highest interaction "
      ],
      "execution_count": 0,
      "outputs": []
    },
    {
      "metadata": {
        "id": "H8Lq_5aFejkb",
        "colab_type": "code",
        "colab": {}
      },
      "cell_type": "code",
      "source": [
        "# show impact of variables on output value for a single observation\n",
        "shap.initjs()\n",
        "shap.force_plot(shap.TreeExplainer(rfExplain).expected_value[0], \n",
        "                shap_values[0][0,:], X_explain_test.iloc[0,:])"
      ],
      "execution_count": 0,
      "outputs": []
    },
    {
      "metadata": {
        "id": "Ud25wkXVV5oR",
        "colab_type": "code",
        "colab": {}
      },
      "cell_type": "code",
      "source": [
        "filename = '/content/drive/My Drive/wids-brownbag-model-selection-and-eval-101/pickle/shap_values.pickle'\n",
        "pickle.dump(shap_values, open(filename,'wb'))"
      ],
      "execution_count": 0,
      "outputs": []
    },
    {
      "metadata": {
        "id": "qurspt2-ejlK",
        "colab_type": "text"
      },
      "cell_type": "markdown",
      "source": [
        "**Questions?**\n",
        "- Do you have questions, different ways to approach model selection, model evaluation, or parameter tuning?"
      ]
    }
  ]
}